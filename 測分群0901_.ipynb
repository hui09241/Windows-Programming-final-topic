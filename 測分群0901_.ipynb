{
  "nbformat": 4,
  "nbformat_minor": 0,
  "metadata": {
    "colab": {
      "name": "測分群0901_.ipynb",
      "provenance": [],
      "collapsed_sections": [],
      "include_colab_link": true
    },
    "kernelspec": {
      "name": "python3",
      "display_name": "Python 3"
    }
  },
  "cells": [
    {
      "cell_type": "markdown",
      "metadata": {
        "id": "view-in-github",
        "colab_type": "text"
      },
      "source": [
        "<a href=\"https://colab.research.google.com/github/hui09241/Windows-Programming-final-topic/blob/master/%E6%B8%AC%E5%88%86%E7%BE%A40901_.ipynb\" target=\"_parent\"><img src=\"https://colab.research.google.com/assets/colab-badge.svg\" alt=\"Open In Colab\"/></a>"
      ]
    },
    {
      "cell_type": "markdown",
      "metadata": {
        "id": "kR3nObAE9tKs",
        "colab_type": "text"
      },
      "source": [
        "# 安裝必要"
      ]
    },
    {
      "cell_type": "code",
      "metadata": {
        "id": "XSDmYPM-NtrA",
        "colab_type": "code",
        "colab": {
          "base_uri": "https://localhost:8080/",
          "height": 1000
        },
        "outputId": "9b0b40a2-c185-4126-c4f6-124394e04df8"
      },
      "source": [
        "!pip install pydrive\n",
        "!pip install scikit-learn==0.20.0\n",
        "!pip show scikit-learn # to see which version and where scikit-learn is installed\n",
        "!pip freeze # to see all packages installed in the active virtualenv\n",
        "\"import sklearn; sklearn.show_versions()\""
      ],
      "execution_count": null,
      "outputs": [
        {
          "output_type": "stream",
          "text": [
            "Requirement already satisfied: pydrive in /usr/local/lib/python3.6/dist-packages (1.3.1)\n",
            "Requirement already satisfied: PyYAML>=3.0 in /usr/local/lib/python3.6/dist-packages (from pydrive) (3.13)\n",
            "Requirement already satisfied: oauth2client>=4.0.0 in /usr/local/lib/python3.6/dist-packages (from pydrive) (4.1.3)\n",
            "Requirement already satisfied: google-api-python-client>=1.2 in /usr/local/lib/python3.6/dist-packages (from pydrive) (1.7.12)\n",
            "Requirement already satisfied: pyasn1>=0.1.7 in /usr/local/lib/python3.6/dist-packages (from oauth2client>=4.0.0->pydrive) (0.4.8)\n",
            "Requirement already satisfied: six>=1.6.1 in /usr/local/lib/python3.6/dist-packages (from oauth2client>=4.0.0->pydrive) (1.15.0)\n",
            "Requirement already satisfied: httplib2>=0.9.1 in /usr/local/lib/python3.6/dist-packages (from oauth2client>=4.0.0->pydrive) (0.17.4)\n",
            "Requirement already satisfied: rsa>=3.1.4 in /usr/local/lib/python3.6/dist-packages (from oauth2client>=4.0.0->pydrive) (4.6)\n",
            "Requirement already satisfied: pyasn1-modules>=0.0.5 in /usr/local/lib/python3.6/dist-packages (from oauth2client>=4.0.0->pydrive) (0.2.8)\n",
            "Requirement already satisfied: google-auth-httplib2>=0.0.3 in /usr/local/lib/python3.6/dist-packages (from google-api-python-client>=1.2->pydrive) (0.0.4)\n",
            "Requirement already satisfied: google-auth>=1.4.1 in /usr/local/lib/python3.6/dist-packages (from google-api-python-client>=1.2->pydrive) (1.17.2)\n",
            "Requirement already satisfied: uritemplate<4dev,>=3.0.0 in /usr/local/lib/python3.6/dist-packages (from google-api-python-client>=1.2->pydrive) (3.0.1)\n",
            "Requirement already satisfied: cachetools<5.0,>=2.0.0 in /usr/local/lib/python3.6/dist-packages (from google-auth>=1.4.1->google-api-python-client>=1.2->pydrive) (4.1.1)\n",
            "Requirement already satisfied: setuptools>=40.3.0 in /usr/local/lib/python3.6/dist-packages (from google-auth>=1.4.1->google-api-python-client>=1.2->pydrive) (49.6.0)\n",
            "Collecting scikit-learn==0.20.0\n",
            "\u001b[?25l  Downloading https://files.pythonhosted.org/packages/0c/b2/05be9b6da9ae4a4c54f537be22e95833f722742a02b1e355fdc09363877c/scikit_learn-0.20.0-cp36-cp36m-manylinux1_x86_64.whl (5.3MB)\n",
            "\u001b[K     |████████████████████████████████| 5.3MB 2.0MB/s \n",
            "\u001b[?25hRequirement already satisfied: scipy>=0.13.3 in /usr/local/lib/python3.6/dist-packages (from scikit-learn==0.20.0) (1.4.1)\n",
            "Requirement already satisfied: numpy>=1.8.2 in /usr/local/lib/python3.6/dist-packages (from scikit-learn==0.20.0) (1.18.5)\n",
            "Installing collected packages: scikit-learn\n",
            "  Found existing installation: scikit-learn 0.22.2.post1\n",
            "    Uninstalling scikit-learn-0.22.2.post1:\n",
            "      Successfully uninstalled scikit-learn-0.22.2.post1\n",
            "Successfully installed scikit-learn-0.20.0\n",
            "Name: scikit-learn\n",
            "Version: 0.20.0\n",
            "Summary: A set of python modules for machine learning and data mining\n",
            "Home-page: http://scikit-learn.org\n",
            "Author: None\n",
            "Author-email: None\n",
            "License: new BSD\n",
            "Location: /usr/local/lib/python3.6/dist-packages\n",
            "Requires: numpy, scipy\n",
            "Required-by: yellowbrick, umap-learn, textgenrnn, sklearn, sklearn-pandas, mlxtend, lucid, lightgbm, librosa, imbalanced-learn, fancyimpute\n",
            "absl-py==0.8.1\n",
            "alabaster==0.7.12\n",
            "albumentations==0.1.12\n",
            "altair==4.1.0\n",
            "argon2-cffi==20.1.0\n",
            "asgiref==3.2.10\n",
            "astor==0.8.1\n",
            "astropy==4.0.1.post1\n",
            "astunparse==1.6.3\n",
            "atari-py==0.2.6\n",
            "atomicwrites==1.4.0\n",
            "attrs==20.1.0\n",
            "audioread==2.1.8\n",
            "autograd==1.3\n",
            "Babel==2.8.0\n",
            "backcall==0.2.0\n",
            "beautifulsoup4==4.6.3\n",
            "bleach==3.1.5\n",
            "blis==0.4.1\n",
            "bokeh==2.1.1\n",
            "boto==2.49.0\n",
            "boto3==1.14.48\n",
            "botocore==1.17.48\n",
            "Bottleneck==1.3.2\n",
            "branca==0.4.1\n",
            "bs4==0.0.1\n",
            "CacheControl==0.12.6\n",
            "cachetools==4.1.1\n",
            "catalogue==1.0.0\n",
            "certifi==2020.6.20\n",
            "cffi==1.14.2\n",
            "chainer==7.4.0\n",
            "chardet==3.0.4\n",
            "click==7.1.2\n",
            "cloudpickle==1.3.0\n",
            "cmake==3.12.0\n",
            "cmdstanpy==0.4.0\n",
            "colorlover==0.3.0\n",
            "community==1.0.0b1\n",
            "contextlib2==0.5.5\n",
            "convertdate==2.2.1\n",
            "coverage==3.7.1\n",
            "coveralls==0.5\n",
            "crcmod==1.7\n",
            "cufflinks==0.17.3\n",
            "cvxopt==1.2.5\n",
            "cvxpy==1.0.31\n",
            "cycler==0.10.0\n",
            "cymem==2.0.3\n",
            "Cython==0.29.21\n",
            "daft==0.0.4\n",
            "dask==2.12.0\n",
            "dataclasses==0.7\n",
            "datascience==0.10.6\n",
            "debugpy==1.0.0rc2\n",
            "decorator==4.4.2\n",
            "defusedxml==0.6.0\n",
            "descartes==1.1.0\n",
            "dill==0.3.2\n",
            "distributed==1.25.3\n",
            "Django==3.1\n",
            "dlib==19.18.0\n",
            "dm-tree==0.1.5\n",
            "docopt==0.6.2\n",
            "docutils==0.15.2\n",
            "dopamine-rl==1.0.5\n",
            "earthengine-api==0.1.232\n",
            "easydict==1.9\n",
            "ecos==2.0.7.post1\n",
            "editdistance==0.5.3\n",
            "en-core-web-sm==2.2.5\n",
            "entrypoints==0.3\n",
            "ephem==3.7.7.1\n",
            "et-xmlfile==1.0.1\n",
            "fa2==0.3.5\n",
            "fancyimpute==0.4.3\n",
            "fastai==1.0.61\n",
            "fastdtw==0.3.4\n",
            "fastprogress==1.0.0\n",
            "fastrlock==0.5\n",
            "fbprophet==0.6\n",
            "feather-format==0.4.1\n",
            "filelock==3.0.12\n",
            "firebase-admin==4.1.0\n",
            "fix-yahoo-finance==0.0.22\n",
            "Flask==1.1.2\n",
            "folium==0.8.3\n",
            "future==0.16.0\n",
            "gast==0.3.3\n",
            "GDAL==2.2.2\n",
            "gdown==3.6.4\n",
            "gensim==3.6.0\n",
            "geographiclib==1.50\n",
            "geopy==1.17.0\n",
            "gin-config==0.3.0\n",
            "glob2==0.7\n",
            "google==2.0.3\n",
            "google-api-core==1.16.0\n",
            "google-api-python-client==1.7.12\n",
            "google-auth==1.17.2\n",
            "google-auth-httplib2==0.0.4\n",
            "google-auth-oauthlib==0.4.1\n",
            "google-cloud-bigquery==1.21.0\n",
            "google-cloud-core==1.0.3\n",
            "google-cloud-datastore==1.8.0\n",
            "google-cloud-firestore==1.7.0\n",
            "google-cloud-language==1.2.0\n",
            "google-cloud-storage==1.18.1\n",
            "google-cloud-translate==1.5.0\n",
            "google-colab==1.0.0\n",
            "google-pasta==0.2.0\n",
            "google-resumable-media==0.4.1\n",
            "googleapis-common-protos==1.52.0\n",
            "googledrivedownloader==0.4\n",
            "graphviz==0.10.1\n",
            "grpcio==1.31.0\n",
            "gspread==3.0.1\n",
            "gspread-dataframe==3.0.8\n",
            "gym==0.17.2\n",
            "h5py==2.10.0\n",
            "HeapDict==1.0.1\n",
            "holidays==0.9.12\n",
            "holoviews==1.13.3\n",
            "html5lib==1.0.1\n",
            "httpimport==0.5.18\n",
            "httplib2==0.17.4\n",
            "httplib2shim==0.0.3\n",
            "humanize==0.5.1\n",
            "hyperopt==0.1.2\n",
            "ideep4py==2.0.0.post3\n",
            "idna==2.10\n",
            "image==1.5.32\n",
            "imageio==2.4.1\n",
            "imagesize==1.2.0\n",
            "imbalanced-learn==0.4.3\n",
            "imblearn==0.0\n",
            "imgaug==0.2.9\n",
            "importlib-metadata==1.7.0\n",
            "imutils==0.5.3\n",
            "inflect==2.1.0\n",
            "iniconfig==1.0.1\n",
            "intel-openmp==2020.0.133\n",
            "intervaltree==2.1.0\n",
            "ipykernel==4.10.1\n",
            "ipython==5.5.0\n",
            "ipython-genutils==0.2.0\n",
            "ipython-sql==0.3.9\n",
            "ipywidgets==7.5.1\n",
            "itsdangerous==1.1.0\n",
            "jax==0.1.75\n",
            "jaxlib==0.1.52\n",
            "jdcal==1.4.1\n",
            "jedi==0.17.2\n",
            "jieba==0.42.1\n",
            "Jinja2==2.11.2\n",
            "jmespath==0.10.0\n",
            "joblib==0.16.0\n",
            "jpeg4py==0.1.4\n",
            "jsonschema==2.6.0\n",
            "jupyter==1.0.0\n",
            "jupyter-client==5.3.5\n",
            "jupyter-console==5.2.0\n",
            "jupyter-core==4.6.3\n",
            "kaggle==1.5.6\n",
            "kapre==0.1.3.1\n",
            "Keras==2.4.3\n",
            "Keras-Preprocessing==1.1.2\n",
            "keras-vis==0.4.1\n",
            "kiwisolver==1.2.0\n",
            "knnimpute==0.1.0\n",
            "librosa==0.6.3\n",
            "lightgbm==2.2.3\n",
            "llvmlite==0.31.0\n",
            "lmdb==0.99\n",
            "lucid==0.3.8\n",
            "LunarCalendar==0.0.9\n",
            "lxml==4.2.6\n",
            "Markdown==3.2.2\n",
            "MarkupSafe==1.1.1\n",
            "matplotlib==3.2.2\n",
            "matplotlib-venn==0.11.5\n",
            "missingno==0.4.2\n",
            "mistune==0.8.4\n",
            "mizani==0.6.0\n",
            "mkl==2019.0\n",
            "mlxtend==0.14.0\n",
            "more-itertools==8.4.0\n",
            "moviepy==0.2.3.5\n",
            "mpmath==1.1.0\n",
            "msgpack==1.0.0\n",
            "multiprocess==0.70.10\n",
            "multitasking==0.0.9\n",
            "murmurhash==1.0.2\n",
            "music21==5.5.0\n",
            "natsort==5.5.0\n",
            "nbconvert==5.6.1\n",
            "nbformat==5.0.7\n",
            "networkx==2.5\n",
            "nibabel==3.0.2\n",
            "nltk==3.2.5\n",
            "notebook==5.3.1\n",
            "np-utils==0.5.12.1\n",
            "numba==0.48.0\n",
            "numexpr==2.7.1\n",
            "numpy==1.18.5\n",
            "nvidia-ml-py3==7.352.0\n",
            "oauth2client==4.1.3\n",
            "oauthlib==3.1.0\n",
            "okgrade==0.4.3\n",
            "opencv-contrib-python==4.1.2.30\n",
            "opencv-python==4.1.2.30\n",
            "openpyxl==2.5.9\n",
            "opt-einsum==3.3.0\n",
            "osqp==0.6.1\n",
            "packaging==20.4\n",
            "palettable==3.3.0\n",
            "pandas==1.0.5\n",
            "pandas-datareader==0.8.1\n",
            "pandas-gbq==0.11.0\n",
            "pandas-profiling==1.4.1\n",
            "pandocfilters==1.4.2\n",
            "panel==0.9.7\n",
            "param==1.9.3\n",
            "parso==0.7.1\n",
            "pathlib==1.0.1\n",
            "patsy==0.5.1\n",
            "pexpect==4.8.0\n",
            "pickleshare==0.7.5\n",
            "Pillow==7.0.0\n",
            "pip-tools==4.5.1\n",
            "plac==1.1.3\n",
            "plotly==4.4.1\n",
            "plotnine==0.6.0\n",
            "pluggy==0.7.1\n",
            "portpicker==1.3.1\n",
            "prefetch-generator==1.0.1\n",
            "preshed==3.0.2\n",
            "prettytable==0.7.2\n",
            "progressbar2==3.38.0\n",
            "prometheus-client==0.8.0\n",
            "promise==2.3\n",
            "prompt-toolkit==1.0.18\n",
            "protobuf==3.12.4\n",
            "psutil==5.4.8\n",
            "psycopg2==2.7.6.1\n",
            "ptyprocess==0.6.0\n",
            "py==1.9.0\n",
            "pyarrow==0.14.1\n",
            "pyasn1==0.4.8\n",
            "pyasn1-modules==0.2.8\n",
            "pycocotools==2.0.1\n",
            "pycparser==2.20\n",
            "pyct==0.4.6\n",
            "pydata-google-auth==1.1.0\n",
            "pydot==1.3.0\n",
            "pydot-ng==2.0.0\n",
            "pydotplus==2.0.2\n",
            "PyDrive==1.3.1\n",
            "pyemd==0.5.1\n",
            "pyglet==1.5.0\n",
            "Pygments==2.1.3\n",
            "pygobject==3.26.1\n",
            "pymc3==3.7\n",
            "PyMeeus==0.3.7\n",
            "pymongo==3.11.0\n",
            "pymystem3==0.2.0\n",
            "PyOpenGL==3.1.5\n",
            "pyparsing==2.4.7\n",
            "pyrsistent==0.16.0\n",
            "pysndfile==1.3.8\n",
            "PySocks==1.7.1\n",
            "pystan==2.19.1.1\n",
            "pytest==3.6.4\n",
            "python-apt==1.6.5+ubuntu0.3\n",
            "python-chess==0.23.11\n",
            "python-dateutil==2.8.1\n",
            "python-louvain==0.14\n",
            "python-slugify==4.0.1\n",
            "python-utils==2.4.0\n",
            "pytz==2018.9\n",
            "pyviz-comms==0.7.6\n",
            "PyWavelets==1.1.1\n",
            "PyYAML==3.13\n",
            "pyzmq==19.0.2\n",
            "qtconsole==4.7.6\n",
            "QtPy==1.9.0\n",
            "regex==2019.12.20\n",
            "requests==2.23.0\n",
            "requests-oauthlib==1.3.0\n",
            "resampy==0.2.2\n",
            "retrying==1.3.3\n",
            "rpy2==3.2.7\n",
            "rsa==4.6\n",
            "s3transfer==0.3.3\n",
            "scikit-image==0.16.2\n",
            "scikit-learn==0.20.0\n",
            "scipy==1.4.1\n",
            "screen-resolution-extra==0.0.0\n",
            "scs==2.1.2\n",
            "seaborn==0.10.1\n",
            "Send2Trash==1.5.0\n",
            "setuptools-git==1.2\n",
            "Shapely==1.7.1\n",
            "simplegeneric==0.8.1\n",
            "six==1.15.0\n",
            "sklearn==0.0\n",
            "sklearn-pandas==1.8.0\n",
            "smart-open==2.1.0\n",
            "snowballstemmer==2.0.0\n",
            "sortedcontainers==2.2.2\n",
            "spacy==2.2.4\n",
            "Sphinx==1.8.5\n",
            "sphinxcontrib-serializinghtml==1.1.4\n",
            "sphinxcontrib-websupport==1.2.4\n",
            "SQLAlchemy==1.3.19\n",
            "sqlparse==0.3.1\n",
            "srsly==1.0.2\n",
            "statsmodels==0.10.2\n",
            "sympy==1.1.1\n",
            "tables==3.4.4\n",
            "tabulate==0.8.7\n",
            "tblib==1.7.0\n",
            "tensorboard==2.3.0\n",
            "tensorboard-plugin-wit==1.7.0\n",
            "tensorboardcolab==0.0.22\n",
            "tensorflow==2.3.0\n",
            "tensorflow-addons==0.8.3\n",
            "tensorflow-datasets==2.1.0\n",
            "tensorflow-estimator==2.3.0\n",
            "tensorflow-gcs-config==2.3.0\n",
            "tensorflow-hub==0.9.0\n",
            "tensorflow-metadata==0.23.0\n",
            "tensorflow-privacy==0.2.2\n",
            "tensorflow-probability==0.11.0\n",
            "termcolor==1.1.0\n",
            "terminado==0.8.3\n",
            "testpath==0.4.4\n",
            "text-unidecode==1.3\n",
            "textblob==0.15.3\n",
            "textgenrnn==1.4.1\n",
            "Theano==1.0.5\n",
            "thinc==7.4.0\n",
            "tifffile==2020.8.25\n",
            "toml==0.10.1\n",
            "toolz==0.10.0\n",
            "torch==1.6.0+cu101\n",
            "torchsummary==1.5.1\n",
            "torchtext==0.3.1\n",
            "torchvision==0.7.0+cu101\n",
            "tornado==5.1.1\n",
            "tqdm==4.41.1\n",
            "traitlets==4.3.3\n",
            "tweepy==3.6.0\n",
            "typeguard==2.7.1\n",
            "typing-extensions==3.7.4.3\n",
            "tzlocal==1.5.1\n",
            "umap-learn==0.4.6\n",
            "uritemplate==3.0.1\n",
            "urllib3==1.24.3\n",
            "vega-datasets==0.8.0\n",
            "wasabi==0.7.1\n",
            "wcwidth==0.2.5\n",
            "webencodings==0.5.1\n",
            "Werkzeug==1.0.1\n",
            "widgetsnbextension==3.5.1\n",
            "wordcloud==1.5.0\n",
            "wrapt==1.12.1\n",
            "xarray==0.15.1\n",
            "xgboost==0.90\n",
            "xkit==0.0.0\n",
            "xlrd==1.1.0\n",
            "xlwt==1.3.0\n",
            "yellowbrick==0.9.1\n",
            "zict==2.0.0\n",
            "zipp==3.1.0\n"
          ],
          "name": "stdout"
        },
        {
          "output_type": "execute_result",
          "data": {
            "application/vnd.google.colaboratory.intrinsic+json": {
              "type": "string"
            },
            "text/plain": [
              "'import sklearn; sklearn.show_versions()'"
            ]
          },
          "metadata": {
            "tags": []
          },
          "execution_count": 1
        }
      ]
    },
    {
      "cell_type": "markdown",
      "metadata": {
        "id": "KYclCVMGnK_j",
        "colab_type": "text"
      },
      "source": [
        "# 資料處理\n",
        "\n",
        "\n"
      ]
    },
    {
      "cell_type": "code",
      "metadata": {
        "id": "2XwgjR5ZN43n",
        "colab_type": "code",
        "colab": {}
      },
      "source": [
        "import pandas\n",
        "import matplotlib.pyplot as plt\n",
        "from sklearn.preprocessing import MinMaxScaler\n",
        "import numpy as np\n",
        "from keras.models import Sequential\n",
        "from keras.layers import Dense,Dropout,BatchNormalization #這行milk02.ipynb\n",
        "from keras.layers import LSTM\n",
        "import math\n",
        "from sklearn.metrics import mean_squared_error  #02.ipynb\n",
        "\n",
        "import pandas as pd\n",
        "from pydrive.auth import GoogleAuth #雲端部分#載入資料用\n",
        "from pydrive.drive import GoogleDrive \n",
        "from google.colab import auth \n",
        "from oauth2client.client import GoogleCredentials\n",
        "\n",
        "#把要one hot的類別轉換成數字                           #從這以下milk02.ipynb\n",
        "from sklearn.preprocessing import LabelEncoder\n",
        "\n",
        "#把要的類別轉換成one hot\n",
        "import numpy as np\n",
        "from sklearn.preprocessing import OneHotEncoder\n",
        "from sklearn.model_selection import train_test_split\n",
        "from keras import backend as K\n",
        "from keras.optimizers import Adam\n",
        "\n",
        "from sklearn.model_selection import KFold"
      ],
      "execution_count": null,
      "outputs": []
    },
    {
      "cell_type": "code",
      "metadata": {
        "id": "dqCtCYmwN5Mq",
        "colab_type": "code",
        "colab": {
          "base_uri": "https://localhost:8080/",
          "height": 456
        },
        "outputId": "dcfcda59-1a89-4ebb-9e51-d0965e17aae5"
      },
      "source": [
        "##載入new_train\n",
        "auth.authenticate_user()                  \n",
        "gauth = GoogleAuth()\n",
        "gauth.credentials = GoogleCredentials.get_application_default()\n",
        "drive = GoogleDrive(gauth)\n",
        "file_id = '11jLvYsp8RkDqZioXL5j2Qitx7C2lwM79'  #雲端硬碟檔案連結碼\n",
        "downloaded = drive.CreateFile({'id': file_id})\n",
        "downloaded.GetContentFile('our_new_train.csv')\n",
        "new_train = pd.read_csv('our_new_train.csv', sep=',')\n",
        "new_train"
      ],
      "execution_count": null,
      "outputs": [
        {
          "output_type": "execute_result",
          "data": {
            "text/html": [
              "<div>\n",
              "<style scoped>\n",
              "    .dataframe tbody tr th:only-of-type {\n",
              "        vertical-align: middle;\n",
              "    }\n",
              "\n",
              "    .dataframe tbody tr th {\n",
              "        vertical-align: top;\n",
              "    }\n",
              "\n",
              "    .dataframe thead th {\n",
              "        text-align: right;\n",
              "    }\n",
              "</style>\n",
              "<table border=\"1\" class=\"dataframe\">\n",
              "  <thead>\n",
              "    <tr style=\"text-align: right;\">\n",
              "      <th></th>\n",
              "      <th>Unnamed: 0</th>\n",
              "      <th>ID</th>\n",
              "      <th>firm</th>\n",
              "      <th>CowID</th>\n",
              "      <th>MomID</th>\n",
              "      <th>DadID</th>\n",
              "      <th>BabyNum</th>\n",
              "      <th>FeedDay</th>\n",
              "      <th>Milk</th>\n",
              "      <th>Sampling date</th>\n",
              "      <th>Age</th>\n",
              "      <th>BreedNum</th>\n",
              "      <th>Temperature</th>\n",
              "      <th>T Max</th>\n",
              "      <th>RH</th>\n",
              "      <th>RHMin</th>\n",
              "      <th>Precp</th>\n",
              "      <th>THI</th>\n",
              "      <th>cycle</th>\n",
              "      <th>tcalving number</th>\n",
              "      <th>disease</th>\n",
              "      <th>Sampling D Year</th>\n",
              "      <th>Sampling D Month</th>\n",
              "    </tr>\n",
              "  </thead>\n",
              "  <tbody>\n",
              "    <tr>\n",
              "      <th>0</th>\n",
              "      <td>0</td>\n",
              "      <td>10806</td>\n",
              "      <td>2</td>\n",
              "      <td>3126105</td>\n",
              "      <td>116686.0</td>\n",
              "      <td>1H8784</td>\n",
              "      <td>1</td>\n",
              "      <td>55</td>\n",
              "      <td>20.0</td>\n",
              "      <td>2016/7/26</td>\n",
              "      <td>30</td>\n",
              "      <td>2</td>\n",
              "      <td>NaN</td>\n",
              "      <td>NaN</td>\n",
              "      <td>NaN</td>\n",
              "      <td>NaN</td>\n",
              "      <td>0.0</td>\n",
              "      <td>NaN</td>\n",
              "      <td>NaN</td>\n",
              "      <td>NaN</td>\n",
              "      <td>NaN</td>\n",
              "      <td>NaN</td>\n",
              "      <td>NaN</td>\n",
              "    </tr>\n",
              "    <tr>\n",
              "      <th>1</th>\n",
              "      <td>1</td>\n",
              "      <td>10950</td>\n",
              "      <td>2</td>\n",
              "      <td>3126118</td>\n",
              "      <td>116438.0</td>\n",
              "      <td>200H4779</td>\n",
              "      <td>2</td>\n",
              "      <td>62</td>\n",
              "      <td>43.0</td>\n",
              "      <td>2017/4/17</td>\n",
              "      <td>38</td>\n",
              "      <td>1</td>\n",
              "      <td>28.8</td>\n",
              "      <td>34.9</td>\n",
              "      <td>79.0</td>\n",
              "      <td>51.0</td>\n",
              "      <td>0.0</td>\n",
              "      <td>27.093337</td>\n",
              "      <td>NaN</td>\n",
              "      <td>NaN</td>\n",
              "      <td>NaN</td>\n",
              "      <td>NaN</td>\n",
              "      <td>NaN</td>\n",
              "    </tr>\n",
              "    <tr>\n",
              "      <th>2</th>\n",
              "      <td>2</td>\n",
              "      <td>30007</td>\n",
              "      <td>2</td>\n",
              "      <td>3126179</td>\n",
              "      <td>99116633.0</td>\n",
              "      <td>200HO4779</td>\n",
              "      <td>1</td>\n",
              "      <td>11</td>\n",
              "      <td>24.0</td>\n",
              "      <td>2016/11/23</td>\n",
              "      <td>27</td>\n",
              "      <td>0</td>\n",
              "      <td>21.8</td>\n",
              "      <td>23.8</td>\n",
              "      <td>93.0</td>\n",
              "      <td>85.0</td>\n",
              "      <td>24.5</td>\n",
              "      <td>21.498437</td>\n",
              "      <td>NaN</td>\n",
              "      <td>NaN</td>\n",
              "      <td>NaN</td>\n",
              "      <td>NaN</td>\n",
              "      <td>NaN</td>\n",
              "    </tr>\n",
              "    <tr>\n",
              "      <th>3</th>\n",
              "      <td>3</td>\n",
              "      <td>2137</td>\n",
              "      <td>1</td>\n",
              "      <td>2052011</td>\n",
              "      <td>41323.0</td>\n",
              "      <td>501H8658</td>\n",
              "      <td>2</td>\n",
              "      <td>290</td>\n",
              "      <td>18.2</td>\n",
              "      <td>2018/3/8</td>\n",
              "      <td>57</td>\n",
              "      <td>7</td>\n",
              "      <td>12.0</td>\n",
              "      <td>15.7</td>\n",
              "      <td>91.0</td>\n",
              "      <td>68.0</td>\n",
              "      <td>26.5</td>\n",
              "      <td>12.100133</td>\n",
              "      <td>NaN</td>\n",
              "      <td>NaN</td>\n",
              "      <td>NaN</td>\n",
              "      <td>NaN</td>\n",
              "      <td>NaN</td>\n",
              "    </tr>\n",
              "    <tr>\n",
              "      <th>4</th>\n",
              "      <td>4</td>\n",
              "      <td>20955</td>\n",
              "      <td>2</td>\n",
              "      <td>127993</td>\n",
              "      <td>98111275.0</td>\n",
              "      <td>007HO08361</td>\n",
              "      <td>2</td>\n",
              "      <td>156</td>\n",
              "      <td>10.0</td>\n",
              "      <td>2016/2/22</td>\n",
              "      <td>55</td>\n",
              "      <td>1</td>\n",
              "      <td>17.7</td>\n",
              "      <td>20.2</td>\n",
              "      <td>95.0</td>\n",
              "      <td>86.0</td>\n",
              "      <td>0.0</td>\n",
              "      <td>17.597478</td>\n",
              "      <td>NaN</td>\n",
              "      <td>NaN</td>\n",
              "      <td>NaN</td>\n",
              "      <td>NaN</td>\n",
              "      <td>NaN</td>\n",
              "    </tr>\n",
              "    <tr>\n",
              "      <th>...</th>\n",
              "      <td>...</td>\n",
              "      <td>...</td>\n",
              "      <td>...</td>\n",
              "      <td>...</td>\n",
              "      <td>...</td>\n",
              "      <td>...</td>\n",
              "      <td>...</td>\n",
              "      <td>...</td>\n",
              "      <td>...</td>\n",
              "      <td>...</td>\n",
              "      <td>...</td>\n",
              "      <td>...</td>\n",
              "      <td>...</td>\n",
              "      <td>...</td>\n",
              "      <td>...</td>\n",
              "      <td>...</td>\n",
              "      <td>...</td>\n",
              "      <td>...</td>\n",
              "      <td>...</td>\n",
              "      <td>...</td>\n",
              "      <td>...</td>\n",
              "      <td>...</td>\n",
              "      <td>...</td>\n",
              "    </tr>\n",
              "    <tr>\n",
              "      <th>30009</th>\n",
              "      <td>30009</td>\n",
              "      <td>25883</td>\n",
              "      <td>2</td>\n",
              "      <td>10837415</td>\n",
              "      <td>99999999.0</td>\n",
              "      <td>99999996</td>\n",
              "      <td>1</td>\n",
              "      <td>216</td>\n",
              "      <td>24.0</td>\n",
              "      <td>2018/10/23</td>\n",
              "      <td>33</td>\n",
              "      <td>1</td>\n",
              "      <td>24.6</td>\n",
              "      <td>27.9</td>\n",
              "      <td>91.0</td>\n",
              "      <td>67.0</td>\n",
              "      <td>0.0</td>\n",
              "      <td>24.074355</td>\n",
              "      <td>NaN</td>\n",
              "      <td>NaN</td>\n",
              "      <td>NaN</td>\n",
              "      <td>NaN</td>\n",
              "      <td>NaN</td>\n",
              "    </tr>\n",
              "    <tr>\n",
              "      <th>30010</th>\n",
              "      <td>30010</td>\n",
              "      <td>19848</td>\n",
              "      <td>2</td>\n",
              "      <td>124308</td>\n",
              "      <td>95110546.0</td>\n",
              "      <td>1H7235</td>\n",
              "      <td>1</td>\n",
              "      <td>37</td>\n",
              "      <td>20.4</td>\n",
              "      <td>2013/12/29</td>\n",
              "      <td>26</td>\n",
              "      <td>0</td>\n",
              "      <td>13.3</td>\n",
              "      <td>16.2</td>\n",
              "      <td>74.0</td>\n",
              "      <td>61.0</td>\n",
              "      <td>0.0</td>\n",
              "      <td>13.401030</td>\n",
              "      <td>NaN</td>\n",
              "      <td>NaN</td>\n",
              "      <td>NaN</td>\n",
              "      <td>NaN</td>\n",
              "      <td>NaN</td>\n",
              "    </tr>\n",
              "    <tr>\n",
              "      <th>30011</th>\n",
              "      <td>30011</td>\n",
              "      <td>3360</td>\n",
              "      <td>1</td>\n",
              "      <td>1051856</td>\n",
              "      <td>96040548.0</td>\n",
              "      <td>7H9502</td>\n",
              "      <td>1</td>\n",
              "      <td>73</td>\n",
              "      <td>19.0</td>\n",
              "      <td>2015/8/10</td>\n",
              "      <td>34</td>\n",
              "      <td>0</td>\n",
              "      <td>28.8</td>\n",
              "      <td>34.1</td>\n",
              "      <td>69.0</td>\n",
              "      <td>38.0</td>\n",
              "      <td>0.0</td>\n",
              "      <td>26.279941</td>\n",
              "      <td>NaN</td>\n",
              "      <td>NaN</td>\n",
              "      <td>NaN</td>\n",
              "      <td>NaN</td>\n",
              "      <td>NaN</td>\n",
              "    </tr>\n",
              "    <tr>\n",
              "      <th>30012</th>\n",
              "      <td>30012</td>\n",
              "      <td>24966</td>\n",
              "      <td>2</td>\n",
              "      <td>5125677</td>\n",
              "      <td>2111135.0</td>\n",
              "      <td>005HO53812</td>\n",
              "      <td>1</td>\n",
              "      <td>327</td>\n",
              "      <td>NaN</td>\n",
              "      <td>2019/1/17</td>\n",
              "      <td>35</td>\n",
              "      <td>4</td>\n",
              "      <td>15.6</td>\n",
              "      <td>17.8</td>\n",
              "      <td>NaN</td>\n",
              "      <td>76.0</td>\n",
              "      <td>2.0</td>\n",
              "      <td>NaN</td>\n",
              "      <td>NaN</td>\n",
              "      <td>NaN</td>\n",
              "      <td>NaN</td>\n",
              "      <td>NaN</td>\n",
              "      <td>NaN</td>\n",
              "    </tr>\n",
              "    <tr>\n",
              "      <th>30013</th>\n",
              "      <td>30013</td>\n",
              "      <td>6626</td>\n",
              "      <td>1</td>\n",
              "      <td>96051858</td>\n",
              "      <td>92040133.0</td>\n",
              "      <td>JP3H51821</td>\n",
              "      <td>3</td>\n",
              "      <td>321</td>\n",
              "      <td>25.5</td>\n",
              "      <td>2013/8/28</td>\n",
              "      <td>70</td>\n",
              "      <td>4</td>\n",
              "      <td>29.1</td>\n",
              "      <td>33.8</td>\n",
              "      <td>73.0</td>\n",
              "      <td>52.0</td>\n",
              "      <td>0.0</td>\n",
              "      <td>26.861394</td>\n",
              "      <td>NaN</td>\n",
              "      <td>NaN</td>\n",
              "      <td>NaN</td>\n",
              "      <td>NaN</td>\n",
              "      <td>NaN</td>\n",
              "    </tr>\n",
              "  </tbody>\n",
              "</table>\n",
              "<p>30014 rows × 23 columns</p>\n",
              "</div>"
            ],
            "text/plain": [
              "       Unnamed: 0     ID  firm  ...  disease  Sampling D Year Sampling D Month\n",
              "0               0  10806     2  ...      NaN              NaN              NaN\n",
              "1               1  10950     2  ...      NaN              NaN              NaN\n",
              "2               2  30007     2  ...      NaN              NaN              NaN\n",
              "3               3   2137     1  ...      NaN              NaN              NaN\n",
              "4               4  20955     2  ...      NaN              NaN              NaN\n",
              "...           ...    ...   ...  ...      ...              ...              ...\n",
              "30009       30009  25883     2  ...      NaN              NaN              NaN\n",
              "30010       30010  19848     2  ...      NaN              NaN              NaN\n",
              "30011       30011   3360     1  ...      NaN              NaN              NaN\n",
              "30012       30012  24966     2  ...      NaN              NaN              NaN\n",
              "30013       30013   6626     1  ...      NaN              NaN              NaN\n",
              "\n",
              "[30014 rows x 23 columns]"
            ]
          },
          "metadata": {
            "tags": []
          },
          "execution_count": 3
        }
      ]
    },
    {
      "cell_type": "code",
      "metadata": {
        "id": "jyggkcMtN6WD",
        "colab_type": "code",
        "colab": {
          "base_uri": "https://localhost:8080/",
          "height": 456
        },
        "outputId": "d99314f2-2119-4574-cbff-dca8b7bc2902"
      },
      "source": [
        "##載入new_test\n",
        "auth.authenticate_user()                  \n",
        "gauth = GoogleAuth()\n",
        "gauth.credentials = GoogleCredentials.get_application_default()\n",
        "drive = GoogleDrive(gauth)\n",
        "file_id = '1pQC3R9smKnmsqQEU3BUoWVmEk7YRK5Io'  #雲端硬碟檔案連結碼\n",
        "downloaded = drive.CreateFile({'id': file_id})\n",
        "downloaded.GetContentFile('newtest17.csv')\n",
        "new_test = pd.read_csv('newtest17.csv', sep=',')\n",
        "#print(new_test.loc[[48]])\n",
        "new_test"
      ],
      "execution_count": null,
      "outputs": [
        {
          "output_type": "execute_result",
          "data": {
            "text/html": [
              "<div>\n",
              "<style scoped>\n",
              "    .dataframe tbody tr th:only-of-type {\n",
              "        vertical-align: middle;\n",
              "    }\n",
              "\n",
              "    .dataframe tbody tr th {\n",
              "        vertical-align: top;\n",
              "    }\n",
              "\n",
              "    .dataframe thead th {\n",
              "        text-align: right;\n",
              "    }\n",
              "</style>\n",
              "<table border=\"1\" class=\"dataframe\">\n",
              "  <thead>\n",
              "    <tr style=\"text-align: right;\">\n",
              "      <th></th>\n",
              "      <th>Unnamed: 0</th>\n",
              "      <th>ID</th>\n",
              "      <th>firm</th>\n",
              "      <th>CowID</th>\n",
              "      <th>MomID</th>\n",
              "      <th>DadID</th>\n",
              "      <th>BabyNum</th>\n",
              "      <th>FeedDay</th>\n",
              "      <th>Milk</th>\n",
              "      <th>Sampling date</th>\n",
              "      <th>Age</th>\n",
              "      <th>BreedNum</th>\n",
              "      <th>Temperature</th>\n",
              "      <th>T Max</th>\n",
              "      <th>T Min</th>\n",
              "      <th>RH</th>\n",
              "      <th>RHMin</th>\n",
              "      <th>Precp</th>\n",
              "      <th>THI</th>\n",
              "      <th>cycle</th>\n",
              "      <th>tcalving number</th>\n",
              "      <th>disease</th>\n",
              "      <th>Sampling D Year</th>\n",
              "      <th>Sampling D Month</th>\n",
              "    </tr>\n",
              "  </thead>\n",
              "  <tbody>\n",
              "    <tr>\n",
              "      <th>0</th>\n",
              "      <td>0</td>\n",
              "      <td>18072</td>\n",
              "      <td>2</td>\n",
              "      <td>122630</td>\n",
              "      <td>98111436.0</td>\n",
              "      <td>007HO08361</td>\n",
              "      <td>3</td>\n",
              "      <td>183</td>\n",
              "      <td>40.0</td>\n",
              "      <td>2017/1/19</td>\n",
              "      <td>70</td>\n",
              "      <td>2</td>\n",
              "      <td>20.8</td>\n",
              "      <td>25.5</td>\n",
              "      <td>NaN</td>\n",
              "      <td>85.0</td>\n",
              "      <td>69.0</td>\n",
              "      <td>0.0</td>\n",
              "      <td>20.236278</td>\n",
              "      <td>NaN</td>\n",
              "      <td>NaN</td>\n",
              "      <td>NaN</td>\n",
              "      <td>NaN</td>\n",
              "      <td>NaN</td>\n",
              "    </tr>\n",
              "    <tr>\n",
              "      <th>1</th>\n",
              "      <td>1</td>\n",
              "      <td>15357</td>\n",
              "      <td>2</td>\n",
              "      <td>2122398</td>\n",
              "      <td>98111423.0</td>\n",
              "      <td>7H7536</td>\n",
              "      <td>3</td>\n",
              "      <td>71</td>\n",
              "      <td>28.0</td>\n",
              "      <td>2017/7/18</td>\n",
              "      <td>50</td>\n",
              "      <td>0</td>\n",
              "      <td>NaN</td>\n",
              "      <td>35.2</td>\n",
              "      <td>NaN</td>\n",
              "      <td>82.0</td>\n",
              "      <td>69.0</td>\n",
              "      <td>0.0</td>\n",
              "      <td>NaN</td>\n",
              "      <td>NaN</td>\n",
              "      <td>NaN</td>\n",
              "      <td>NaN</td>\n",
              "      <td>NaN</td>\n",
              "      <td>NaN</td>\n",
              "    </tr>\n",
              "    <tr>\n",
              "      <th>2</th>\n",
              "      <td>2</td>\n",
              "      <td>37069</td>\n",
              "      <td>3</td>\n",
              "      <td>99183211</td>\n",
              "      <td>94172172.0</td>\n",
              "      <td>1H8328</td>\n",
              "      <td>1</td>\n",
              "      <td>365</td>\n",
              "      <td>12.0</td>\n",
              "      <td>2013/6/25</td>\n",
              "      <td>38</td>\n",
              "      <td>5</td>\n",
              "      <td>NaN</td>\n",
              "      <td>NaN</td>\n",
              "      <td>NaN</td>\n",
              "      <td>NaN</td>\n",
              "      <td>NaN</td>\n",
              "      <td>NaN</td>\n",
              "      <td>NaN</td>\n",
              "      <td>NaN</td>\n",
              "      <td>NaN</td>\n",
              "      <td>NaN</td>\n",
              "      <td>NaN</td>\n",
              "      <td>NaN</td>\n",
              "    </tr>\n",
              "    <tr>\n",
              "      <th>3</th>\n",
              "      <td>3</td>\n",
              "      <td>17574</td>\n",
              "      <td>2</td>\n",
              "      <td>122607</td>\n",
              "      <td>98115809.0</td>\n",
              "      <td>029HO11295</td>\n",
              "      <td>4</td>\n",
              "      <td>177</td>\n",
              "      <td>35.0</td>\n",
              "      <td>2017/3/20</td>\n",
              "      <td>73</td>\n",
              "      <td>1</td>\n",
              "      <td>24.3</td>\n",
              "      <td>29.1</td>\n",
              "      <td>NaN</td>\n",
              "      <td>81.0</td>\n",
              "      <td>65.0</td>\n",
              "      <td>0.0</td>\n",
              "      <td>23.221440</td>\n",
              "      <td>NaN</td>\n",
              "      <td>NaN</td>\n",
              "      <td>NaN</td>\n",
              "      <td>NaN</td>\n",
              "      <td>NaN</td>\n",
              "    </tr>\n",
              "    <tr>\n",
              "      <th>4</th>\n",
              "      <td>4</td>\n",
              "      <td>3256</td>\n",
              "      <td>1</td>\n",
              "      <td>1051850</td>\n",
              "      <td>96040547.0</td>\n",
              "      <td>7H9502</td>\n",
              "      <td>1</td>\n",
              "      <td>42</td>\n",
              "      <td>28.8</td>\n",
              "      <td>2015/2/5</td>\n",
              "      <td>28</td>\n",
              "      <td>0</td>\n",
              "      <td>10.4</td>\n",
              "      <td>11.1</td>\n",
              "      <td>NaN</td>\n",
              "      <td>71.0</td>\n",
              "      <td>55.0</td>\n",
              "      <td>3.5</td>\n",
              "      <td>10.980262</td>\n",
              "      <td>NaN</td>\n",
              "      <td>NaN</td>\n",
              "      <td>NaN</td>\n",
              "      <td>NaN</td>\n",
              "      <td>NaN</td>\n",
              "    </tr>\n",
              "    <tr>\n",
              "      <th>...</th>\n",
              "      <td>...</td>\n",
              "      <td>...</td>\n",
              "      <td>...</td>\n",
              "      <td>...</td>\n",
              "      <td>...</td>\n",
              "      <td>...</td>\n",
              "      <td>...</td>\n",
              "      <td>...</td>\n",
              "      <td>...</td>\n",
              "      <td>...</td>\n",
              "      <td>...</td>\n",
              "      <td>...</td>\n",
              "      <td>...</td>\n",
              "      <td>...</td>\n",
              "      <td>...</td>\n",
              "      <td>...</td>\n",
              "      <td>...</td>\n",
              "      <td>...</td>\n",
              "      <td>...</td>\n",
              "      <td>...</td>\n",
              "      <td>...</td>\n",
              "      <td>...</td>\n",
              "      <td>...</td>\n",
              "      <td>...</td>\n",
              "    </tr>\n",
              "    <tr>\n",
              "      <th>7497</th>\n",
              "      <td>7497</td>\n",
              "      <td>23863</td>\n",
              "      <td>2</td>\n",
              "      <td>99127667</td>\n",
              "      <td>NaN</td>\n",
              "      <td>200H1715</td>\n",
              "      <td>2</td>\n",
              "      <td>508</td>\n",
              "      <td>10.0</td>\n",
              "      <td>2014/7/21</td>\n",
              "      <td>52</td>\n",
              "      <td>4</td>\n",
              "      <td>31.5</td>\n",
              "      <td>34.8</td>\n",
              "      <td>NaN</td>\n",
              "      <td>72.0</td>\n",
              "      <td>54.0</td>\n",
              "      <td>0.0</td>\n",
              "      <td>28.814617</td>\n",
              "      <td>NaN</td>\n",
              "      <td>NaN</td>\n",
              "      <td>NaN</td>\n",
              "      <td>NaN</td>\n",
              "      <td>NaN</td>\n",
              "    </tr>\n",
              "    <tr>\n",
              "      <th>7498</th>\n",
              "      <td>7498</td>\n",
              "      <td>24192</td>\n",
              "      <td>2</td>\n",
              "      <td>97124147</td>\n",
              "      <td>NaN</td>\n",
              "      <td>7H6155</td>\n",
              "      <td>3</td>\n",
              "      <td>158</td>\n",
              "      <td>30.6</td>\n",
              "      <td>2013/5/27</td>\n",
              "      <td>62</td>\n",
              "      <td>1</td>\n",
              "      <td>29.3</td>\n",
              "      <td>34.4</td>\n",
              "      <td>NaN</td>\n",
              "      <td>75.0</td>\n",
              "      <td>51.0</td>\n",
              "      <td>0.0</td>\n",
              "      <td>27.200232</td>\n",
              "      <td>NaN</td>\n",
              "      <td>NaN</td>\n",
              "      <td>NaN</td>\n",
              "      <td>NaN</td>\n",
              "      <td>NaN</td>\n",
              "    </tr>\n",
              "    <tr>\n",
              "      <th>7499</th>\n",
              "      <td>7499</td>\n",
              "      <td>2115</td>\n",
              "      <td>1</td>\n",
              "      <td>2052010</td>\n",
              "      <td>98040660.0</td>\n",
              "      <td>7H9222</td>\n",
              "      <td>3</td>\n",
              "      <td>141</td>\n",
              "      <td>NaN</td>\n",
              "      <td>2019/5/7</td>\n",
              "      <td>71</td>\n",
              "      <td>1</td>\n",
              "      <td>17.9</td>\n",
              "      <td>19.1</td>\n",
              "      <td>NaN</td>\n",
              "      <td>85.0</td>\n",
              "      <td>74.0</td>\n",
              "      <td>6.5</td>\n",
              "      <td>17.575992</td>\n",
              "      <td>NaN</td>\n",
              "      <td>NaN</td>\n",
              "      <td>NaN</td>\n",
              "      <td>NaN</td>\n",
              "      <td>NaN</td>\n",
              "    </tr>\n",
              "    <tr>\n",
              "      <th>7500</th>\n",
              "      <td>7500</td>\n",
              "      <td>14623</td>\n",
              "      <td>2</td>\n",
              "      <td>2122364</td>\n",
              "      <td>95110600.0</td>\n",
              "      <td>29H10124</td>\n",
              "      <td>1</td>\n",
              "      <td>9</td>\n",
              "      <td>20.0</td>\n",
              "      <td>2014/12/25</td>\n",
              "      <td>22</td>\n",
              "      <td>0</td>\n",
              "      <td>16.9</td>\n",
              "      <td>19.5</td>\n",
              "      <td>NaN</td>\n",
              "      <td>80.0</td>\n",
              "      <td>60.0</td>\n",
              "      <td>5.5</td>\n",
              "      <td>16.578618</td>\n",
              "      <td>NaN</td>\n",
              "      <td>NaN</td>\n",
              "      <td>NaN</td>\n",
              "      <td>NaN</td>\n",
              "      <td>NaN</td>\n",
              "    </tr>\n",
              "    <tr>\n",
              "      <th>7501</th>\n",
              "      <td>7501</td>\n",
              "      <td>27986</td>\n",
              "      <td>2</td>\n",
              "      <td>4123090</td>\n",
              "      <td>2111107.0</td>\n",
              "      <td>501HO2611</td>\n",
              "      <td>1</td>\n",
              "      <td>204</td>\n",
              "      <td>16.0</td>\n",
              "      <td>2018/4/18</td>\n",
              "      <td>32</td>\n",
              "      <td>4</td>\n",
              "      <td>21.7</td>\n",
              "      <td>25.9</td>\n",
              "      <td>NaN</td>\n",
              "      <td>72.0</td>\n",
              "      <td>62.0</td>\n",
              "      <td>0.0</td>\n",
              "      <td>20.509629</td>\n",
              "      <td>NaN</td>\n",
              "      <td>NaN</td>\n",
              "      <td>NaN</td>\n",
              "      <td>NaN</td>\n",
              "      <td>NaN</td>\n",
              "    </tr>\n",
              "  </tbody>\n",
              "</table>\n",
              "<p>7502 rows × 24 columns</p>\n",
              "</div>"
            ],
            "text/plain": [
              "      Unnamed: 0     ID  firm  ...  disease  Sampling D Year Sampling D Month\n",
              "0              0  18072     2  ...      NaN              NaN              NaN\n",
              "1              1  15357     2  ...      NaN              NaN              NaN\n",
              "2              2  37069     3  ...      NaN              NaN              NaN\n",
              "3              3  17574     2  ...      NaN              NaN              NaN\n",
              "4              4   3256     1  ...      NaN              NaN              NaN\n",
              "...          ...    ...   ...  ...      ...              ...              ...\n",
              "7497        7497  23863     2  ...      NaN              NaN              NaN\n",
              "7498        7498  24192     2  ...      NaN              NaN              NaN\n",
              "7499        7499   2115     1  ...      NaN              NaN              NaN\n",
              "7500        7500  14623     2  ...      NaN              NaN              NaN\n",
              "7501        7501  27986     2  ...      NaN              NaN              NaN\n",
              "\n",
              "[7502 rows x 24 columns]"
            ]
          },
          "metadata": {
            "tags": []
          },
          "execution_count": 4
        }
      ]
    },
    {
      "cell_type": "code",
      "metadata": {
        "id": "c-KC97dcN9aQ",
        "colab_type": "code",
        "colab": {}
      },
      "source": [
        "import pandas as pd\n",
        "from pydrive.auth import GoogleAuth\n",
        "from pydrive.drive import GoogleDrive \n",
        "from google.colab import auth \n",
        "from oauth2client.client import GoogleCredentials\n",
        " \n",
        "auth.authenticate_user()\n",
        "gauth = GoogleAuth()\n",
        "gauth.credentials = GoogleCredentials.get_application_default()\n",
        "drive = GoogleDrive(gauth)\n",
        "file_id = '1TgijKpsq6haP2C6yHsA7_bVtf5Ra6Cps'  #雲端硬碟檔案連結碼\n",
        "downloaded = drive.CreateFile({'id': file_id})\n",
        "downloaded.GetContentFile('spec01.csv')\n",
        "spec = pd.read_csv('spec01.csv',sep=',')\n",
        "#print(spec)"
      ],
      "execution_count": null,
      "outputs": []
    },
    {
      "cell_type": "code",
      "metadata": {
        "id": "ThqfMyyjN-ZN",
        "colab_type": "code",
        "colab": {
          "base_uri": "https://localhost:8080/",
          "height": 287
        },
        "outputId": "eab9d45c-33ce-4786-d9b1-790f503b7858"
      },
      "source": [
        "for i in range(len(spec['7'])):\n",
        "    if(str(spec['7'][i])==str(\"A\")):\n",
        "          spec['7'][i]=1\n",
        "for i in range(len(spec['7'])):\n",
        "    if(str(spec['7'][i])==str('B')):\n",
        "          spec['7'][i]=2\n",
        "for i in range(len(spec['7'])):\n",
        "    if(str(spec['7'][i])==str('C')):\n",
        "          spec['7'][i]=3\n",
        "#spec"
      ],
      "execution_count": null,
      "outputs": [
        {
          "output_type": "stream",
          "text": [
            "/usr/local/lib/python3.6/dist-packages/ipykernel_launcher.py:3: SettingWithCopyWarning: \n",
            "A value is trying to be set on a copy of a slice from a DataFrame\n",
            "\n",
            "See the caveats in the documentation: https://pandas.pydata.org/pandas-docs/stable/user_guide/indexing.html#returning-a-view-versus-a-copy\n",
            "  This is separate from the ipykernel package so we can avoid doing imports until\n",
            "/usr/local/lib/python3.6/dist-packages/ipykernel_launcher.py:6: SettingWithCopyWarning: \n",
            "A value is trying to be set on a copy of a slice from a DataFrame\n",
            "\n",
            "See the caveats in the documentation: https://pandas.pydata.org/pandas-docs/stable/user_guide/indexing.html#returning-a-view-versus-a-copy\n",
            "  \n",
            "/usr/local/lib/python3.6/dist-packages/ipykernel_launcher.py:9: SettingWithCopyWarning: \n",
            "A value is trying to be set on a copy of a slice from a DataFrame\n",
            "\n",
            "See the caveats in the documentation: https://pandas.pydata.org/pandas-docs/stable/user_guide/indexing.html#returning-a-view-versus-a-copy\n",
            "  if __name__ == '__main__':\n"
          ],
          "name": "stderr"
        }
      ]
    },
    {
      "cell_type": "code",
      "metadata": {
        "id": "jW2AFW8tOBhR",
        "colab_type": "code",
        "colab": {}
      },
      "source": [
        "new_train=pd.DataFrame(data=new_train,columns=['ID','firm','CowID','MomID','DadID','BabyNum','FeedDay','Milk','Sampling date','Age','BreedNum','Temperature','T Max','RH','RHMin','Precp','THI','cycle','tcalving number','disease','Sampling D Year','Sampling D Month'])\n",
        "#new_train"
      ],
      "execution_count": null,
      "outputs": []
    },
    {
      "cell_type": "code",
      "metadata": {
        "id": "DSpOBcEvOD_R",
        "colab_type": "code",
        "colab": {}
      },
      "source": [
        "new_test=pd.DataFrame(data=new_test,columns=['ID','firm','CowID','MomID','DadID','BabyNum','FeedDay','Milk','Sampling date','Age','BreedNum','Temperature','T Max','RH','RHMin','Precp','THI','cycle','tcalving number','disease','Sampling D Year','Sampling D Month'])\n",
        "#new_test"
      ],
      "execution_count": null,
      "outputs": []
    },
    {
      "cell_type": "code",
      "metadata": {
        "id": "gT3FI164OFUV",
        "colab_type": "code",
        "colab": {
          "base_uri": "https://localhost:8080/",
          "height": 233
        },
        "outputId": "b290b60a-817b-4c18-9b53-5462bc86f55a"
      },
      "source": [
        "new_train['Milk']"
      ],
      "execution_count": null,
      "outputs": [
        {
          "output_type": "execute_result",
          "data": {
            "text/plain": [
              "0        20.0\n",
              "1        43.0\n",
              "2        24.0\n",
              "3        18.2\n",
              "4        10.0\n",
              "         ... \n",
              "30009    24.0\n",
              "30010    20.4\n",
              "30011    19.0\n",
              "30012     NaN\n",
              "30013    25.5\n",
              "Name: Milk, Length: 30014, dtype: float64"
            ]
          },
          "metadata": {
            "tags": []
          },
          "execution_count": 9
        }
      ]
    },
    {
      "cell_type": "code",
      "metadata": {
        "id": "xn9JLnEuOHe0",
        "colab_type": "code",
        "colab": {
          "base_uri": "https://localhost:8080/",
          "height": 107
        },
        "outputId": "fd298c04-3711-4235-8ee4-bbc1edcbae49"
      },
      "source": [
        "import math\n",
        "bool = False\n",
        "for i in range(len(new_train['Milk'])):\n",
        "    bool = False\n",
        "    bool=math.isnan(new_train['Milk'][i])\n",
        "    if(bool):\n",
        "       new_train['Milk'][i]=0\n",
        "#print(new_train['Milk'].loc[[15]])\n",
        "#print(new_train['Milk'].loc[[16]])\n",
        "#new_train"
      ],
      "execution_count": null,
      "outputs": [
        {
          "output_type": "stream",
          "text": [
            "/usr/local/lib/python3.6/dist-packages/ipykernel_launcher.py:7: SettingWithCopyWarning: \n",
            "A value is trying to be set on a copy of a slice from a DataFrame\n",
            "\n",
            "See the caveats in the documentation: https://pandas.pydata.org/pandas-docs/stable/user_guide/indexing.html#returning-a-view-versus-a-copy\n",
            "  import sys\n"
          ],
          "name": "stderr"
        }
      ]
    },
    {
      "cell_type": "code",
      "metadata": {
        "id": "Ps8su1as-4vL",
        "colab_type": "code",
        "colab": {
          "base_uri": "https://localhost:8080/",
          "height": 107
        },
        "outputId": "7ede83b2-81bd-45cf-b5c4-6b9026b21d90"
      },
      "source": [
        "import math\n",
        "bool = False\n",
        "for i in range(len(new_test['Milk'])):\n",
        "    bool = False\n",
        "    bool=math.isnan(new_test['Milk'][i])\n",
        "    if(bool):\n",
        "       new_test['Milk'][i]=0\n",
        "#print(new_train['Milk'].loc[[15]])\n",
        "#print(new_test['Milk'].loc[[9]])\n",
        "#new_test"
      ],
      "execution_count": null,
      "outputs": [
        {
          "output_type": "stream",
          "text": [
            "/usr/local/lib/python3.6/dist-packages/ipykernel_launcher.py:7: SettingWithCopyWarning: \n",
            "A value is trying to be set on a copy of a slice from a DataFrame\n",
            "\n",
            "See the caveats in the documentation: https://pandas.pydata.org/pandas-docs/stable/user_guide/indexing.html#returning-a-view-versus-a-copy\n",
            "  import sys\n"
          ],
          "name": "stderr"
        }
      ]
    },
    {
      "cell_type": "code",
      "metadata": {
        "id": "oqcFWInXOIi8",
        "colab_type": "code",
        "colab": {}
      },
      "source": [
        "#train有不需要判斷的編號就去掉\n",
        "for i in range(len(new_test['CowID'])):\n",
        "    if len(new_train.index[new_train['CowID'] == new_test['CowID'][i]]) == 0:\n",
        "        new_train=new_train.drop([i])\n",
        "new_train.reset_index(inplace=True)\n",
        "#new_train"
      ],
      "execution_count": null,
      "outputs": []
    },
    {
      "cell_type": "code",
      "metadata": {
        "id": "Qu1pgHrQktaX",
        "colab_type": "code",
        "colab": {}
      },
      "source": [
        "#train牛乳產量是0，則丟棄不用\n",
        "for i in range(len(new_train['Milk'])): \n",
        "    if new_train['Milk'][i] == 0 :\n",
        "        new_train = new_train.drop([i])\n",
        "new_train.reset_index(inplace=True)\n",
        "#new_train"
      ],
      "execution_count": null,
      "outputs": []
    },
    {
      "cell_type": "code",
      "metadata": {
        "id": "U0K7p113_B8X",
        "colab_type": "code",
        "colab": {
          "base_uri": "https://localhost:8080/",
          "height": 492
        },
        "outputId": "9d024fcb-a84d-486f-af38-1efed36af150"
      },
      "source": [
        "#test牛乳產量是0，則丟棄不用(未來測試需要)\n",
        "for i in range(len(new_test['Milk'])): \n",
        "    if new_test['Milk'][i] == 0 :\n",
        "        new_test = new_test.drop([i])\n",
        "new_test.reset_index(inplace=True)\n",
        "print(new_test['Milk'].loc[[9]])\n",
        "new_test"
      ],
      "execution_count": null,
      "outputs": [
        {
          "output_type": "stream",
          "text": [
            "9    11.6\n",
            "Name: Milk, dtype: float64\n"
          ],
          "name": "stdout"
        },
        {
          "output_type": "execute_result",
          "data": {
            "text/html": [
              "<div>\n",
              "<style scoped>\n",
              "    .dataframe tbody tr th:only-of-type {\n",
              "        vertical-align: middle;\n",
              "    }\n",
              "\n",
              "    .dataframe tbody tr th {\n",
              "        vertical-align: top;\n",
              "    }\n",
              "\n",
              "    .dataframe thead th {\n",
              "        text-align: right;\n",
              "    }\n",
              "</style>\n",
              "<table border=\"1\" class=\"dataframe\">\n",
              "  <thead>\n",
              "    <tr style=\"text-align: right;\">\n",
              "      <th></th>\n",
              "      <th>index</th>\n",
              "      <th>ID</th>\n",
              "      <th>firm</th>\n",
              "      <th>CowID</th>\n",
              "      <th>MomID</th>\n",
              "      <th>DadID</th>\n",
              "      <th>BabyNum</th>\n",
              "      <th>FeedDay</th>\n",
              "      <th>Milk</th>\n",
              "      <th>Sampling date</th>\n",
              "      <th>Age</th>\n",
              "      <th>BreedNum</th>\n",
              "      <th>Temperature</th>\n",
              "      <th>T Max</th>\n",
              "      <th>RH</th>\n",
              "      <th>RHMin</th>\n",
              "      <th>Precp</th>\n",
              "      <th>THI</th>\n",
              "      <th>cycle</th>\n",
              "      <th>tcalving number</th>\n",
              "      <th>disease</th>\n",
              "      <th>Sampling D Year</th>\n",
              "      <th>Sampling D Month</th>\n",
              "    </tr>\n",
              "  </thead>\n",
              "  <tbody>\n",
              "    <tr>\n",
              "      <th>0</th>\n",
              "      <td>0</td>\n",
              "      <td>18072</td>\n",
              "      <td>2</td>\n",
              "      <td>122630</td>\n",
              "      <td>98111436.0</td>\n",
              "      <td>007HO08361</td>\n",
              "      <td>3</td>\n",
              "      <td>183</td>\n",
              "      <td>40.0</td>\n",
              "      <td>2017/1/19</td>\n",
              "      <td>70</td>\n",
              "      <td>2</td>\n",
              "      <td>20.8</td>\n",
              "      <td>25.5</td>\n",
              "      <td>85.0</td>\n",
              "      <td>69.0</td>\n",
              "      <td>0.0</td>\n",
              "      <td>20.236278</td>\n",
              "      <td>NaN</td>\n",
              "      <td>NaN</td>\n",
              "      <td>NaN</td>\n",
              "      <td>NaN</td>\n",
              "      <td>NaN</td>\n",
              "    </tr>\n",
              "    <tr>\n",
              "      <th>1</th>\n",
              "      <td>1</td>\n",
              "      <td>15357</td>\n",
              "      <td>2</td>\n",
              "      <td>2122398</td>\n",
              "      <td>98111423.0</td>\n",
              "      <td>7H7536</td>\n",
              "      <td>3</td>\n",
              "      <td>71</td>\n",
              "      <td>28.0</td>\n",
              "      <td>2017/7/18</td>\n",
              "      <td>50</td>\n",
              "      <td>0</td>\n",
              "      <td>NaN</td>\n",
              "      <td>35.2</td>\n",
              "      <td>82.0</td>\n",
              "      <td>69.0</td>\n",
              "      <td>0.0</td>\n",
              "      <td>NaN</td>\n",
              "      <td>NaN</td>\n",
              "      <td>NaN</td>\n",
              "      <td>NaN</td>\n",
              "      <td>NaN</td>\n",
              "      <td>NaN</td>\n",
              "    </tr>\n",
              "    <tr>\n",
              "      <th>2</th>\n",
              "      <td>2</td>\n",
              "      <td>37069</td>\n",
              "      <td>3</td>\n",
              "      <td>99183211</td>\n",
              "      <td>94172172.0</td>\n",
              "      <td>1H8328</td>\n",
              "      <td>1</td>\n",
              "      <td>365</td>\n",
              "      <td>12.0</td>\n",
              "      <td>2013/6/25</td>\n",
              "      <td>38</td>\n",
              "      <td>5</td>\n",
              "      <td>NaN</td>\n",
              "      <td>NaN</td>\n",
              "      <td>NaN</td>\n",
              "      <td>NaN</td>\n",
              "      <td>NaN</td>\n",
              "      <td>NaN</td>\n",
              "      <td>NaN</td>\n",
              "      <td>NaN</td>\n",
              "      <td>NaN</td>\n",
              "      <td>NaN</td>\n",
              "      <td>NaN</td>\n",
              "    </tr>\n",
              "    <tr>\n",
              "      <th>3</th>\n",
              "      <td>3</td>\n",
              "      <td>17574</td>\n",
              "      <td>2</td>\n",
              "      <td>122607</td>\n",
              "      <td>98115809.0</td>\n",
              "      <td>029HO11295</td>\n",
              "      <td>4</td>\n",
              "      <td>177</td>\n",
              "      <td>35.0</td>\n",
              "      <td>2017/3/20</td>\n",
              "      <td>73</td>\n",
              "      <td>1</td>\n",
              "      <td>24.3</td>\n",
              "      <td>29.1</td>\n",
              "      <td>81.0</td>\n",
              "      <td>65.0</td>\n",
              "      <td>0.0</td>\n",
              "      <td>23.221440</td>\n",
              "      <td>NaN</td>\n",
              "      <td>NaN</td>\n",
              "      <td>NaN</td>\n",
              "      <td>NaN</td>\n",
              "      <td>NaN</td>\n",
              "    </tr>\n",
              "    <tr>\n",
              "      <th>4</th>\n",
              "      <td>4</td>\n",
              "      <td>3256</td>\n",
              "      <td>1</td>\n",
              "      <td>1051850</td>\n",
              "      <td>96040547.0</td>\n",
              "      <td>7H9502</td>\n",
              "      <td>1</td>\n",
              "      <td>42</td>\n",
              "      <td>28.8</td>\n",
              "      <td>2015/2/5</td>\n",
              "      <td>28</td>\n",
              "      <td>0</td>\n",
              "      <td>10.4</td>\n",
              "      <td>11.1</td>\n",
              "      <td>71.0</td>\n",
              "      <td>55.0</td>\n",
              "      <td>3.5</td>\n",
              "      <td>10.980262</td>\n",
              "      <td>NaN</td>\n",
              "      <td>NaN</td>\n",
              "      <td>NaN</td>\n",
              "      <td>NaN</td>\n",
              "      <td>NaN</td>\n",
              "    </tr>\n",
              "    <tr>\n",
              "      <th>...</th>\n",
              "      <td>...</td>\n",
              "      <td>...</td>\n",
              "      <td>...</td>\n",
              "      <td>...</td>\n",
              "      <td>...</td>\n",
              "      <td>...</td>\n",
              "      <td>...</td>\n",
              "      <td>...</td>\n",
              "      <td>...</td>\n",
              "      <td>...</td>\n",
              "      <td>...</td>\n",
              "      <td>...</td>\n",
              "      <td>...</td>\n",
              "      <td>...</td>\n",
              "      <td>...</td>\n",
              "      <td>...</td>\n",
              "      <td>...</td>\n",
              "      <td>...</td>\n",
              "      <td>...</td>\n",
              "      <td>...</td>\n",
              "      <td>...</td>\n",
              "      <td>...</td>\n",
              "      <td>...</td>\n",
              "    </tr>\n",
              "    <tr>\n",
              "      <th>6678</th>\n",
              "      <td>7496</td>\n",
              "      <td>11987</td>\n",
              "      <td>2</td>\n",
              "      <td>1123347</td>\n",
              "      <td>99116307.0</td>\n",
              "      <td>7H8361</td>\n",
              "      <td>3</td>\n",
              "      <td>18</td>\n",
              "      <td>39.0</td>\n",
              "      <td>2015/8/20</td>\n",
              "      <td>42</td>\n",
              "      <td>0</td>\n",
              "      <td>31.0</td>\n",
              "      <td>34.9</td>\n",
              "      <td>82.0</td>\n",
              "      <td>61.0</td>\n",
              "      <td>0.0</td>\n",
              "      <td>29.323086</td>\n",
              "      <td>NaN</td>\n",
              "      <td>NaN</td>\n",
              "      <td>NaN</td>\n",
              "      <td>NaN</td>\n",
              "      <td>NaN</td>\n",
              "    </tr>\n",
              "    <tr>\n",
              "      <th>6679</th>\n",
              "      <td>7497</td>\n",
              "      <td>23863</td>\n",
              "      <td>2</td>\n",
              "      <td>99127667</td>\n",
              "      <td>NaN</td>\n",
              "      <td>200H1715</td>\n",
              "      <td>2</td>\n",
              "      <td>508</td>\n",
              "      <td>10.0</td>\n",
              "      <td>2014/7/21</td>\n",
              "      <td>52</td>\n",
              "      <td>4</td>\n",
              "      <td>31.5</td>\n",
              "      <td>34.8</td>\n",
              "      <td>72.0</td>\n",
              "      <td>54.0</td>\n",
              "      <td>0.0</td>\n",
              "      <td>28.814617</td>\n",
              "      <td>NaN</td>\n",
              "      <td>NaN</td>\n",
              "      <td>NaN</td>\n",
              "      <td>NaN</td>\n",
              "      <td>NaN</td>\n",
              "    </tr>\n",
              "    <tr>\n",
              "      <th>6680</th>\n",
              "      <td>7498</td>\n",
              "      <td>24192</td>\n",
              "      <td>2</td>\n",
              "      <td>97124147</td>\n",
              "      <td>NaN</td>\n",
              "      <td>7H6155</td>\n",
              "      <td>3</td>\n",
              "      <td>158</td>\n",
              "      <td>30.6</td>\n",
              "      <td>2013/5/27</td>\n",
              "      <td>62</td>\n",
              "      <td>1</td>\n",
              "      <td>29.3</td>\n",
              "      <td>34.4</td>\n",
              "      <td>75.0</td>\n",
              "      <td>51.0</td>\n",
              "      <td>0.0</td>\n",
              "      <td>27.200232</td>\n",
              "      <td>NaN</td>\n",
              "      <td>NaN</td>\n",
              "      <td>NaN</td>\n",
              "      <td>NaN</td>\n",
              "      <td>NaN</td>\n",
              "    </tr>\n",
              "    <tr>\n",
              "      <th>6681</th>\n",
              "      <td>7500</td>\n",
              "      <td>14623</td>\n",
              "      <td>2</td>\n",
              "      <td>2122364</td>\n",
              "      <td>95110600.0</td>\n",
              "      <td>29H10124</td>\n",
              "      <td>1</td>\n",
              "      <td>9</td>\n",
              "      <td>20.0</td>\n",
              "      <td>2014/12/25</td>\n",
              "      <td>22</td>\n",
              "      <td>0</td>\n",
              "      <td>16.9</td>\n",
              "      <td>19.5</td>\n",
              "      <td>80.0</td>\n",
              "      <td>60.0</td>\n",
              "      <td>5.5</td>\n",
              "      <td>16.578618</td>\n",
              "      <td>NaN</td>\n",
              "      <td>NaN</td>\n",
              "      <td>NaN</td>\n",
              "      <td>NaN</td>\n",
              "      <td>NaN</td>\n",
              "    </tr>\n",
              "    <tr>\n",
              "      <th>6682</th>\n",
              "      <td>7501</td>\n",
              "      <td>27986</td>\n",
              "      <td>2</td>\n",
              "      <td>4123090</td>\n",
              "      <td>2111107.0</td>\n",
              "      <td>501HO2611</td>\n",
              "      <td>1</td>\n",
              "      <td>204</td>\n",
              "      <td>16.0</td>\n",
              "      <td>2018/4/18</td>\n",
              "      <td>32</td>\n",
              "      <td>4</td>\n",
              "      <td>21.7</td>\n",
              "      <td>25.9</td>\n",
              "      <td>72.0</td>\n",
              "      <td>62.0</td>\n",
              "      <td>0.0</td>\n",
              "      <td>20.509629</td>\n",
              "      <td>NaN</td>\n",
              "      <td>NaN</td>\n",
              "      <td>NaN</td>\n",
              "      <td>NaN</td>\n",
              "      <td>NaN</td>\n",
              "    </tr>\n",
              "  </tbody>\n",
              "</table>\n",
              "<p>6683 rows × 23 columns</p>\n",
              "</div>"
            ],
            "text/plain": [
              "      index     ID  firm  ...  disease  Sampling D Year Sampling D Month\n",
              "0         0  18072     2  ...      NaN              NaN              NaN\n",
              "1         1  15357     2  ...      NaN              NaN              NaN\n",
              "2         2  37069     3  ...      NaN              NaN              NaN\n",
              "3         3  17574     2  ...      NaN              NaN              NaN\n",
              "4         4   3256     1  ...      NaN              NaN              NaN\n",
              "...     ...    ...   ...  ...      ...              ...              ...\n",
              "6678   7496  11987     2  ...      NaN              NaN              NaN\n",
              "6679   7497  23863     2  ...      NaN              NaN              NaN\n",
              "6680   7498  24192     2  ...      NaN              NaN              NaN\n",
              "6681   7500  14623     2  ...      NaN              NaN              NaN\n",
              "6682   7501  27986     2  ...      NaN              NaN              NaN\n",
              "\n",
              "[6683 rows x 23 columns]"
            ]
          },
          "metadata": {
            "tags": []
          },
          "execution_count": 14
        }
      ]
    },
    {
      "cell_type": "code",
      "metadata": {
        "id": "53GcIgqFOMh3",
        "colab_type": "code",
        "colab": {}
      },
      "source": [
        "#處理new_train的\n",
        "#父親精液編號 \n",
        "new_train['DadID']=new_train['DadID'].fillna(\"NoData\").astype(\"str\")\n",
        "\n",
        "#將MomID中沒有編號的打為NoData \n",
        "new_train['MomID']=new_train['MomID'].fillna(\"NoData\").astype(\"str\")\n",
        "\n",
        "avg_Temperature_tr=new_train['Temperature'].mean() #將平均溫度Nan部分以算術平均數之平均溫度取代\n",
        "new_train['Temperature']= new_train['Temperature'].fillna(avg_Temperature_tr)\n",
        "\n",
        "\n",
        "avg_T_Max_tr=new_train['T Max'].mean()          #將最高溫度Nan部分以算術平均數之最高溫度取代\n",
        "new_train['T Max']= new_train['T Max'].fillna(avg_T_Max_tr)\n",
        "\n",
        "\n",
        "avg_RH_tr=new_train['RH'].mean()                  #將相對濕度Nan部分以算術平均數之相對濕度取代\n",
        "new_train['RH']= new_train['RH'].fillna(avg_RH_tr)\n",
        "\n",
        "\n",
        "avg_RH_Min_tr=new_train['RHMin'].mean()         #將最小相對濕度Nan部分以算術平均數之最小相對濕度取代\n",
        "new_train['RHMin']= new_train['RHMin'].fillna(avg_RH_Min_tr)\n",
        "\n",
        "\n",
        "avg_Precp_tr=new_train['Precp'].mean()          #將降水量Nan部分以算術平均數之降水量取代\n",
        "new_train['Precp']= new_train['Precp'].fillna(avg_Precp_tr)\n",
        "\n",
        "avg_THI_tr=new_train['THI'].mean()          #將THI Nan部分以算術平均數之THI取代\n",
        "new_train['THI']= new_train['THI'].fillna(avg_THI_tr)\n",
        "\n",
        "new_train.dropna(subset=['FeedDay','DadID','MomID'], inplace=True)\n",
        "#new_train"
      ],
      "execution_count": null,
      "outputs": []
    },
    {
      "cell_type": "code",
      "metadata": {
        "id": "HRuXAuAOOOKX",
        "colab_type": "code",
        "colab": {}
      },
      "source": [
        "#處理new_test的\n",
        "#父親精液編號\n",
        "new_test['DadID']=new_test['DadID'].fillna(\"NoData\").astype(\"str\")\n",
        "\n",
        "#將MomID中沒有編號的打為NoData \n",
        "new_test['MomID']=new_test['MomID'].fillna(\"NoData\").astype(\"str\")\n",
        "\n",
        "avg_Temperature=new_test['Temperature'].mean() #將平均溫度Nan部分以算術平均數之平均溫度取代\n",
        "new_test['Temperature']= new_test['Temperature'].fillna(avg_Temperature)\n",
        "\n",
        "\n",
        "avg_T_Max=new_test['T Max'].mean()          #將最高溫度Nan部分以算術平均數之最高溫度取代\n",
        "new_test['T Max']= new_test['T Max'].fillna(avg_T_Max)\n",
        "\n",
        "\n",
        "avg_RH=new_test['RH'].mean()                  #將相對濕度Nan部分以算術平均數之相對濕度取代\n",
        "new_test['RH']= new_test['RH'].fillna(avg_RH)\n",
        "\n",
        "\n",
        "avg_RH_Min=new_test['RHMin'].mean()         #將最小相對濕度Nan部分以算術平均數之最小相對濕度取代\n",
        "new_test['RHMin']= new_test['RHMin'].fillna(avg_RH_Min)\n",
        "\n",
        "\n",
        "avg_Precp=new_test['Precp'].mean()          #將降水量Nan部分以算術平均數之降水量取代\n",
        "new_test['Precp']= new_test['Precp'].fillna(avg_Precp)\n",
        "\n",
        "avg_THI=new_test['THI'].mean()          #將THI Nan部分以算術平均數之THI取代\n",
        "new_test['THI']= new_test['THI'].fillna(avg_THI)\n",
        "#\n",
        "#new_test\n"
      ],
      "execution_count": null,
      "outputs": []
    },
    {
      "cell_type": "code",
      "metadata": {
        "id": "7WTevp9ROPdS",
        "colab_type": "code",
        "colab": {
          "base_uri": "https://localhost:8080/",
          "height": 197
        },
        "outputId": "3a82a13b-7a9e-4e06-f51d-7cc8db7366e3"
      },
      "source": [
        "from datetime import datetime\n",
        "for i in range(len(new_train['Sampling date'])):\n",
        "          sdate=datetime.strptime(new_train['Sampling date'][i], \"%Y/%m/%d\")\n",
        "          new_train['Sampling D Year'][i]= sdate.year\n",
        "          new_train['Sampling D Month'][i]= sdate.month\n",
        "#new_train"
      ],
      "execution_count": null,
      "outputs": [
        {
          "output_type": "stream",
          "text": [
            "/usr/local/lib/python3.6/dist-packages/ipykernel_launcher.py:4: SettingWithCopyWarning: \n",
            "A value is trying to be set on a copy of a slice from a DataFrame\n",
            "\n",
            "See the caveats in the documentation: https://pandas.pydata.org/pandas-docs/stable/user_guide/indexing.html#returning-a-view-versus-a-copy\n",
            "  after removing the cwd from sys.path.\n",
            "/usr/local/lib/python3.6/dist-packages/ipykernel_launcher.py:5: SettingWithCopyWarning: \n",
            "A value is trying to be set on a copy of a slice from a DataFrame\n",
            "\n",
            "See the caveats in the documentation: https://pandas.pydata.org/pandas-docs/stable/user_guide/indexing.html#returning-a-view-versus-a-copy\n",
            "  \"\"\"\n"
          ],
          "name": "stderr"
        }
      ]
    },
    {
      "cell_type": "code",
      "metadata": {
        "id": "P7wu_JFEOQz4",
        "colab_type": "code",
        "colab": {
          "base_uri": "https://localhost:8080/",
          "height": 197
        },
        "outputId": "a2e8e51c-ab7b-49e9-c889-74cf0e129a90"
      },
      "source": [
        "for i in range(len(new_test['Sampling date'])):\n",
        "          sdate=datetime.strptime(new_test['Sampling date'][i], \"%Y/%m/%d\")\n",
        "          new_test['Sampling D Year'][i]= sdate.year\n",
        "          new_test['Sampling D Month'][i]= sdate.month\n",
        "#new_test"
      ],
      "execution_count": null,
      "outputs": [
        {
          "output_type": "stream",
          "text": [
            "/usr/local/lib/python3.6/dist-packages/ipykernel_launcher.py:3: SettingWithCopyWarning: \n",
            "A value is trying to be set on a copy of a slice from a DataFrame\n",
            "\n",
            "See the caveats in the documentation: https://pandas.pydata.org/pandas-docs/stable/user_guide/indexing.html#returning-a-view-versus-a-copy\n",
            "  This is separate from the ipykernel package so we can avoid doing imports until\n",
            "/usr/local/lib/python3.6/dist-packages/ipykernel_launcher.py:4: SettingWithCopyWarning: \n",
            "A value is trying to be set on a copy of a slice from a DataFrame\n",
            "\n",
            "See the caveats in the documentation: https://pandas.pydata.org/pandas-docs/stable/user_guide/indexing.html#returning-a-view-versus-a-copy\n",
            "  after removing the cwd from sys.path.\n"
          ],
          "name": "stderr"
        }
      ]
    },
    {
      "cell_type": "code",
      "metadata": {
        "id": "i0UXtTi9OSHI",
        "colab_type": "code",
        "colab": {
          "base_uri": "https://localhost:8080/",
          "height": 107
        },
        "outputId": "22268fb7-3f3b-4097-8e96-e6c1425f9def"
      },
      "source": [
        "#new_train把當月有病的標記起來(為1)\n",
        "for i in range(len(spec)):\n",
        "    dd=datetime.strptime(spec['4'][i], \"%Y/%m/%d %H:%M\")\n",
        "    if len(new_train.index[new_train['CowID'] == spec['1'][i]])>0:\n",
        "        for j in new_train.index[new_train['CowID'] == spec['1'][i]]:\n",
        "            if new_train['Sampling D Year'][j] == dd.year and new_train['Sampling D Month'][j] == dd.month and new_train['firm'][j]==spec['7'][i]:\n",
        "                new_train['disease'][j] = 1\n",
        "                #print(j,new_train['CowID'][j],new_train['Sampling D Year'][j],new_train['Sampling D Month'][j])\n",
        "\n",
        "#new_train"
      ],
      "execution_count": null,
      "outputs": [
        {
          "output_type": "stream",
          "text": [
            "/usr/local/lib/python3.6/dist-packages/ipykernel_launcher.py:7: SettingWithCopyWarning: \n",
            "A value is trying to be set on a copy of a slice from a DataFrame\n",
            "\n",
            "See the caveats in the documentation: https://pandas.pydata.org/pandas-docs/stable/user_guide/indexing.html#returning-a-view-versus-a-copy\n",
            "  import sys\n"
          ],
          "name": "stderr"
        }
      ]
    },
    {
      "cell_type": "code",
      "metadata": {
        "id": "4BN-ljceOTSy",
        "colab_type": "code",
        "colab": {
          "base_uri": "https://localhost:8080/",
          "height": 107
        },
        "outputId": "9b248b48-0b71-4bfc-ec08-e31c53150a9b"
      },
      "source": [
        "#new_test把當月有病的標記起來(為1)\n",
        "for i in range(len(spec)):\n",
        "    dd=datetime.strptime(spec['4'][i], \"%Y/%m/%d %H:%M\")\n",
        "    if len(new_test.index[new_test['CowID'] == spec['1'][i]])>0:\n",
        "        for j in new_test.index[new_test['CowID'] == spec['1'][i]]:\n",
        "            if new_test['Sampling D Year'][j] == dd.year and new_test['Sampling D Month'][j] == dd.month and new_test['firm'][j]==spec['7'][i]:\n",
        "                new_test['disease'][j] = 1\n",
        "                #print(j,new_test['CowID'][j],new_test['Sampling D Year'][j],new_test['Sampling D Month'][j])\n",
        "\n",
        "#new_test"
      ],
      "execution_count": null,
      "outputs": [
        {
          "output_type": "stream",
          "text": [
            "/usr/local/lib/python3.6/dist-packages/ipykernel_launcher.py:7: SettingWithCopyWarning: \n",
            "A value is trying to be set on a copy of a slice from a DataFrame\n",
            "\n",
            "See the caveats in the documentation: https://pandas.pydata.org/pandas-docs/stable/user_guide/indexing.html#returning-a-view-versus-a-copy\n",
            "  import sys\n"
          ],
          "name": "stderr"
        }
      ]
    },
    {
      "cell_type": "code",
      "metadata": {
        "id": "e2ZFaMLuOUlG",
        "colab_type": "code",
        "colab": {}
      },
      "source": [
        "new_train=new_train.fillna(0)\n",
        "new_test=new_test.fillna(0)\n",
        "new_train.reset_index(inplace=True,drop=True)"
      ],
      "execution_count": null,
      "outputs": []
    },
    {
      "cell_type": "code",
      "metadata": {
        "id": "y0Kz5jCdOWEs",
        "colab_type": "code",
        "colab": {
          "base_uri": "https://localhost:8080/",
          "height": 989
        },
        "outputId": "31d3e882-e51c-4e1f-c218-968a3eb2634c"
      },
      "source": [
        "#改new_train\n",
        "i=0\n",
        "for i in range(len(new_train['Sampling D Month'])):\n",
        "          if int(new_train['Sampling D Month'][i]) >=3 and int(new_train['Sampling D Month'][i])<=5:\n",
        "              new_train['Sampling D Month'][i] = \"Spring\"\n",
        "          elif int(new_train['Sampling D Month'][i]) >=6 and int(new_train['Sampling D Month'][i])<=8:\n",
        "              new_train['Sampling D Month'][i] = \"Summer\"\n",
        "          elif int(new_train['Sampling D Month'][i]) >=9 and int(new_train['Sampling D Month'][i])<=11:\n",
        "              new_train['Sampling D Month'][i] = \"Autumn\"\n",
        "          else:\n",
        "              new_train['Sampling D Month'][i] = \"Winter\"   \n",
        "#改new_train的feedday以及babynum\n",
        "for i in range(len(new_train['ID'])):\n",
        "    if int(new_train['FeedDay'][i]) <=100:\n",
        "        new_train['cycle'][i] = 0\n",
        "    elif int(new_train['FeedDay'][i]) >=101 and int(new_train['FeedDay'][i]) <=200 :\n",
        "        new_train['cycle'][i] = 1\n",
        "    elif int(new_train['FeedDay'][i]) >=201 and int(new_train['FeedDay'][i]) <=305:\n",
        "        new_train['cycle'][i] = 2\n",
        "    else:\n",
        "        new_train['cycle'][i] = 3\n",
        "\n",
        "    if int(new_train['BabyNum'][i]) <=2:\n",
        "        new_train['tcalving number'][i] = 0\n",
        "    elif int(new_train['BabyNum'][i])>=7:\n",
        "        new_train['tcalving number'][i] = 2\n",
        "    else:\n",
        "        new_train['tcalving number'][i] = 1\n",
        "\n",
        "#new_train"
      ],
      "execution_count": null,
      "outputs": [
        {
          "output_type": "stream",
          "text": [
            "/usr/local/lib/python3.6/dist-packages/ipykernel_launcher.py:7: SettingWithCopyWarning: \n",
            "A value is trying to be set on a copy of a slice from a DataFrame\n",
            "\n",
            "See the caveats in the documentation: https://pandas.pydata.org/pandas-docs/stable/user_guide/indexing.html#returning-a-view-versus-a-copy\n",
            "  import sys\n",
            "/usr/local/lib/python3.6/dist-packages/pandas/core/indexing.py:671: SettingWithCopyWarning: \n",
            "A value is trying to be set on a copy of a slice from a DataFrame\n",
            "\n",
            "See the caveats in the documentation: https://pandas.pydata.org/pandas-docs/stable/user_guide/indexing.html#returning-a-view-versus-a-copy\n",
            "  self._setitem_with_indexer(indexer, value)\n",
            "/usr/local/lib/python3.6/dist-packages/ipykernel_launcher.py:5: SettingWithCopyWarning: \n",
            "A value is trying to be set on a copy of a slice from a DataFrame\n",
            "\n",
            "See the caveats in the documentation: https://pandas.pydata.org/pandas-docs/stable/user_guide/indexing.html#returning-a-view-versus-a-copy\n",
            "  \"\"\"\n",
            "/usr/local/lib/python3.6/dist-packages/ipykernel_launcher.py:9: SettingWithCopyWarning: \n",
            "A value is trying to be set on a copy of a slice from a DataFrame\n",
            "\n",
            "See the caveats in the documentation: https://pandas.pydata.org/pandas-docs/stable/user_guide/indexing.html#returning-a-view-versus-a-copy\n",
            "  if __name__ == '__main__':\n",
            "/usr/local/lib/python3.6/dist-packages/ipykernel_launcher.py:11: SettingWithCopyWarning: \n",
            "A value is trying to be set on a copy of a slice from a DataFrame\n",
            "\n",
            "See the caveats in the documentation: https://pandas.pydata.org/pandas-docs/stable/user_guide/indexing.html#returning-a-view-versus-a-copy\n",
            "  # This is added back by InteractiveShellApp.init_path()\n",
            "/usr/local/lib/python3.6/dist-packages/ipykernel_launcher.py:15: SettingWithCopyWarning: \n",
            "A value is trying to be set on a copy of a slice from a DataFrame\n",
            "\n",
            "See the caveats in the documentation: https://pandas.pydata.org/pandas-docs/stable/user_guide/indexing.html#returning-a-view-versus-a-copy\n",
            "  from ipykernel import kernelapp as app\n",
            "/usr/local/lib/python3.6/dist-packages/ipykernel_launcher.py:24: SettingWithCopyWarning: \n",
            "A value is trying to be set on a copy of a slice from a DataFrame\n",
            "\n",
            "See the caveats in the documentation: https://pandas.pydata.org/pandas-docs/stable/user_guide/indexing.html#returning-a-view-versus-a-copy\n",
            "/usr/local/lib/python3.6/dist-packages/ipykernel_launcher.py:19: SettingWithCopyWarning: \n",
            "A value is trying to be set on a copy of a slice from a DataFrame\n",
            "\n",
            "See the caveats in the documentation: https://pandas.pydata.org/pandas-docs/stable/user_guide/indexing.html#returning-a-view-versus-a-copy\n",
            "/usr/local/lib/python3.6/dist-packages/ipykernel_launcher.py:17: SettingWithCopyWarning: \n",
            "A value is trying to be set on a copy of a slice from a DataFrame\n",
            "\n",
            "See the caveats in the documentation: https://pandas.pydata.org/pandas-docs/stable/user_guide/indexing.html#returning-a-view-versus-a-copy\n",
            "/usr/local/lib/python3.6/dist-packages/ipykernel_launcher.py:28: SettingWithCopyWarning: \n",
            "A value is trying to be set on a copy of a slice from a DataFrame\n",
            "\n",
            "See the caveats in the documentation: https://pandas.pydata.org/pandas-docs/stable/user_guide/indexing.html#returning-a-view-versus-a-copy\n",
            "/usr/local/lib/python3.6/dist-packages/ipykernel_launcher.py:21: SettingWithCopyWarning: \n",
            "A value is trying to be set on a copy of a slice from a DataFrame\n",
            "\n",
            "See the caveats in the documentation: https://pandas.pydata.org/pandas-docs/stable/user_guide/indexing.html#returning-a-view-versus-a-copy\n",
            "/usr/local/lib/python3.6/dist-packages/ipykernel_launcher.py:26: SettingWithCopyWarning: \n",
            "A value is trying to be set on a copy of a slice from a DataFrame\n",
            "\n",
            "See the caveats in the documentation: https://pandas.pydata.org/pandas-docs/stable/user_guide/indexing.html#returning-a-view-versus-a-copy\n"
          ],
          "name": "stderr"
        }
      ]
    },
    {
      "cell_type": "code",
      "metadata": {
        "id": "_XtSP6BZOXm5",
        "colab_type": "code",
        "colab": {
          "base_uri": "https://localhost:8080/",
          "height": 989
        },
        "outputId": "dbe33cc8-e8ac-4ef1-d14a-7beb64bb3323"
      },
      "source": [
        "#改new_test\n",
        "i=0\n",
        "for i in range(len(new_test['Sampling D Month'])):\n",
        "          if int(new_test['Sampling D Month'][i]) >=3 and int(new_test['Sampling D Month'][i])<=5:\n",
        "              new_test['Sampling D Month'][i] = \"Spring\"\n",
        "          elif int(new_test['Sampling D Month'][i]) >=6 and int(new_test['Sampling D Month'][i])<=8:\n",
        "              new_test['Sampling D Month'][i] = \"Summer\"\n",
        "          elif int(new_test['Sampling D Month'][i]) >=9 and int(new_test['Sampling D Month'][i])<=11:\n",
        "              new_test['Sampling D Month'][i] = \"Autumn\"\n",
        "          else:\n",
        "              new_test['Sampling D Month'][i] = \"Winter\"\n",
        "#改new_test的feedday以及babynum\n",
        "for i in range(len(new_test['ID'])):\n",
        "    if int(new_test['FeedDay'][i]) <=100:\n",
        "        new_test['cycle'][i] = 0\n",
        "    elif int(new_train['FeedDay'][i]) >=101 and int(new_test['FeedDay'][i]) <=200 :\n",
        "        new_test['cycle'][i] = 1\n",
        "    elif int(new_test['FeedDay'][i]) >=201 and int(new_test['FeedDay'][i]) <=305:\n",
        "        new_test['cycle'][i] = 2\n",
        "    else:\n",
        "        new_test['cycle'][i] = 2\n",
        "    if int(new_test['BabyNum'][i]) <=2:\n",
        "        new_test['tcalving number'][i] = 0\n",
        "    elif int(new_test['BabyNum'][i])>=7:\n",
        "        new_test['tcalving number'][i] = 2\n",
        "    else:\n",
        "        new_test['tcalving number'][i] = 1    \n",
        "#new_test"
      ],
      "execution_count": null,
      "outputs": [
        {
          "output_type": "stream",
          "text": [
            "/usr/local/lib/python3.6/dist-packages/ipykernel_launcher.py:11: SettingWithCopyWarning: \n",
            "A value is trying to be set on a copy of a slice from a DataFrame\n",
            "\n",
            "See the caveats in the documentation: https://pandas.pydata.org/pandas-docs/stable/user_guide/indexing.html#returning-a-view-versus-a-copy\n",
            "  # This is added back by InteractiveShellApp.init_path()\n",
            "/usr/local/lib/python3.6/dist-packages/pandas/core/indexing.py:671: SettingWithCopyWarning: \n",
            "A value is trying to be set on a copy of a slice from a DataFrame\n",
            "\n",
            "See the caveats in the documentation: https://pandas.pydata.org/pandas-docs/stable/user_guide/indexing.html#returning-a-view-versus-a-copy\n",
            "  self._setitem_with_indexer(indexer, value)\n",
            "/usr/local/lib/python3.6/dist-packages/ipykernel_launcher.py:7: SettingWithCopyWarning: \n",
            "A value is trying to be set on a copy of a slice from a DataFrame\n",
            "\n",
            "See the caveats in the documentation: https://pandas.pydata.org/pandas-docs/stable/user_guide/indexing.html#returning-a-view-versus-a-copy\n",
            "  import sys\n",
            "/usr/local/lib/python3.6/dist-packages/ipykernel_launcher.py:5: SettingWithCopyWarning: \n",
            "A value is trying to be set on a copy of a slice from a DataFrame\n",
            "\n",
            "See the caveats in the documentation: https://pandas.pydata.org/pandas-docs/stable/user_guide/indexing.html#returning-a-view-versus-a-copy\n",
            "  \"\"\"\n",
            "/usr/local/lib/python3.6/dist-packages/ipykernel_launcher.py:9: SettingWithCopyWarning: \n",
            "A value is trying to be set on a copy of a slice from a DataFrame\n",
            "\n",
            "See the caveats in the documentation: https://pandas.pydata.org/pandas-docs/stable/user_guide/indexing.html#returning-a-view-versus-a-copy\n",
            "  if __name__ == '__main__':\n",
            "/usr/local/lib/python3.6/dist-packages/ipykernel_launcher.py:21: SettingWithCopyWarning: \n",
            "A value is trying to be set on a copy of a slice from a DataFrame\n",
            "\n",
            "See the caveats in the documentation: https://pandas.pydata.org/pandas-docs/stable/user_guide/indexing.html#returning-a-view-versus-a-copy\n",
            "/usr/local/lib/python3.6/dist-packages/ipykernel_launcher.py:27: SettingWithCopyWarning: \n",
            "A value is trying to be set on a copy of a slice from a DataFrame\n",
            "\n",
            "See the caveats in the documentation: https://pandas.pydata.org/pandas-docs/stable/user_guide/indexing.html#returning-a-view-versus-a-copy\n",
            "/usr/local/lib/python3.6/dist-packages/ipykernel_launcher.py:15: SettingWithCopyWarning: \n",
            "A value is trying to be set on a copy of a slice from a DataFrame\n",
            "\n",
            "See the caveats in the documentation: https://pandas.pydata.org/pandas-docs/stable/user_guide/indexing.html#returning-a-view-versus-a-copy\n",
            "  from ipykernel import kernelapp as app\n",
            "/usr/local/lib/python3.6/dist-packages/ipykernel_launcher.py:23: SettingWithCopyWarning: \n",
            "A value is trying to be set on a copy of a slice from a DataFrame\n",
            "\n",
            "See the caveats in the documentation: https://pandas.pydata.org/pandas-docs/stable/user_guide/indexing.html#returning-a-view-versus-a-copy\n",
            "/usr/local/lib/python3.6/dist-packages/ipykernel_launcher.py:17: SettingWithCopyWarning: \n",
            "A value is trying to be set on a copy of a slice from a DataFrame\n",
            "\n",
            "See the caveats in the documentation: https://pandas.pydata.org/pandas-docs/stable/user_guide/indexing.html#returning-a-view-versus-a-copy\n",
            "/usr/local/lib/python3.6/dist-packages/ipykernel_launcher.py:19: SettingWithCopyWarning: \n",
            "A value is trying to be set on a copy of a slice from a DataFrame\n",
            "\n",
            "See the caveats in the documentation: https://pandas.pydata.org/pandas-docs/stable/user_guide/indexing.html#returning-a-view-versus-a-copy\n",
            "/usr/local/lib/python3.6/dist-packages/ipykernel_launcher.py:25: SettingWithCopyWarning: \n",
            "A value is trying to be set on a copy of a slice from a DataFrame\n",
            "\n",
            "See the caveats in the documentation: https://pandas.pydata.org/pandas-docs/stable/user_guide/indexing.html#returning-a-view-versus-a-copy\n"
          ],
          "name": "stderr"
        }
      ]
    },
    {
      "cell_type": "code",
      "metadata": {
        "id": "qeHtnt4bOZVQ",
        "colab_type": "code",
        "colab": {}
      },
      "source": [
        "new_train=new_train.fillna(0)\n",
        "new_test=new_test.fillna(0)"
      ],
      "execution_count": null,
      "outputs": []
    },
    {
      "cell_type": "code",
      "metadata": {
        "id": "plSzSFvf_ONi",
        "colab_type": "code",
        "colab": {
          "base_uri": "https://localhost:8080/",
          "height": 233
        },
        "outputId": "df33a7bb-5202-4ca0-8bfa-f7f350a75d01"
      },
      "source": [
        "y_fortest=new_test['Milk']\n",
        "y_fortest"
      ],
      "execution_count": null,
      "outputs": [
        {
          "output_type": "execute_result",
          "data": {
            "text/plain": [
              "0       40.0\n",
              "1       28.0\n",
              "2       12.0\n",
              "3       35.0\n",
              "4       28.8\n",
              "        ... \n",
              "6678    39.0\n",
              "6679    10.0\n",
              "6680    30.6\n",
              "6681    20.0\n",
              "6682    16.0\n",
              "Name: Milk, Length: 6683, dtype: float64"
            ]
          },
          "metadata": {
            "tags": []
          },
          "execution_count": 25
        }
      ]
    },
    {
      "cell_type": "code",
      "metadata": {
        "id": "LTpeS-6SOcbn",
        "colab_type": "code",
        "colab": {
          "base_uri": "https://localhost:8080/",
          "height": 233
        },
        "outputId": "4a20b7d3-6292-452f-aed0-03728accf91e"
      },
      "source": [
        "y=new_train['Milk']\n",
        "y"
      ],
      "execution_count": null,
      "outputs": [
        {
          "output_type": "execute_result",
          "data": {
            "text/plain": [
              "0        20.0\n",
              "1        43.0\n",
              "2        24.0\n",
              "3        18.2\n",
              "4        10.0\n",
              "         ... \n",
              "26475    33.0\n",
              "26476    24.0\n",
              "26477    20.4\n",
              "26478    19.0\n",
              "26479    25.5\n",
              "Name: Milk, Length: 26480, dtype: float64"
            ]
          },
          "metadata": {
            "tags": []
          },
          "execution_count": 26
        }
      ]
    },
    {
      "cell_type": "markdown",
      "metadata": {
        "id": "_wfrdnA3nUgR",
        "colab_type": "text"
      },
      "source": [
        "# Label encoding"
      ]
    },
    {
      "cell_type": "code",
      "metadata": {
        "id": "WPuuyTrmOfty",
        "colab_type": "code",
        "colab": {}
      },
      "source": [
        "new_train_backup = new_train\n",
        "new_test_backup = new_test"
      ],
      "execution_count": null,
      "outputs": []
    },
    {
      "cell_type": "code",
      "metadata": {
        "id": "ooFKIIeGOg8o",
        "colab_type": "code",
        "colab": {}
      },
      "source": [
        "#挑選靠賽要訓練的資料\n",
        "new_train=pd.DataFrame(data=new_train_backup,columns=['firm','CowID','BabyNum','FeedDay','Age','BreedNum','T Max','THI','disease','Sampling D Month'])\n",
        "#new_train"
      ],
      "execution_count": null,
      "outputs": []
    },
    {
      "cell_type": "code",
      "metadata": {
        "id": "mLzp7n4uOha1",
        "colab_type": "code",
        "colab": {}
      },
      "source": [
        "new_test=pd.DataFrame(data=new_test_backup,columns=['firm','CowID','BabyNum','FeedDay','Age','BreedNum','T Max','THI','disease','Sampling D Month'])\n",
        "#new_test"
      ],
      "execution_count": null,
      "outputs": []
    },
    {
      "cell_type": "code",
      "metadata": {
        "id": "hNTI_rKoOigv",
        "colab_type": "code",
        "colab": {}
      },
      "source": [
        "#把要one hot的類別轉換成數字\n",
        "from sklearn.preprocessing import LabelEncoder\n",
        "labelencoder = LabelEncoder()\n",
        "all_data=pd.concat([new_train,new_test])\n",
        "#all_data['3'] = labelencoder.fit_transform(all_data['3'])\n",
        "all_data['CowID'] = labelencoder.fit_transform(all_data['CowID'])\n",
        "#all_data['MomID'] = labelencoder.fit_transform(all_data['MomID'])\n",
        "#all_data['DadID'] = labelencoder.fit_transform(all_data['DadID'])\n",
        "all_data['Sampling D Month'] = labelencoder.fit_transform(all_data['Sampling D Month'])\n",
        "new_train = all_data[0:len(new_train)]\n",
        "new_test = all_data[len(new_train)::]\n",
        "all_data=pd.concat([new_train,new_test])\n"
      ],
      "execution_count": null,
      "outputs": []
    },
    {
      "cell_type": "code",
      "metadata": {
        "id": "DPvPGadmOj6C",
        "colab_type": "code",
        "colab": {
          "base_uri": "https://localhost:8080/",
          "height": 419
        },
        "outputId": "acc69d77-f6cf-4680-87a7-51d2e27daf40"
      },
      "source": [
        "all_data"
      ],
      "execution_count": null,
      "outputs": [
        {
          "output_type": "execute_result",
          "data": {
            "text/html": [
              "<div>\n",
              "<style scoped>\n",
              "    .dataframe tbody tr th:only-of-type {\n",
              "        vertical-align: middle;\n",
              "    }\n",
              "\n",
              "    .dataframe tbody tr th {\n",
              "        vertical-align: top;\n",
              "    }\n",
              "\n",
              "    .dataframe thead th {\n",
              "        text-align: right;\n",
              "    }\n",
              "</style>\n",
              "<table border=\"1\" class=\"dataframe\">\n",
              "  <thead>\n",
              "    <tr style=\"text-align: right;\">\n",
              "      <th></th>\n",
              "      <th>firm</th>\n",
              "      <th>CowID</th>\n",
              "      <th>BabyNum</th>\n",
              "      <th>FeedDay</th>\n",
              "      <th>Age</th>\n",
              "      <th>BreedNum</th>\n",
              "      <th>T Max</th>\n",
              "      <th>THI</th>\n",
              "      <th>disease</th>\n",
              "      <th>Sampling D Month</th>\n",
              "    </tr>\n",
              "  </thead>\n",
              "  <tbody>\n",
              "    <tr>\n",
              "      <th>0</th>\n",
              "      <td>2</td>\n",
              "      <td>728</td>\n",
              "      <td>1</td>\n",
              "      <td>55</td>\n",
              "      <td>30</td>\n",
              "      <td>2</td>\n",
              "      <td>27.826169</td>\n",
              "      <td>22.850519</td>\n",
              "      <td>1.0</td>\n",
              "      <td>2</td>\n",
              "    </tr>\n",
              "    <tr>\n",
              "      <th>1</th>\n",
              "      <td>2</td>\n",
              "      <td>736</td>\n",
              "      <td>2</td>\n",
              "      <td>62</td>\n",
              "      <td>38</td>\n",
              "      <td>1</td>\n",
              "      <td>34.900000</td>\n",
              "      <td>27.093337</td>\n",
              "      <td>0.0</td>\n",
              "      <td>1</td>\n",
              "    </tr>\n",
              "    <tr>\n",
              "      <th>2</th>\n",
              "      <td>2</td>\n",
              "      <td>781</td>\n",
              "      <td>1</td>\n",
              "      <td>11</td>\n",
              "      <td>27</td>\n",
              "      <td>0</td>\n",
              "      <td>23.800000</td>\n",
              "      <td>21.498437</td>\n",
              "      <td>0.0</td>\n",
              "      <td>0</td>\n",
              "    </tr>\n",
              "    <tr>\n",
              "      <th>3</th>\n",
              "      <td>1</td>\n",
              "      <td>388</td>\n",
              "      <td>2</td>\n",
              "      <td>290</td>\n",
              "      <td>57</td>\n",
              "      <td>7</td>\n",
              "      <td>15.700000</td>\n",
              "      <td>12.100133</td>\n",
              "      <td>0.0</td>\n",
              "      <td>1</td>\n",
              "    </tr>\n",
              "    <tr>\n",
              "      <th>4</th>\n",
              "      <td>2</td>\n",
              "      <td>189</td>\n",
              "      <td>2</td>\n",
              "      <td>156</td>\n",
              "      <td>55</td>\n",
              "      <td>1</td>\n",
              "      <td>20.200000</td>\n",
              "      <td>17.597478</td>\n",
              "      <td>0.0</td>\n",
              "      <td>3</td>\n",
              "    </tr>\n",
              "    <tr>\n",
              "      <th>...</th>\n",
              "      <td>...</td>\n",
              "      <td>...</td>\n",
              "      <td>...</td>\n",
              "      <td>...</td>\n",
              "      <td>...</td>\n",
              "      <td>...</td>\n",
              "      <td>...</td>\n",
              "      <td>...</td>\n",
              "      <td>...</td>\n",
              "      <td>...</td>\n",
              "    </tr>\n",
              "    <tr>\n",
              "      <th>6678</th>\n",
              "      <td>2</td>\n",
              "      <td>280</td>\n",
              "      <td>3</td>\n",
              "      <td>18</td>\n",
              "      <td>42</td>\n",
              "      <td>0</td>\n",
              "      <td>34.900000</td>\n",
              "      <td>29.323086</td>\n",
              "      <td>0.0</td>\n",
              "      <td>2</td>\n",
              "    </tr>\n",
              "    <tr>\n",
              "      <th>6679</th>\n",
              "      <td>2</td>\n",
              "      <td>1790</td>\n",
              "      <td>2</td>\n",
              "      <td>508</td>\n",
              "      <td>52</td>\n",
              "      <td>4</td>\n",
              "      <td>34.800000</td>\n",
              "      <td>28.814617</td>\n",
              "      <td>0.0</td>\n",
              "      <td>2</td>\n",
              "    </tr>\n",
              "    <tr>\n",
              "      <th>6680</th>\n",
              "      <td>2</td>\n",
              "      <td>1555</td>\n",
              "      <td>3</td>\n",
              "      <td>158</td>\n",
              "      <td>62</td>\n",
              "      <td>1</td>\n",
              "      <td>34.400000</td>\n",
              "      <td>27.200232</td>\n",
              "      <td>0.0</td>\n",
              "      <td>1</td>\n",
              "    </tr>\n",
              "    <tr>\n",
              "      <th>6681</th>\n",
              "      <td>2</td>\n",
              "      <td>466</td>\n",
              "      <td>1</td>\n",
              "      <td>9</td>\n",
              "      <td>22</td>\n",
              "      <td>0</td>\n",
              "      <td>19.500000</td>\n",
              "      <td>16.578618</td>\n",
              "      <td>1.0</td>\n",
              "      <td>3</td>\n",
              "    </tr>\n",
              "    <tr>\n",
              "      <th>6682</th>\n",
              "      <td>2</td>\n",
              "      <td>980</td>\n",
              "      <td>1</td>\n",
              "      <td>204</td>\n",
              "      <td>32</td>\n",
              "      <td>4</td>\n",
              "      <td>25.900000</td>\n",
              "      <td>20.509629</td>\n",
              "      <td>0.0</td>\n",
              "      <td>1</td>\n",
              "    </tr>\n",
              "  </tbody>\n",
              "</table>\n",
              "<p>33163 rows × 10 columns</p>\n",
              "</div>"
            ],
            "text/plain": [
              "      firm  CowID  BabyNum  ...        THI  disease  Sampling D Month\n",
              "0        2    728        1  ...  22.850519      1.0                 2\n",
              "1        2    736        2  ...  27.093337      0.0                 1\n",
              "2        2    781        1  ...  21.498437      0.0                 0\n",
              "3        1    388        2  ...  12.100133      0.0                 1\n",
              "4        2    189        2  ...  17.597478      0.0                 3\n",
              "...    ...    ...      ...  ...        ...      ...               ...\n",
              "6678     2    280        3  ...  29.323086      0.0                 2\n",
              "6679     2   1790        2  ...  28.814617      0.0                 2\n",
              "6680     2   1555        3  ...  27.200232      0.0                 1\n",
              "6681     2    466        1  ...  16.578618      1.0                 3\n",
              "6682     2    980        1  ...  20.509629      0.0                 1\n",
              "\n",
              "[33163 rows x 10 columns]"
            ]
          },
          "metadata": {
            "tags": []
          },
          "execution_count": 31
        }
      ]
    },
    {
      "cell_type": "markdown",
      "metadata": {
        "id": "We-a5ZLZnZJS",
        "colab_type": "text"
      },
      "source": [
        "# 將new_train分群"
      ]
    },
    {
      "cell_type": "code",
      "metadata": {
        "id": "Oc--Hx7TOU9p",
        "colab_type": "code",
        "colab": {
          "base_uri": "https://localhost:8080/",
          "height": 419
        },
        "outputId": "c0ee58e8-0adc-4093-87c4-e93a62ed4f73"
      },
      "source": [
        "group_train=pd.DataFrame(data=new_train,columns=['firm','BabyNum','FeedDay','Age','BreedNum','T Max','THI','disease','Sampling D Month'])\n",
        "group_train"
      ],
      "execution_count": null,
      "outputs": [
        {
          "output_type": "execute_result",
          "data": {
            "text/html": [
              "<div>\n",
              "<style scoped>\n",
              "    .dataframe tbody tr th:only-of-type {\n",
              "        vertical-align: middle;\n",
              "    }\n",
              "\n",
              "    .dataframe tbody tr th {\n",
              "        vertical-align: top;\n",
              "    }\n",
              "\n",
              "    .dataframe thead th {\n",
              "        text-align: right;\n",
              "    }\n",
              "</style>\n",
              "<table border=\"1\" class=\"dataframe\">\n",
              "  <thead>\n",
              "    <tr style=\"text-align: right;\">\n",
              "      <th></th>\n",
              "      <th>firm</th>\n",
              "      <th>BabyNum</th>\n",
              "      <th>FeedDay</th>\n",
              "      <th>Age</th>\n",
              "      <th>BreedNum</th>\n",
              "      <th>T Max</th>\n",
              "      <th>THI</th>\n",
              "      <th>disease</th>\n",
              "      <th>Sampling D Month</th>\n",
              "    </tr>\n",
              "  </thead>\n",
              "  <tbody>\n",
              "    <tr>\n",
              "      <th>0</th>\n",
              "      <td>2</td>\n",
              "      <td>1</td>\n",
              "      <td>55</td>\n",
              "      <td>30</td>\n",
              "      <td>2</td>\n",
              "      <td>27.826169</td>\n",
              "      <td>22.850519</td>\n",
              "      <td>1.0</td>\n",
              "      <td>2</td>\n",
              "    </tr>\n",
              "    <tr>\n",
              "      <th>1</th>\n",
              "      <td>2</td>\n",
              "      <td>2</td>\n",
              "      <td>62</td>\n",
              "      <td>38</td>\n",
              "      <td>1</td>\n",
              "      <td>34.900000</td>\n",
              "      <td>27.093337</td>\n",
              "      <td>0.0</td>\n",
              "      <td>1</td>\n",
              "    </tr>\n",
              "    <tr>\n",
              "      <th>2</th>\n",
              "      <td>2</td>\n",
              "      <td>1</td>\n",
              "      <td>11</td>\n",
              "      <td>27</td>\n",
              "      <td>0</td>\n",
              "      <td>23.800000</td>\n",
              "      <td>21.498437</td>\n",
              "      <td>0.0</td>\n",
              "      <td>0</td>\n",
              "    </tr>\n",
              "    <tr>\n",
              "      <th>3</th>\n",
              "      <td>1</td>\n",
              "      <td>2</td>\n",
              "      <td>290</td>\n",
              "      <td>57</td>\n",
              "      <td>7</td>\n",
              "      <td>15.700000</td>\n",
              "      <td>12.100133</td>\n",
              "      <td>0.0</td>\n",
              "      <td>1</td>\n",
              "    </tr>\n",
              "    <tr>\n",
              "      <th>4</th>\n",
              "      <td>2</td>\n",
              "      <td>2</td>\n",
              "      <td>156</td>\n",
              "      <td>55</td>\n",
              "      <td>1</td>\n",
              "      <td>20.200000</td>\n",
              "      <td>17.597478</td>\n",
              "      <td>0.0</td>\n",
              "      <td>3</td>\n",
              "    </tr>\n",
              "    <tr>\n",
              "      <th>...</th>\n",
              "      <td>...</td>\n",
              "      <td>...</td>\n",
              "      <td>...</td>\n",
              "      <td>...</td>\n",
              "      <td>...</td>\n",
              "      <td>...</td>\n",
              "      <td>...</td>\n",
              "      <td>...</td>\n",
              "      <td>...</td>\n",
              "    </tr>\n",
              "    <tr>\n",
              "      <th>26475</th>\n",
              "      <td>2</td>\n",
              "      <td>3</td>\n",
              "      <td>137</td>\n",
              "      <td>60</td>\n",
              "      <td>1</td>\n",
              "      <td>31.900000</td>\n",
              "      <td>27.146230</td>\n",
              "      <td>0.0</td>\n",
              "      <td>1</td>\n",
              "    </tr>\n",
              "    <tr>\n",
              "      <th>26476</th>\n",
              "      <td>2</td>\n",
              "      <td>1</td>\n",
              "      <td>216</td>\n",
              "      <td>33</td>\n",
              "      <td>1</td>\n",
              "      <td>27.900000</td>\n",
              "      <td>24.074355</td>\n",
              "      <td>0.0</td>\n",
              "      <td>0</td>\n",
              "    </tr>\n",
              "    <tr>\n",
              "      <th>26477</th>\n",
              "      <td>2</td>\n",
              "      <td>1</td>\n",
              "      <td>37</td>\n",
              "      <td>26</td>\n",
              "      <td>0</td>\n",
              "      <td>16.200000</td>\n",
              "      <td>13.401030</td>\n",
              "      <td>0.0</td>\n",
              "      <td>3</td>\n",
              "    </tr>\n",
              "    <tr>\n",
              "      <th>26478</th>\n",
              "      <td>1</td>\n",
              "      <td>1</td>\n",
              "      <td>73</td>\n",
              "      <td>34</td>\n",
              "      <td>0</td>\n",
              "      <td>34.100000</td>\n",
              "      <td>26.279941</td>\n",
              "      <td>0.0</td>\n",
              "      <td>2</td>\n",
              "    </tr>\n",
              "    <tr>\n",
              "      <th>26479</th>\n",
              "      <td>1</td>\n",
              "      <td>3</td>\n",
              "      <td>321</td>\n",
              "      <td>70</td>\n",
              "      <td>4</td>\n",
              "      <td>33.800000</td>\n",
              "      <td>26.861394</td>\n",
              "      <td>0.0</td>\n",
              "      <td>2</td>\n",
              "    </tr>\n",
              "  </tbody>\n",
              "</table>\n",
              "<p>26480 rows × 9 columns</p>\n",
              "</div>"
            ],
            "text/plain": [
              "       firm  BabyNum  FeedDay  ...        THI  disease  Sampling D Month\n",
              "0         2        1       55  ...  22.850519      1.0                 2\n",
              "1         2        2       62  ...  27.093337      0.0                 1\n",
              "2         2        1       11  ...  21.498437      0.0                 0\n",
              "3         1        2      290  ...  12.100133      0.0                 1\n",
              "4         2        2      156  ...  17.597478      0.0                 3\n",
              "...     ...      ...      ...  ...        ...      ...               ...\n",
              "26475     2        3      137  ...  27.146230      0.0                 1\n",
              "26476     2        1      216  ...  24.074355      0.0                 0\n",
              "26477     2        1       37  ...  13.401030      0.0                 3\n",
              "26478     1        1       73  ...  26.279941      0.0                 2\n",
              "26479     1        3      321  ...  26.861394      0.0                 2\n",
              "\n",
              "[26480 rows x 9 columns]"
            ]
          },
          "metadata": {
            "tags": []
          },
          "execution_count": 32
        }
      ]
    },
    {
      "cell_type": "code",
      "metadata": {
        "id": "ujr9GBziO5lw",
        "colab_type": "code",
        "colab": {}
      },
      "source": [
        "group_train=group_train.values"
      ],
      "execution_count": null,
      "outputs": []
    },
    {
      "cell_type": "code",
      "metadata": {
        "id": "3dcjqeesZF2z",
        "colab_type": "code",
        "colab": {
          "base_uri": "https://localhost:8080/",
          "height": 269
        },
        "outputId": "afc156fa-2df1-492e-be3d-3fc0ad7459bb"
      },
      "source": [
        "#plt.scatter(group_train[:,0],group_train[:,1],s=50)\n",
        "from sklearn.cluster import KMeans\n",
        "clf = KMeans(n_clusters=2)\n",
        "#開始訓練！\n",
        "clf.fit(group_train)\n",
        "\n",
        "#這樣就可以取得預測結果了！\n",
        "clf.labels_\n",
        "\n",
        "#最後畫出來看看\n",
        "#真的分成三類！太神奇了………無意義的資料也能分～\n",
        "#plt.scatter(group_train[:,0],group_train[:,1], c=clf.labels_)\n",
        "lable_pred=clf.labels_\n",
        "whichGroup_train=pd.DataFrame(data=new_train,columns=['Group'])\n",
        "i=0\n",
        "for i in range(len(whichGroup_train['Group'])):\n",
        "  whichGroup_train['Group'][i]=lable_pred[i]\n",
        "print(whichGroup_train)"
      ],
      "execution_count": null,
      "outputs": [
        {
          "output_type": "stream",
          "text": [
            "       Group\n",
            "0        0.0\n",
            "1        0.0\n",
            "2        0.0\n",
            "3        1.0\n",
            "4        0.0\n",
            "...      ...\n",
            "26475    0.0\n",
            "26476    0.0\n",
            "26477    0.0\n",
            "26478    0.0\n",
            "26479    1.0\n",
            "\n",
            "[26480 rows x 1 columns]\n"
          ],
          "name": "stdout"
        }
      ]
    },
    {
      "cell_type": "code",
      "metadata": {
        "id": "diAASuQJqWJO",
        "colab_type": "code",
        "colab": {
          "base_uri": "https://localhost:8080/",
          "height": 71
        },
        "outputId": "1285a29e-48e0-44e3-a9d6-34afcf3c11a9"
      },
      "source": [
        "zero=0\n",
        "one=0\n",
        "two=0\n",
        "for i in range(len(whichGroup_train['Group'])):\n",
        "  if whichGroup_train['Group'][i]==0:\n",
        "    zero=zero+1\n",
        "  elif whichGroup_train['Group'][i]==1:\n",
        "    one=one+1\n",
        "  elif whichGroup_train['Group'][i]==2:\n",
        "    two=two+1\n",
        "print(zero)\n",
        "print(one)\n",
        "print(two)"
      ],
      "execution_count": null,
      "outputs": [
        {
          "output_type": "stream",
          "text": [
            "17564\n",
            "8916\n",
            "0\n"
          ],
          "name": "stdout"
        }
      ]
    },
    {
      "cell_type": "markdown",
      "metadata": {
        "id": "rZ-g9uwnndNk",
        "colab_type": "text"
      },
      "source": [
        "# 將new_train依照各群分開"
      ]
    },
    {
      "cell_type": "code",
      "metadata": {
        "id": "WYhyDHuhiaaY",
        "colab_type": "code",
        "colab": {
          "base_uri": "https://localhost:8080/",
          "height": 419
        },
        "outputId": "a9421012-a9f2-42eb-e0e0-a9af7d89645f"
      },
      "source": [
        "##分出類別0的\n",
        "classification_zero = new_train\n",
        "for i in range(len(whichGroup_train['Group'])): \n",
        "    if whichGroup_train['Group'][i] != 0 :\n",
        "        classification_zero = classification_zero.drop([i])\n",
        "classification_zero"
      ],
      "execution_count": null,
      "outputs": [
        {
          "output_type": "execute_result",
          "data": {
            "text/html": [
              "<div>\n",
              "<style scoped>\n",
              "    .dataframe tbody tr th:only-of-type {\n",
              "        vertical-align: middle;\n",
              "    }\n",
              "\n",
              "    .dataframe tbody tr th {\n",
              "        vertical-align: top;\n",
              "    }\n",
              "\n",
              "    .dataframe thead th {\n",
              "        text-align: right;\n",
              "    }\n",
              "</style>\n",
              "<table border=\"1\" class=\"dataframe\">\n",
              "  <thead>\n",
              "    <tr style=\"text-align: right;\">\n",
              "      <th></th>\n",
              "      <th>firm</th>\n",
              "      <th>CowID</th>\n",
              "      <th>BabyNum</th>\n",
              "      <th>FeedDay</th>\n",
              "      <th>Age</th>\n",
              "      <th>BreedNum</th>\n",
              "      <th>T Max</th>\n",
              "      <th>THI</th>\n",
              "      <th>disease</th>\n",
              "      <th>Sampling D Month</th>\n",
              "    </tr>\n",
              "  </thead>\n",
              "  <tbody>\n",
              "    <tr>\n",
              "      <th>0</th>\n",
              "      <td>2</td>\n",
              "      <td>728</td>\n",
              "      <td>1</td>\n",
              "      <td>55</td>\n",
              "      <td>30</td>\n",
              "      <td>2</td>\n",
              "      <td>27.826169</td>\n",
              "      <td>22.850519</td>\n",
              "      <td>1.0</td>\n",
              "      <td>2</td>\n",
              "    </tr>\n",
              "    <tr>\n",
              "      <th>1</th>\n",
              "      <td>2</td>\n",
              "      <td>736</td>\n",
              "      <td>2</td>\n",
              "      <td>62</td>\n",
              "      <td>38</td>\n",
              "      <td>1</td>\n",
              "      <td>34.900000</td>\n",
              "      <td>27.093337</td>\n",
              "      <td>0.0</td>\n",
              "      <td>1</td>\n",
              "    </tr>\n",
              "    <tr>\n",
              "      <th>2</th>\n",
              "      <td>2</td>\n",
              "      <td>781</td>\n",
              "      <td>1</td>\n",
              "      <td>11</td>\n",
              "      <td>27</td>\n",
              "      <td>0</td>\n",
              "      <td>23.800000</td>\n",
              "      <td>21.498437</td>\n",
              "      <td>0.0</td>\n",
              "      <td>0</td>\n",
              "    </tr>\n",
              "    <tr>\n",
              "      <th>4</th>\n",
              "      <td>2</td>\n",
              "      <td>189</td>\n",
              "      <td>2</td>\n",
              "      <td>156</td>\n",
              "      <td>55</td>\n",
              "      <td>1</td>\n",
              "      <td>20.200000</td>\n",
              "      <td>17.597478</td>\n",
              "      <td>0.0</td>\n",
              "      <td>3</td>\n",
              "    </tr>\n",
              "    <tr>\n",
              "      <th>5</th>\n",
              "      <td>2</td>\n",
              "      <td>297</td>\n",
              "      <td>3</td>\n",
              "      <td>58</td>\n",
              "      <td>58</td>\n",
              "      <td>0</td>\n",
              "      <td>21.800000</td>\n",
              "      <td>19.043600</td>\n",
              "      <td>0.0</td>\n",
              "      <td>3</td>\n",
              "    </tr>\n",
              "    <tr>\n",
              "      <th>...</th>\n",
              "      <td>...</td>\n",
              "      <td>...</td>\n",
              "      <td>...</td>\n",
              "      <td>...</td>\n",
              "      <td>...</td>\n",
              "      <td>...</td>\n",
              "      <td>...</td>\n",
              "      <td>...</td>\n",
              "      <td>...</td>\n",
              "      <td>...</td>\n",
              "    </tr>\n",
              "    <tr>\n",
              "      <th>26474</th>\n",
              "      <td>1</td>\n",
              "      <td>6</td>\n",
              "      <td>2</td>\n",
              "      <td>121</td>\n",
              "      <td>54</td>\n",
              "      <td>1</td>\n",
              "      <td>34.100000</td>\n",
              "      <td>26.279941</td>\n",
              "      <td>0.0</td>\n",
              "      <td>2</td>\n",
              "    </tr>\n",
              "    <tr>\n",
              "      <th>26475</th>\n",
              "      <td>2</td>\n",
              "      <td>495</td>\n",
              "      <td>3</td>\n",
              "      <td>137</td>\n",
              "      <td>60</td>\n",
              "      <td>1</td>\n",
              "      <td>31.900000</td>\n",
              "      <td>27.146230</td>\n",
              "      <td>0.0</td>\n",
              "      <td>1</td>\n",
              "    </tr>\n",
              "    <tr>\n",
              "      <th>26476</th>\n",
              "      <td>2</td>\n",
              "      <td>1313</td>\n",
              "      <td>1</td>\n",
              "      <td>216</td>\n",
              "      <td>33</td>\n",
              "      <td>1</td>\n",
              "      <td>27.900000</td>\n",
              "      <td>24.074355</td>\n",
              "      <td>0.0</td>\n",
              "      <td>0</td>\n",
              "    </tr>\n",
              "    <tr>\n",
              "      <th>26477</th>\n",
              "      <td>2</td>\n",
              "      <td>149</td>\n",
              "      <td>1</td>\n",
              "      <td>37</td>\n",
              "      <td>26</td>\n",
              "      <td>0</td>\n",
              "      <td>16.200000</td>\n",
              "      <td>13.401030</td>\n",
              "      <td>0.0</td>\n",
              "      <td>3</td>\n",
              "    </tr>\n",
              "    <tr>\n",
              "      <th>26478</th>\n",
              "      <td>1</td>\n",
              "      <td>255</td>\n",
              "      <td>1</td>\n",
              "      <td>73</td>\n",
              "      <td>34</td>\n",
              "      <td>0</td>\n",
              "      <td>34.100000</td>\n",
              "      <td>26.279941</td>\n",
              "      <td>0.0</td>\n",
              "      <td>2</td>\n",
              "    </tr>\n",
              "  </tbody>\n",
              "</table>\n",
              "<p>17564 rows × 10 columns</p>\n",
              "</div>"
            ],
            "text/plain": [
              "       firm  CowID  BabyNum  ...        THI  disease  Sampling D Month\n",
              "0         2    728        1  ...  22.850519      1.0                 2\n",
              "1         2    736        2  ...  27.093337      0.0                 1\n",
              "2         2    781        1  ...  21.498437      0.0                 0\n",
              "4         2    189        2  ...  17.597478      0.0                 3\n",
              "5         2    297        3  ...  19.043600      0.0                 3\n",
              "...     ...    ...      ...  ...        ...      ...               ...\n",
              "26474     1      6        2  ...  26.279941      0.0                 2\n",
              "26475     2    495        3  ...  27.146230      0.0                 1\n",
              "26476     2   1313        1  ...  24.074355      0.0                 0\n",
              "26477     2    149        1  ...  13.401030      0.0                 3\n",
              "26478     1    255        1  ...  26.279941      0.0                 2\n",
              "\n",
              "[17564 rows x 10 columns]"
            ]
          },
          "metadata": {
            "tags": []
          },
          "execution_count": 37
        }
      ]
    },
    {
      "cell_type": "code",
      "metadata": {
        "id": "9xJ7PXBBlBj-",
        "colab_type": "code",
        "colab": {
          "base_uri": "https://localhost:8080/",
          "height": 419
        },
        "outputId": "88473eca-6502-443d-b3a3-9cabd6bd9bda"
      },
      "source": [
        "##分出類別1的\n",
        "classification_one = new_train\n",
        "for i in range(len(whichGroup_train['Group'])): \n",
        "    if whichGroup_train['Group'][i] != 1 :\n",
        "        classification_one = classification_one.drop([i])\n",
        "classification_one"
      ],
      "execution_count": null,
      "outputs": [
        {
          "output_type": "execute_result",
          "data": {
            "text/html": [
              "<div>\n",
              "<style scoped>\n",
              "    .dataframe tbody tr th:only-of-type {\n",
              "        vertical-align: middle;\n",
              "    }\n",
              "\n",
              "    .dataframe tbody tr th {\n",
              "        vertical-align: top;\n",
              "    }\n",
              "\n",
              "    .dataframe thead th {\n",
              "        text-align: right;\n",
              "    }\n",
              "</style>\n",
              "<table border=\"1\" class=\"dataframe\">\n",
              "  <thead>\n",
              "    <tr style=\"text-align: right;\">\n",
              "      <th></th>\n",
              "      <th>firm</th>\n",
              "      <th>CowID</th>\n",
              "      <th>BabyNum</th>\n",
              "      <th>FeedDay</th>\n",
              "      <th>Age</th>\n",
              "      <th>BreedNum</th>\n",
              "      <th>T Max</th>\n",
              "      <th>THI</th>\n",
              "      <th>disease</th>\n",
              "      <th>Sampling D Month</th>\n",
              "    </tr>\n",
              "  </thead>\n",
              "  <tbody>\n",
              "    <tr>\n",
              "      <th>3</th>\n",
              "      <td>1</td>\n",
              "      <td>388</td>\n",
              "      <td>2</td>\n",
              "      <td>290</td>\n",
              "      <td>57</td>\n",
              "      <td>7</td>\n",
              "      <td>15.7</td>\n",
              "      <td>12.100133</td>\n",
              "      <td>0.0</td>\n",
              "      <td>1</td>\n",
              "    </tr>\n",
              "    <tr>\n",
              "      <th>8</th>\n",
              "      <td>2</td>\n",
              "      <td>325</td>\n",
              "      <td>1</td>\n",
              "      <td>305</td>\n",
              "      <td>33</td>\n",
              "      <td>5</td>\n",
              "      <td>35.9</td>\n",
              "      <td>28.220560</td>\n",
              "      <td>0.0</td>\n",
              "      <td>2</td>\n",
              "    </tr>\n",
              "    <tr>\n",
              "      <th>11</th>\n",
              "      <td>2</td>\n",
              "      <td>526</td>\n",
              "      <td>1</td>\n",
              "      <td>376</td>\n",
              "      <td>39</td>\n",
              "      <td>4</td>\n",
              "      <td>25.5</td>\n",
              "      <td>20.236278</td>\n",
              "      <td>0.0</td>\n",
              "      <td>3</td>\n",
              "    </tr>\n",
              "    <tr>\n",
              "      <th>12</th>\n",
              "      <td>2</td>\n",
              "      <td>427</td>\n",
              "      <td>3</td>\n",
              "      <td>325</td>\n",
              "      <td>73</td>\n",
              "      <td>3</td>\n",
              "      <td>33.1</td>\n",
              "      <td>27.836711</td>\n",
              "      <td>0.0</td>\n",
              "      <td>2</td>\n",
              "    </tr>\n",
              "    <tr>\n",
              "      <th>16</th>\n",
              "      <td>2</td>\n",
              "      <td>315</td>\n",
              "      <td>3</td>\n",
              "      <td>293</td>\n",
              "      <td>71</td>\n",
              "      <td>1</td>\n",
              "      <td>34.8</td>\n",
              "      <td>28.960620</td>\n",
              "      <td>0.0</td>\n",
              "      <td>2</td>\n",
              "    </tr>\n",
              "    <tr>\n",
              "      <th>...</th>\n",
              "      <td>...</td>\n",
              "      <td>...</td>\n",
              "      <td>...</td>\n",
              "      <td>...</td>\n",
              "      <td>...</td>\n",
              "      <td>...</td>\n",
              "      <td>...</td>\n",
              "      <td>...</td>\n",
              "      <td>...</td>\n",
              "      <td>...</td>\n",
              "    </tr>\n",
              "    <tr>\n",
              "      <th>26449</th>\n",
              "      <td>1</td>\n",
              "      <td>398</td>\n",
              "      <td>1</td>\n",
              "      <td>340</td>\n",
              "      <td>47</td>\n",
              "      <td>3</td>\n",
              "      <td>32.1</td>\n",
              "      <td>25.864153</td>\n",
              "      <td>0.0</td>\n",
              "      <td>2</td>\n",
              "    </tr>\n",
              "    <tr>\n",
              "      <th>26453</th>\n",
              "      <td>1</td>\n",
              "      <td>607</td>\n",
              "      <td>1</td>\n",
              "      <td>644</td>\n",
              "      <td>57</td>\n",
              "      <td>8</td>\n",
              "      <td>26.0</td>\n",
              "      <td>21.637700</td>\n",
              "      <td>0.0</td>\n",
              "      <td>0</td>\n",
              "    </tr>\n",
              "    <tr>\n",
              "      <th>26462</th>\n",
              "      <td>3</td>\n",
              "      <td>215</td>\n",
              "      <td>1</td>\n",
              "      <td>298</td>\n",
              "      <td>33</td>\n",
              "      <td>1</td>\n",
              "      <td>24.5</td>\n",
              "      <td>18.595894</td>\n",
              "      <td>0.0</td>\n",
              "      <td>3</td>\n",
              "    </tr>\n",
              "    <tr>\n",
              "      <th>26466</th>\n",
              "      <td>2</td>\n",
              "      <td>1563</td>\n",
              "      <td>2</td>\n",
              "      <td>353</td>\n",
              "      <td>59</td>\n",
              "      <td>3</td>\n",
              "      <td>34.4</td>\n",
              "      <td>27.200232</td>\n",
              "      <td>0.0</td>\n",
              "      <td>1</td>\n",
              "    </tr>\n",
              "    <tr>\n",
              "      <th>26479</th>\n",
              "      <td>1</td>\n",
              "      <td>1470</td>\n",
              "      <td>3</td>\n",
              "      <td>321</td>\n",
              "      <td>70</td>\n",
              "      <td>4</td>\n",
              "      <td>33.8</td>\n",
              "      <td>26.861394</td>\n",
              "      <td>0.0</td>\n",
              "      <td>2</td>\n",
              "    </tr>\n",
              "  </tbody>\n",
              "</table>\n",
              "<p>8916 rows × 10 columns</p>\n",
              "</div>"
            ],
            "text/plain": [
              "       firm  CowID  BabyNum  ...        THI  disease  Sampling D Month\n",
              "3         1    388        2  ...  12.100133      0.0                 1\n",
              "8         2    325        1  ...  28.220560      0.0                 2\n",
              "11        2    526        1  ...  20.236278      0.0                 3\n",
              "12        2    427        3  ...  27.836711      0.0                 2\n",
              "16        2    315        3  ...  28.960620      0.0                 2\n",
              "...     ...    ...      ...  ...        ...      ...               ...\n",
              "26449     1    398        1  ...  25.864153      0.0                 2\n",
              "26453     1    607        1  ...  21.637700      0.0                 0\n",
              "26462     3    215        1  ...  18.595894      0.0                 3\n",
              "26466     2   1563        2  ...  27.200232      0.0                 1\n",
              "26479     1   1470        3  ...  26.861394      0.0                 2\n",
              "\n",
              "[8916 rows x 10 columns]"
            ]
          },
          "metadata": {
            "tags": []
          },
          "execution_count": 38
        }
      ]
    },
    {
      "cell_type": "code",
      "metadata": {
        "id": "KIaZ087ilLEE",
        "colab_type": "code",
        "colab": {}
      },
      "source": [
        "##分出類別2的\n",
        "classification_two = new_train\n",
        "for i in range(len(whichGroup_train['Group'])): \n",
        "    if whichGroup_train['Group'][i] != 2 :\n",
        "        classification_two = classification_two.drop([i])\n",
        "classification_two"
      ],
      "execution_count": null,
      "outputs": []
    },
    {
      "cell_type": "markdown",
      "metadata": {
        "id": "c5naA4GNni7J",
        "colab_type": "text"
      },
      "source": [
        "# 將train_milk依照各群分開"
      ]
    },
    {
      "cell_type": "code",
      "metadata": {
        "id": "vbNT3Htxlc3h",
        "colab_type": "code",
        "colab": {
          "base_uri": "https://localhost:8080/",
          "height": 233
        },
        "outputId": "77334612-5a07-4b18-89c5-47b5313396ea"
      },
      "source": [
        "##分出類別0的牛奶\n",
        "classification_zero_milk = y\n",
        "for i in range(len(whichGroup_train['Group'])): \n",
        "    if whichGroup_train['Group'][i] != 0 :\n",
        "        classification_zero_milk = classification_zero_milk.drop([i])\n",
        "classification_zero_milk"
      ],
      "execution_count": null,
      "outputs": [
        {
          "output_type": "execute_result",
          "data": {
            "text/plain": [
              "0        20.0\n",
              "1        43.0\n",
              "2        24.0\n",
              "4        10.0\n",
              "5        41.0\n",
              "         ... \n",
              "26474    35.0\n",
              "26475    33.0\n",
              "26476    24.0\n",
              "26477    20.4\n",
              "26478    19.0\n",
              "Name: Milk, Length: 17564, dtype: float64"
            ]
          },
          "metadata": {
            "tags": []
          },
          "execution_count": 39
        }
      ]
    },
    {
      "cell_type": "code",
      "metadata": {
        "id": "VwuLIHN5ofaM",
        "colab_type": "code",
        "colab": {
          "base_uri": "https://localhost:8080/",
          "height": 233
        },
        "outputId": "98d432bf-c4f6-485a-cc45-036e4309df51"
      },
      "source": [
        "##分出類別1的牛奶\n",
        "classification_one_milk = y\n",
        "for i in range(len(whichGroup_train['Group'])): \n",
        "    if whichGroup_train['Group'][i] != 1 :\n",
        "        classification_one_milk = classification_one_milk.drop([i])\n",
        "classification_one_milk"
      ],
      "execution_count": null,
      "outputs": [
        {
          "output_type": "execute_result",
          "data": {
            "text/plain": [
              "3        18.2\n",
              "8        18.0\n",
              "11       21.0\n",
              "12       10.0\n",
              "16       25.0\n",
              "         ... \n",
              "26449    22.5\n",
              "26453    18.0\n",
              "26462    14.0\n",
              "26466    13.6\n",
              "26479    25.5\n",
              "Name: Milk, Length: 8916, dtype: float64"
            ]
          },
          "metadata": {
            "tags": []
          },
          "execution_count": 40
        }
      ]
    },
    {
      "cell_type": "code",
      "metadata": {
        "id": "OflKO3QlooOG",
        "colab_type": "code",
        "colab": {}
      },
      "source": [
        "##分出類別2的牛奶\n",
        "classification_two_milk = y\n",
        "for i in range(len(whichGroup_train['Group'])): \n",
        "    if whichGroup_train['Group'][i] != 2 :\n",
        "        classification_two_milk = classification_two_milk.drop([i])\n",
        "classification_two_milk"
      ],
      "execution_count": null,
      "outputs": []
    },
    {
      "cell_type": "markdown",
      "metadata": {
        "id": "mF5CeC6GprSv",
        "colab_type": "text"
      },
      "source": [
        "# 將new_test分群"
      ]
    },
    {
      "cell_type": "code",
      "metadata": {
        "id": "DdCsvY9cqSqr",
        "colab_type": "code",
        "colab": {
          "base_uri": "https://localhost:8080/",
          "height": 269
        },
        "outputId": "339b3051-6ba4-4cb5-a75a-b0af594a29c3"
      },
      "source": [
        "group_test=pd.DataFrame(data=new_test,columns=['firm','BabyNum','FeedDay','Age','BreedNum','T Max','THI','disease','Sampling D Month'])\n",
        "group_test=group_test.values\n",
        "#plt.scatter(group_test[:,0],group_test[:,1],s=50)\n",
        "from sklearn.cluster import KMeans\n",
        "clf = KMeans(n_clusters=2)\n",
        "#開始訓練！\n",
        "clf.fit(group_test)\n",
        "\n",
        "#這樣就可以取得預測結果了！\n",
        "clf.labels_\n",
        "\n",
        "#最後畫出來看看\n",
        "#真的分成三類！太神奇了………無意義的資料也能分～\n",
        "#plt.scatter(group_test[:,0],group_test[:,1], c=clf.labels_)\n",
        "lable_pred=clf.labels_\n",
        "whichGroup_test=pd.DataFrame(data=new_test,columns=['Group'])\n",
        "i=0\n",
        "for i in range(len(whichGroup_test['Group'])):\n",
        "  whichGroup_test['Group'][i]=lable_pred[i]\n",
        "print(whichGroup_test)"
      ],
      "execution_count": null,
      "outputs": [
        {
          "output_type": "stream",
          "text": [
            "      Group\n",
            "0       1.0\n",
            "1       1.0\n",
            "2       0.0\n",
            "3       1.0\n",
            "4       1.0\n",
            "...     ...\n",
            "6678    1.0\n",
            "6679    0.0\n",
            "6680    1.0\n",
            "6681    1.0\n",
            "6682    1.0\n",
            "\n",
            "[6683 rows x 1 columns]\n"
          ],
          "name": "stdout"
        }
      ]
    },
    {
      "cell_type": "code",
      "metadata": {
        "id": "TlMauC-Dquq7",
        "colab_type": "code",
        "colab": {
          "base_uri": "https://localhost:8080/",
          "height": 71
        },
        "outputId": "e298cf3d-ad55-4960-96f4-920cde984bab"
      },
      "source": [
        "test_zero=0\n",
        "test_one=0\n",
        "test_two=0\n",
        "for i in range(len(whichGroup_test['Group'])):\n",
        "  if whichGroup_test['Group'][i]==0:\n",
        "    test_zero=test_zero+1\n",
        "  elif whichGroup_test['Group'][i]==1:\n",
        "    test_one=test_one+1\n",
        "  elif whichGroup_test['Group'][i]==2:\n",
        "    test_two=test_two+1\n",
        "print(test_zero)\n",
        "print(test_one)\n",
        "print(test_two)"
      ],
      "execution_count": null,
      "outputs": [
        {
          "output_type": "stream",
          "text": [
            "2400\n",
            "4283\n",
            "0\n"
          ],
          "name": "stdout"
        }
      ]
    },
    {
      "cell_type": "markdown",
      "metadata": {
        "id": "-UaoeoL8rZTF",
        "colab_type": "text"
      },
      "source": [
        "# 將new_test依照各群分開"
      ]
    },
    {
      "cell_type": "code",
      "metadata": {
        "id": "c9o20X5Drh10",
        "colab_type": "code",
        "colab": {
          "base_uri": "https://localhost:8080/",
          "height": 419
        },
        "outputId": "ec1b4e67-55c6-4722-b96f-d00faa8c031f"
      },
      "source": [
        "##分出類別0的\n",
        "classification_zero_test = new_test\n",
        "for i in range(len(whichGroup_test['Group'])): \n",
        "    if whichGroup_test['Group'][i] != 0 :\n",
        "        classification_zero_test = classification_zero_test.drop([i])\n",
        "classification_zero_test"
      ],
      "execution_count": null,
      "outputs": [
        {
          "output_type": "execute_result",
          "data": {
            "text/html": [
              "<div>\n",
              "<style scoped>\n",
              "    .dataframe tbody tr th:only-of-type {\n",
              "        vertical-align: middle;\n",
              "    }\n",
              "\n",
              "    .dataframe tbody tr th {\n",
              "        vertical-align: top;\n",
              "    }\n",
              "\n",
              "    .dataframe thead th {\n",
              "        text-align: right;\n",
              "    }\n",
              "</style>\n",
              "<table border=\"1\" class=\"dataframe\">\n",
              "  <thead>\n",
              "    <tr style=\"text-align: right;\">\n",
              "      <th></th>\n",
              "      <th>firm</th>\n",
              "      <th>CowID</th>\n",
              "      <th>BabyNum</th>\n",
              "      <th>FeedDay</th>\n",
              "      <th>Age</th>\n",
              "      <th>BreedNum</th>\n",
              "      <th>T Max</th>\n",
              "      <th>THI</th>\n",
              "      <th>disease</th>\n",
              "      <th>Sampling D Month</th>\n",
              "    </tr>\n",
              "  </thead>\n",
              "  <tbody>\n",
              "    <tr>\n",
              "      <th>2</th>\n",
              "      <td>3</td>\n",
              "      <td>1817</td>\n",
              "      <td>1</td>\n",
              "      <td>365</td>\n",
              "      <td>38</td>\n",
              "      <td>5</td>\n",
              "      <td>27.808703</td>\n",
              "      <td>22.838761</td>\n",
              "      <td>0.0</td>\n",
              "      <td>2</td>\n",
              "    </tr>\n",
              "    <tr>\n",
              "      <th>6</th>\n",
              "      <td>2</td>\n",
              "      <td>553</td>\n",
              "      <td>2</td>\n",
              "      <td>244</td>\n",
              "      <td>45</td>\n",
              "      <td>2</td>\n",
              "      <td>28.000000</td>\n",
              "      <td>22.310702</td>\n",
              "      <td>0.0</td>\n",
              "      <td>3</td>\n",
              "    </tr>\n",
              "    <tr>\n",
              "      <th>7</th>\n",
              "      <td>3</td>\n",
              "      <td>335</td>\n",
              "      <td>3</td>\n",
              "      <td>270</td>\n",
              "      <td>55</td>\n",
              "      <td>2</td>\n",
              "      <td>34.200000</td>\n",
              "      <td>27.980298</td>\n",
              "      <td>0.0</td>\n",
              "      <td>2</td>\n",
              "    </tr>\n",
              "    <tr>\n",
              "      <th>9</th>\n",
              "      <td>2</td>\n",
              "      <td>1431</td>\n",
              "      <td>4</td>\n",
              "      <td>393</td>\n",
              "      <td>86</td>\n",
              "      <td>6</td>\n",
              "      <td>16.200000</td>\n",
              "      <td>13.401030</td>\n",
              "      <td>0.0</td>\n",
              "      <td>3</td>\n",
              "    </tr>\n",
              "    <tr>\n",
              "      <th>10</th>\n",
              "      <td>2</td>\n",
              "      <td>507</td>\n",
              "      <td>2</td>\n",
              "      <td>275</td>\n",
              "      <td>47</td>\n",
              "      <td>3</td>\n",
              "      <td>35.200000</td>\n",
              "      <td>22.838761</td>\n",
              "      <td>0.0</td>\n",
              "      <td>2</td>\n",
              "    </tr>\n",
              "    <tr>\n",
              "      <th>...</th>\n",
              "      <td>...</td>\n",
              "      <td>...</td>\n",
              "      <td>...</td>\n",
              "      <td>...</td>\n",
              "      <td>...</td>\n",
              "      <td>...</td>\n",
              "      <td>...</td>\n",
              "      <td>...</td>\n",
              "      <td>...</td>\n",
              "      <td>...</td>\n",
              "    </tr>\n",
              "    <tr>\n",
              "      <th>6672</th>\n",
              "      <td>2</td>\n",
              "      <td>1742</td>\n",
              "      <td>2</td>\n",
              "      <td>244</td>\n",
              "      <td>59</td>\n",
              "      <td>1</td>\n",
              "      <td>33.200000</td>\n",
              "      <td>28.332506</td>\n",
              "      <td>0.0</td>\n",
              "      <td>0</td>\n",
              "    </tr>\n",
              "    <tr>\n",
              "      <th>6673</th>\n",
              "      <td>1</td>\n",
              "      <td>12</td>\n",
              "      <td>1</td>\n",
              "      <td>698</td>\n",
              "      <td>50</td>\n",
              "      <td>5</td>\n",
              "      <td>29.600000</td>\n",
              "      <td>23.287839</td>\n",
              "      <td>0.0</td>\n",
              "      <td>1</td>\n",
              "    </tr>\n",
              "    <tr>\n",
              "      <th>6675</th>\n",
              "      <td>2</td>\n",
              "      <td>164</td>\n",
              "      <td>1</td>\n",
              "      <td>600</td>\n",
              "      <td>47</td>\n",
              "      <td>7</td>\n",
              "      <td>31.000000</td>\n",
              "      <td>26.344717</td>\n",
              "      <td>0.0</td>\n",
              "      <td>0</td>\n",
              "    </tr>\n",
              "    <tr>\n",
              "      <th>6677</th>\n",
              "      <td>2</td>\n",
              "      <td>425</td>\n",
              "      <td>3</td>\n",
              "      <td>300</td>\n",
              "      <td>64</td>\n",
              "      <td>4</td>\n",
              "      <td>22.800000</td>\n",
              "      <td>19.074012</td>\n",
              "      <td>0.0</td>\n",
              "      <td>3</td>\n",
              "    </tr>\n",
              "    <tr>\n",
              "      <th>6679</th>\n",
              "      <td>2</td>\n",
              "      <td>1790</td>\n",
              "      <td>2</td>\n",
              "      <td>508</td>\n",
              "      <td>52</td>\n",
              "      <td>4</td>\n",
              "      <td>34.800000</td>\n",
              "      <td>28.814617</td>\n",
              "      <td>0.0</td>\n",
              "      <td>2</td>\n",
              "    </tr>\n",
              "  </tbody>\n",
              "</table>\n",
              "<p>2400 rows × 10 columns</p>\n",
              "</div>"
            ],
            "text/plain": [
              "      firm  CowID  BabyNum  ...        THI  disease  Sampling D Month\n",
              "2        3   1817        1  ...  22.838761      0.0                 2\n",
              "6        2    553        2  ...  22.310702      0.0                 3\n",
              "7        3    335        3  ...  27.980298      0.0                 2\n",
              "9        2   1431        4  ...  13.401030      0.0                 3\n",
              "10       2    507        2  ...  22.838761      0.0                 2\n",
              "...    ...    ...      ...  ...        ...      ...               ...\n",
              "6672     2   1742        2  ...  28.332506      0.0                 0\n",
              "6673     1     12        1  ...  23.287839      0.0                 1\n",
              "6675     2    164        1  ...  26.344717      0.0                 0\n",
              "6677     2    425        3  ...  19.074012      0.0                 3\n",
              "6679     2   1790        2  ...  28.814617      0.0                 2\n",
              "\n",
              "[2400 rows x 10 columns]"
            ]
          },
          "metadata": {
            "tags": []
          },
          "execution_count": 43
        }
      ]
    },
    {
      "cell_type": "code",
      "metadata": {
        "id": "N58wKecJrx6G",
        "colab_type": "code",
        "colab": {
          "base_uri": "https://localhost:8080/",
          "height": 419
        },
        "outputId": "40e038d7-2543-4a96-9796-edefeadbd963"
      },
      "source": [
        "##分出類別1的\n",
        "classification_one_test = new_test\n",
        "for i in range(len(whichGroup_test['Group'])): \n",
        "    if whichGroup_test['Group'][i] != 1 :\n",
        "        classification_one_test = classification_one_test.drop([i])\n",
        "classification_one_test"
      ],
      "execution_count": null,
      "outputs": [
        {
          "output_type": "execute_result",
          "data": {
            "text/html": [
              "<div>\n",
              "<style scoped>\n",
              "    .dataframe tbody tr th:only-of-type {\n",
              "        vertical-align: middle;\n",
              "    }\n",
              "\n",
              "    .dataframe tbody tr th {\n",
              "        vertical-align: top;\n",
              "    }\n",
              "\n",
              "    .dataframe thead th {\n",
              "        text-align: right;\n",
              "    }\n",
              "</style>\n",
              "<table border=\"1\" class=\"dataframe\">\n",
              "  <thead>\n",
              "    <tr style=\"text-align: right;\">\n",
              "      <th></th>\n",
              "      <th>firm</th>\n",
              "      <th>CowID</th>\n",
              "      <th>BabyNum</th>\n",
              "      <th>FeedDay</th>\n",
              "      <th>Age</th>\n",
              "      <th>BreedNum</th>\n",
              "      <th>T Max</th>\n",
              "      <th>THI</th>\n",
              "      <th>disease</th>\n",
              "      <th>Sampling D Month</th>\n",
              "    </tr>\n",
              "  </thead>\n",
              "  <tbody>\n",
              "    <tr>\n",
              "      <th>0</th>\n",
              "      <td>2</td>\n",
              "      <td>96</td>\n",
              "      <td>3</td>\n",
              "      <td>183</td>\n",
              "      <td>70</td>\n",
              "      <td>2</td>\n",
              "      <td>25.5</td>\n",
              "      <td>20.236278</td>\n",
              "      <td>0.0</td>\n",
              "      <td>3</td>\n",
              "    </tr>\n",
              "    <tr>\n",
              "      <th>1</th>\n",
              "      <td>2</td>\n",
              "      <td>494</td>\n",
              "      <td>3</td>\n",
              "      <td>71</td>\n",
              "      <td>50</td>\n",
              "      <td>0</td>\n",
              "      <td>35.2</td>\n",
              "      <td>22.838761</td>\n",
              "      <td>0.0</td>\n",
              "      <td>2</td>\n",
              "    </tr>\n",
              "    <tr>\n",
              "      <th>3</th>\n",
              "      <td>2</td>\n",
              "      <td>76</td>\n",
              "      <td>4</td>\n",
              "      <td>177</td>\n",
              "      <td>73</td>\n",
              "      <td>1</td>\n",
              "      <td>29.1</td>\n",
              "      <td>23.221440</td>\n",
              "      <td>0.0</td>\n",
              "      <td>1</td>\n",
              "    </tr>\n",
              "    <tr>\n",
              "      <th>4</th>\n",
              "      <td>1</td>\n",
              "      <td>250</td>\n",
              "      <td>1</td>\n",
              "      <td>42</td>\n",
              "      <td>28</td>\n",
              "      <td>0</td>\n",
              "      <td>11.1</td>\n",
              "      <td>10.980262</td>\n",
              "      <td>0.0</td>\n",
              "      <td>3</td>\n",
              "    </tr>\n",
              "    <tr>\n",
              "      <th>5</th>\n",
              "      <td>2</td>\n",
              "      <td>1662</td>\n",
              "      <td>2</td>\n",
              "      <td>161</td>\n",
              "      <td>45</td>\n",
              "      <td>1</td>\n",
              "      <td>34.4</td>\n",
              "      <td>27.200232</td>\n",
              "      <td>0.0</td>\n",
              "      <td>1</td>\n",
              "    </tr>\n",
              "    <tr>\n",
              "      <th>...</th>\n",
              "      <td>...</td>\n",
              "      <td>...</td>\n",
              "      <td>...</td>\n",
              "      <td>...</td>\n",
              "      <td>...</td>\n",
              "      <td>...</td>\n",
              "      <td>...</td>\n",
              "      <td>...</td>\n",
              "      <td>...</td>\n",
              "      <td>...</td>\n",
              "    </tr>\n",
              "    <tr>\n",
              "      <th>6676</th>\n",
              "      <td>2</td>\n",
              "      <td>749</td>\n",
              "      <td>1</td>\n",
              "      <td>62</td>\n",
              "      <td>32</td>\n",
              "      <td>0</td>\n",
              "      <td>23.8</td>\n",
              "      <td>21.498437</td>\n",
              "      <td>0.0</td>\n",
              "      <td>0</td>\n",
              "    </tr>\n",
              "    <tr>\n",
              "      <th>6678</th>\n",
              "      <td>2</td>\n",
              "      <td>280</td>\n",
              "      <td>3</td>\n",
              "      <td>18</td>\n",
              "      <td>42</td>\n",
              "      <td>0</td>\n",
              "      <td>34.9</td>\n",
              "      <td>29.323086</td>\n",
              "      <td>0.0</td>\n",
              "      <td>2</td>\n",
              "    </tr>\n",
              "    <tr>\n",
              "      <th>6680</th>\n",
              "      <td>2</td>\n",
              "      <td>1555</td>\n",
              "      <td>3</td>\n",
              "      <td>158</td>\n",
              "      <td>62</td>\n",
              "      <td>1</td>\n",
              "      <td>34.4</td>\n",
              "      <td>27.200232</td>\n",
              "      <td>0.0</td>\n",
              "      <td>1</td>\n",
              "    </tr>\n",
              "    <tr>\n",
              "      <th>6681</th>\n",
              "      <td>2</td>\n",
              "      <td>466</td>\n",
              "      <td>1</td>\n",
              "      <td>9</td>\n",
              "      <td>22</td>\n",
              "      <td>0</td>\n",
              "      <td>19.5</td>\n",
              "      <td>16.578618</td>\n",
              "      <td>1.0</td>\n",
              "      <td>3</td>\n",
              "    </tr>\n",
              "    <tr>\n",
              "      <th>6682</th>\n",
              "      <td>2</td>\n",
              "      <td>980</td>\n",
              "      <td>1</td>\n",
              "      <td>204</td>\n",
              "      <td>32</td>\n",
              "      <td>4</td>\n",
              "      <td>25.9</td>\n",
              "      <td>20.509629</td>\n",
              "      <td>0.0</td>\n",
              "      <td>1</td>\n",
              "    </tr>\n",
              "  </tbody>\n",
              "</table>\n",
              "<p>4283 rows × 10 columns</p>\n",
              "</div>"
            ],
            "text/plain": [
              "      firm  CowID  BabyNum  ...        THI  disease  Sampling D Month\n",
              "0        2     96        3  ...  20.236278      0.0                 3\n",
              "1        2    494        3  ...  22.838761      0.0                 2\n",
              "3        2     76        4  ...  23.221440      0.0                 1\n",
              "4        1    250        1  ...  10.980262      0.0                 3\n",
              "5        2   1662        2  ...  27.200232      0.0                 1\n",
              "...    ...    ...      ...  ...        ...      ...               ...\n",
              "6676     2    749        1  ...  21.498437      0.0                 0\n",
              "6678     2    280        3  ...  29.323086      0.0                 2\n",
              "6680     2   1555        3  ...  27.200232      0.0                 1\n",
              "6681     2    466        1  ...  16.578618      1.0                 3\n",
              "6682     2    980        1  ...  20.509629      0.0                 1\n",
              "\n",
              "[4283 rows x 10 columns]"
            ]
          },
          "metadata": {
            "tags": []
          },
          "execution_count": 44
        }
      ]
    },
    {
      "cell_type": "code",
      "metadata": {
        "id": "CJyD00gir5kI",
        "colab_type": "code",
        "colab": {}
      },
      "source": [
        "##分出類別2的\n",
        "classification_two_test = new_test\n",
        "for i in range(len(whichGroup_test['Group'])): \n",
        "    if whichGroup_test['Group'][i] != 2 :\n",
        "        classification_two_test = classification_two_test.drop([i])\n",
        "classification_two_test"
      ],
      "execution_count": null,
      "outputs": []
    },
    {
      "cell_type": "markdown",
      "metadata": {
        "id": "6trdCZnLATMJ",
        "colab_type": "text"
      },
      "source": [
        "# 將test_milk依照各群分開"
      ]
    },
    {
      "cell_type": "code",
      "metadata": {
        "id": "YXwP-LmYAXZ1",
        "colab_type": "code",
        "colab": {
          "base_uri": "https://localhost:8080/",
          "height": 233
        },
        "outputId": "ccc09766-365b-461d-8683-3d89f5d52d86"
      },
      "source": [
        "##分出類別0的牛奶\n",
        "classification_zero_milk_test = y_fortest\n",
        "for i in range(len(whichGroup_test['Group'])): \n",
        "    if whichGroup_test['Group'][i] != 0 :\n",
        "        classification_zero_milk_test = classification_zero_milk_test.drop([i])\n",
        "classification_zero_milk_test"
      ],
      "execution_count": null,
      "outputs": [
        {
          "output_type": "execute_result",
          "data": {
            "text/plain": [
              "2       12.0\n",
              "6       35.0\n",
              "7       14.0\n",
              "9       11.6\n",
              "10      25.0\n",
              "        ... \n",
              "6672    13.0\n",
              "6673    16.0\n",
              "6675     8.0\n",
              "6677    10.0\n",
              "6679    10.0\n",
              "Name: Milk, Length: 2400, dtype: float64"
            ]
          },
          "metadata": {
            "tags": []
          },
          "execution_count": 45
        }
      ]
    },
    {
      "cell_type": "code",
      "metadata": {
        "id": "nx9Ws2ehApir",
        "colab_type": "code",
        "colab": {
          "base_uri": "https://localhost:8080/",
          "height": 233
        },
        "outputId": "299e6d3a-f801-43b2-a864-2ae03351ca54"
      },
      "source": [
        "##分出類別1的牛奶\n",
        "classification_one_milk_test = y_fortest\n",
        "for i in range(len(whichGroup_test['Group'])): \n",
        "    if whichGroup_test['Group'][i] != 1 :\n",
        "        classification_one_milk_test = classification_one_milk_test.drop([i])\n",
        "classification_one_milk_test"
      ],
      "execution_count": null,
      "outputs": [
        {
          "output_type": "execute_result",
          "data": {
            "text/plain": [
              "0       40.0\n",
              "1       28.0\n",
              "3       35.0\n",
              "4       28.8\n",
              "5       43.9\n",
              "        ... \n",
              "6676    29.0\n",
              "6678    39.0\n",
              "6680    30.6\n",
              "6681    20.0\n",
              "6682    16.0\n",
              "Name: Milk, Length: 4283, dtype: float64"
            ]
          },
          "metadata": {
            "tags": []
          },
          "execution_count": 46
        }
      ]
    },
    {
      "cell_type": "code",
      "metadata": {
        "id": "hjL7PG_fAvyd",
        "colab_type": "code",
        "colab": {}
      },
      "source": [
        "##分出類別2的牛奶\n",
        "classification_two_milk_test = y_fortest\n",
        "for i in range(len(whichGroup_test['Group'])): \n",
        "    if whichGroup_test['Group'][i] != 2:\n",
        "        classification_two_milk_test = classification_two_milk_test.drop([i])\n",
        "classification_two_milk_test"
      ],
      "execution_count": null,
      "outputs": []
    },
    {
      "cell_type": "markdown",
      "metadata": {
        "id": "abYOpZ8unnH5",
        "colab_type": "text"
      },
      "source": [
        "# 執行onehotencoding"
      ]
    },
    {
      "cell_type": "code",
      "metadata": {
        "id": "majAv8pDFqO1",
        "colab_type": "code",
        "colab": {
          "base_uri": "https://localhost:8080/",
          "height": 145
        },
        "outputId": "07d0f328-d3ef-4215-e57a-8525e11fb270"
      },
      "source": [
        "#把要的類別轉換成one hot\n",
        "import numpy as np\n",
        "from sklearn.preprocessing import OneHotEncoder\n",
        "\n",
        "enc = OneHotEncoder(categorical_features =[0,1,2,5,8,9])#6\n",
        "enc.fit(all_data)\n",
        "X_zero=enc.transform(classification_zero).toarray()\n",
        "X_one=enc.transform(classification_one).toarray()\n",
        "#X_two=enc.transform(classification_two).toarray()\n",
        "X_zero_test=enc.transform(classification_zero_test).toarray()\n",
        "X_one_test=enc.transform(classification_one_test).toarray()\n",
        "#X_two_test=enc.transform(classification_two_test).toarray()"
      ],
      "execution_count": null,
      "outputs": [
        {
          "output_type": "stream",
          "text": [
            "/usr/local/lib/python3.6/dist-packages/sklearn/preprocessing/_encoders.py:363: FutureWarning: The handling of integer data will change in version 0.22. Currently, the categories are determined based on the range [0, max(values)], while in the future they will be determined based on the unique values.\n",
            "If you want the future behaviour and silence this warning, you can specify \"categories='auto'\".\n",
            "In case you used a LabelEncoder before this OneHotEncoder to convert the categories to integers, then you can now use the OneHotEncoder directly.\n",
            "  warnings.warn(msg, FutureWarning)\n",
            "/usr/local/lib/python3.6/dist-packages/sklearn/preprocessing/_encoders.py:385: DeprecationWarning: The 'categorical_features' keyword is deprecated in version 0.20 and will be removed in 0.22. You can use the ColumnTransformer instead.\n",
            "  \"use the ColumnTransformer instead.\", DeprecationWarning)\n"
          ],
          "name": "stderr"
        }
      ]
    },
    {
      "cell_type": "code",
      "metadata": {
        "id": "bVHWkLJgH7wH",
        "colab_type": "code",
        "colab": {
          "base_uri": "https://localhost:8080/",
          "height": 35
        },
        "outputId": "922cf396-2303-4a9d-d423-bde813e16a93"
      },
      "source": [
        "#測試類別0測試類別0\n",
        "X_zero.shape"
      ],
      "execution_count": null,
      "outputs": [
        {
          "output_type": "execute_result",
          "data": {
            "text/plain": [
              "(17564, 1858)"
            ]
          },
          "metadata": {
            "tags": []
          },
          "execution_count": 48
        }
      ]
    },
    {
      "cell_type": "markdown",
      "metadata": {
        "id": "mJp_AndDwITQ",
        "colab_type": "text"
      },
      "source": [
        "# 正規化類別0訓練model並做預測"
      ]
    },
    {
      "cell_type": "code",
      "metadata": {
        "id": "Hnkk7bxDO89G",
        "colab_type": "code",
        "colab": {}
      },
      "source": [
        "from keras import backend as K\n",
        "def rmse(y_pred, y_true):\n",
        "    return K.sqrt(K.mean(K.square(y_pred - y_true)))"
      ],
      "execution_count": null,
      "outputs": []
    },
    {
      "cell_type": "code",
      "metadata": {
        "id": "_ZaaNOl2OpGQ",
        "colab_type": "code",
        "colab": {
          "base_uri": "https://localhost:8080/",
          "height": 251
        },
        "outputId": "239f9608-5999-44af-fb2b-eca897d6b729"
      },
      "source": [
        "X_zero = X_zero.astype('float32')\n",
        "scaler = MinMaxScaler(feature_range=(0, 1))\n",
        "X_zero = scaler.fit_transform(X_zero)\n",
        "X_zero"
      ],
      "execution_count": null,
      "outputs": [
        {
          "output_type": "execute_result",
          "data": {
            "text/plain": [
              "array([[0.        , 1.        , 0.        , ..., 0.1923077 , 0.61618984,\n",
              "        0.6523535 ],\n",
              "       [0.        , 1.        , 0.        , ..., 0.24358974, 0.8338462 ,\n",
              "        0.82666194],\n",
              "       [0.        , 1.        , 0.        , ..., 0.17307693, 0.49230766,\n",
              "        0.5968058 ],\n",
              "       ...,\n",
              "       [0.        , 1.        , 0.        , ..., 0.21153846, 0.6184615 ,\n",
              "        0.70263255],\n",
              "       [0.        , 1.        , 0.        , ..., 0.16666667, 0.25846156,\n",
              "        0.26413873],\n",
              "       [1.        , 0.        , 0.        , ..., 0.21794872, 0.8092307 ,\n",
              "        0.7932451 ]], dtype=float32)"
            ]
          },
          "metadata": {
            "tags": []
          },
          "execution_count": 50
        }
      ]
    },
    {
      "cell_type": "code",
      "metadata": {
        "id": "cj4Cpx3_-HPK",
        "colab_type": "code",
        "colab": {}
      },
      "source": [
        "x_train,x_test,y_train,y_test=train_test_split(X_zero,classification_zero_milk,test_size=0.066,random_state=42)\n",
        "#random_state為02.ipynb"
      ],
      "execution_count": null,
      "outputs": []
    },
    {
      "cell_type": "code",
      "metadata": {
        "id": "SsP2Se_z-IzP",
        "colab_type": "code",
        "colab": {
          "base_uri": "https://localhost:8080/",
          "height": 89
        },
        "outputId": "41b5ce25-3d70-46ef-ed75-39af7dec1f52"
      },
      "source": [
        "print(\"Please show me the shape of x_train:\",x_train.shape)\n",
        "print(\"Please show me the shape of x_test:\",x_test.shape)\n",
        "print(\"Please show me the shape of y_train:\",y_train.shape)\n",
        "print(\"Please show me the shape of y_test:\",y_test.shape)"
      ],
      "execution_count": null,
      "outputs": [
        {
          "output_type": "stream",
          "text": [
            "Please show me the shape of x_train: (16404, 1858)\n",
            "Please show me the shape of x_test: (1160, 1858)\n",
            "Please show me the shape of y_train: (16404,)\n",
            "Please show me the shape of y_test: (1160,)\n"
          ],
          "name": "stdout"
        }
      ]
    },
    {
      "cell_type": "code",
      "metadata": {
        "id": "Kv7RvMvJ-Q9T",
        "colab_type": "code",
        "colab": {
          "base_uri": "https://localhost:8080/",
          "height": 251
        },
        "outputId": "c47266d8-98fc-4587-cd71-59b35b533163"
      },
      "source": [
        "from sklearn.model_selection import KFold\n",
        "from keras import regularizers\n",
        "from matplotlib import pyplot\n",
        "from keras import optimizers\n",
        "import keras\n",
        "from keras.callbacks import ReduceLROnPlateau\n",
        "print(\"y_test:\") #看\n",
        "y_test"
      ],
      "execution_count": null,
      "outputs": [
        {
          "output_type": "stream",
          "text": [
            "y_test:\n"
          ],
          "name": "stdout"
        },
        {
          "output_type": "execute_result",
          "data": {
            "text/plain": [
              "18881    18.0\n",
              "10633    39.0\n",
              "16512    21.0\n",
              "21390    31.4\n",
              "14565    21.0\n",
              "         ... \n",
              "9226     34.0\n",
              "17702    48.0\n",
              "6187     30.0\n",
              "6003     29.0\n",
              "5320     27.8\n",
              "Name: Milk, Length: 1160, dtype: float64"
            ]
          },
          "metadata": {
            "tags": []
          },
          "execution_count": 53
        }
      ]
    },
    {
      "cell_type": "code",
      "metadata": {
        "id": "vfrQHPnWAl8s",
        "colab_type": "code",
        "colab": {
          "base_uri": "https://localhost:8080/",
          "height": 251
        },
        "outputId": "5798625a-6241-450a-db84-b2c2da9dab2a"
      },
      "source": [
        "print(\"y_train:\") #看每次y_train一不一樣\n",
        "print(y_train)"
      ],
      "execution_count": null,
      "outputs": [
        {
          "output_type": "stream",
          "text": [
            "y_train:\n",
            "11313    14.0\n",
            "7835     10.0\n",
            "10658    23.0\n",
            "19884    14.0\n",
            "20697    21.0\n",
            "         ... \n",
            "16975    20.0\n",
            "17983    29.0\n",
            "8077     22.0\n",
            "1318     19.0\n",
            "23817    29.0\n",
            "Name: Milk, Length: 16404, dtype: float64\n"
          ],
          "name": "stdout"
        }
      ]
    },
    {
      "cell_type": "code",
      "metadata": {
        "id": "uMzNkYwQ-SIa",
        "colab_type": "code",
        "colab": {}
      },
      "source": [
        "x_train = np.reshape(x_train,(x_train.shape[0],1,x_train.shape[1]))#做成三維\n",
        "x_test = np.reshape(x_test,(x_test.shape[0],1,x_test.shape[1]))"
      ],
      "execution_count": null,
      "outputs": []
    },
    {
      "cell_type": "code",
      "metadata": {
        "id": "3IsgU5mA-13p",
        "colab_type": "code",
        "colab": {
          "base_uri": "https://localhost:8080/",
          "height": 89
        },
        "outputId": "57f87785-93c6-44a3-c515-103677db64a0"
      },
      "source": [
        "print(\"Please show me the shape of x_train:\",x_train.shape)\n",
        "print(\"Please show me the shape of x_test:\",x_test.shape)\n",
        "print(\"Please show me the shape of y_train:\",y_train.shape)\n",
        "print(\"Please show me the shape of y_test:\",y_test.shape)"
      ],
      "execution_count": null,
      "outputs": [
        {
          "output_type": "stream",
          "text": [
            "Please show me the shape of x_train: (16404, 1, 1858)\n",
            "Please show me the shape of x_test: (1160, 1, 1858)\n",
            "Please show me the shape of y_train: (16404,)\n",
            "Please show me the shape of y_test: (1160,)\n"
          ],
          "name": "stdout"
        }
      ]
    },
    {
      "cell_type": "code",
      "metadata": {
        "id": "Tj00-1KuKE1j",
        "colab_type": "code",
        "colab": {
          "base_uri": "https://localhost:8080/",
          "height": 1000
        },
        "outputId": "aefc71c5-499e-402c-b349-58b0b31c089a"
      },
      "source": [
        "from keras.layers import Embedding, Bidirectional,TimeDistributed\n",
        "from keras.layers.normalization import BatchNormalization\n",
        "from keras.layers import Activation, Dense\n",
        "from keras.callbacks import EarlyStopping\n",
        "model = Sequential()#LSTM\n",
        "model.add(LSTM(64, input_shape=(1,x_train.shape[2])))\n",
        "model.add(Dropout(0.5))\n",
        "\n",
        "model.add(Dense(1))\n",
        "ADAM=keras.optimizers.Adam(lr=0.0005, beta_1=0.9, beta_2=0.999, epsilon=None, decay=0.0, amsgrad=False)\n",
        "model.compile(loss=rmse, optimizer=ADAM,metrics=[rmse])\n",
        "early_stopping=EarlyStopping(monitor='val_loss', patience=10)\n",
        "#reduce_lr = ReduceLROnPlateau(monitor='val_loss', factor=0.2, patience=5, min_lr=0.001)\n",
        "history=model.fit(x_train, y_train, epochs=500,validation_data=(x_test, y_test), batch_size=5, verbose=2, callbacks=[early_stopping],shuffle=True)#epochs要改回1000\n"
      ],
      "execution_count": null,
      "outputs": [
        {
          "output_type": "stream",
          "text": [
            "Epoch 1/500\n",
            "3281/3281 - 13s - loss: 9.9649 - rmse: 9.9647 - val_loss: 6.6473 - val_rmse: 6.6473\n",
            "Epoch 2/500\n",
            "3281/3281 - 13s - loss: 7.2213 - rmse: 7.2212 - val_loss: 6.3645 - val_rmse: 6.3645\n",
            "Epoch 3/500\n",
            "3281/3281 - 13s - loss: 6.8588 - rmse: 6.8587 - val_loss: 6.0472 - val_rmse: 6.0472\n",
            "Epoch 4/500\n",
            "3281/3281 - 12s - loss: 6.4876 - rmse: 6.4877 - val_loss: 5.7972 - val_rmse: 5.7972\n",
            "Epoch 5/500\n",
            "3281/3281 - 13s - loss: 6.1880 - rmse: 6.1884 - val_loss: 5.6773 - val_rmse: 5.6773\n",
            "Epoch 6/500\n",
            "3281/3281 - 13s - loss: 6.0796 - rmse: 6.0795 - val_loss: 5.6186 - val_rmse: 5.6186\n",
            "Epoch 7/500\n",
            "3281/3281 - 12s - loss: 6.0024 - rmse: 6.0021 - val_loss: 5.5493 - val_rmse: 5.5493\n",
            "Epoch 8/500\n",
            "3281/3281 - 13s - loss: 5.9054 - rmse: 5.9054 - val_loss: 5.5278 - val_rmse: 5.5278\n",
            "Epoch 9/500\n",
            "3281/3281 - 13s - loss: 5.8224 - rmse: 5.8223 - val_loss: 5.4779 - val_rmse: 5.4779\n",
            "Epoch 10/500\n",
            "3281/3281 - 13s - loss: 5.7870 - rmse: 5.7868 - val_loss: 5.4698 - val_rmse: 5.4698\n",
            "Epoch 11/500\n",
            "3281/3281 - 13s - loss: 5.7917 - rmse: 5.7916 - val_loss: 5.4749 - val_rmse: 5.4749\n",
            "Epoch 12/500\n",
            "3281/3281 - 13s - loss: 5.7137 - rmse: 5.7138 - val_loss: 5.4473 - val_rmse: 5.4473\n",
            "Epoch 13/500\n",
            "3281/3281 - 13s - loss: 5.6977 - rmse: 5.6976 - val_loss: 5.4362 - val_rmse: 5.4362\n",
            "Epoch 14/500\n",
            "3281/3281 - 12s - loss: 5.6418 - rmse: 5.6417 - val_loss: 5.4274 - val_rmse: 5.4274\n",
            "Epoch 15/500\n",
            "3281/3281 - 13s - loss: 5.6231 - rmse: 5.6231 - val_loss: 5.4487 - val_rmse: 5.4487\n",
            "Epoch 16/500\n",
            "3281/3281 - 14s - loss: 5.5879 - rmse: 5.5881 - val_loss: 5.4059 - val_rmse: 5.4059\n",
            "Epoch 17/500\n",
            "3281/3281 - 12s - loss: 5.5095 - rmse: 5.5093 - val_loss: 5.4473 - val_rmse: 5.4473\n",
            "Epoch 18/500\n",
            "3281/3281 - 12s - loss: 5.4933 - rmse: 5.4934 - val_loss: 5.3629 - val_rmse: 5.3629\n",
            "Epoch 19/500\n",
            "3281/3281 - 13s - loss: 5.4818 - rmse: 5.4820 - val_loss: 5.3624 - val_rmse: 5.3624\n",
            "Epoch 20/500\n",
            "3281/3281 - 12s - loss: 5.4062 - rmse: 5.4062 - val_loss: 5.3805 - val_rmse: 5.3805\n",
            "Epoch 21/500\n",
            "3281/3281 - 12s - loss: 5.4130 - rmse: 5.4131 - val_loss: 5.3696 - val_rmse: 5.3696\n",
            "Epoch 22/500\n",
            "3281/3281 - 12s - loss: 5.3382 - rmse: 5.3380 - val_loss: 5.3323 - val_rmse: 5.3323\n",
            "Epoch 23/500\n",
            "3281/3281 - 12s - loss: 5.3107 - rmse: 5.3107 - val_loss: 5.2928 - val_rmse: 5.2928\n",
            "Epoch 24/500\n",
            "3281/3281 - 12s - loss: 5.2569 - rmse: 5.2567 - val_loss: 5.2818 - val_rmse: 5.2818\n",
            "Epoch 25/500\n",
            "3281/3281 - 12s - loss: 5.2280 - rmse: 5.2283 - val_loss: 5.2618 - val_rmse: 5.2618\n",
            "Epoch 26/500\n",
            "3281/3281 - 12s - loss: 5.2000 - rmse: 5.2000 - val_loss: 5.2605 - val_rmse: 5.2605\n",
            "Epoch 27/500\n",
            "3281/3281 - 12s - loss: 5.1597 - rmse: 5.1597 - val_loss: 5.1839 - val_rmse: 5.1839\n",
            "Epoch 28/500\n",
            "3281/3281 - 12s - loss: 5.1280 - rmse: 5.1279 - val_loss: 5.1748 - val_rmse: 5.1748\n",
            "Epoch 29/500\n",
            "3281/3281 - 12s - loss: 5.0839 - rmse: 5.0838 - val_loss: 5.1533 - val_rmse: 5.1533\n",
            "Epoch 30/500\n",
            "3281/3281 - 12s - loss: 5.0586 - rmse: 5.0586 - val_loss: 5.1678 - val_rmse: 5.1678\n",
            "Epoch 31/500\n",
            "3281/3281 - 12s - loss: 5.0185 - rmse: 5.0184 - val_loss: 5.1201 - val_rmse: 5.1201\n",
            "Epoch 32/500\n",
            "3281/3281 - 12s - loss: 4.9756 - rmse: 4.9757 - val_loss: 5.0981 - val_rmse: 5.0981\n",
            "Epoch 33/500\n",
            "3281/3281 - 12s - loss: 4.9198 - rmse: 4.9199 - val_loss: 5.0818 - val_rmse: 5.0818\n",
            "Epoch 34/500\n",
            "3281/3281 - 12s - loss: 4.8750 - rmse: 4.8750 - val_loss: 5.1091 - val_rmse: 5.1091\n",
            "Epoch 35/500\n",
            "3281/3281 - 12s - loss: 4.8721 - rmse: 4.8721 - val_loss: 5.0719 - val_rmse: 5.0719\n",
            "Epoch 36/500\n",
            "3281/3281 - 12s - loss: 4.8757 - rmse: 4.8758 - val_loss: 5.0603 - val_rmse: 5.0603\n",
            "Epoch 37/500\n",
            "3281/3281 - 12s - loss: 4.8264 - rmse: 4.8263 - val_loss: 5.0493 - val_rmse: 5.0493\n",
            "Epoch 38/500\n",
            "3281/3281 - 12s - loss: 4.7676 - rmse: 4.7675 - val_loss: 5.0170 - val_rmse: 5.0170\n",
            "Epoch 39/500\n",
            "3281/3281 - 12s - loss: 4.7637 - rmse: 4.7636 - val_loss: 5.0408 - val_rmse: 5.0408\n",
            "Epoch 40/500\n",
            "3281/3281 - 12s - loss: 4.7207 - rmse: 4.7208 - val_loss: 5.0407 - val_rmse: 5.0407\n",
            "Epoch 41/500\n",
            "3281/3281 - 13s - loss: 4.6885 - rmse: 4.6885 - val_loss: 4.9904 - val_rmse: 4.9904\n",
            "Epoch 42/500\n",
            "3281/3281 - 13s - loss: 4.6508 - rmse: 4.6509 - val_loss: 5.0147 - val_rmse: 5.0147\n",
            "Epoch 43/500\n",
            "3281/3281 - 12s - loss: 4.6503 - rmse: 4.6505 - val_loss: 4.9645 - val_rmse: 4.9645\n",
            "Epoch 44/500\n",
            "3281/3281 - 13s - loss: 4.5704 - rmse: 4.5704 - val_loss: 4.9252 - val_rmse: 4.9252\n",
            "Epoch 45/500\n",
            "3281/3281 - 12s - loss: 4.5790 - rmse: 4.5789 - val_loss: 4.9010 - val_rmse: 4.9010\n",
            "Epoch 46/500\n",
            "3281/3281 - 13s - loss: 4.5348 - rmse: 4.5348 - val_loss: 4.9120 - val_rmse: 4.9120\n",
            "Epoch 47/500\n",
            "3281/3281 - 13s - loss: 4.4770 - rmse: 4.4769 - val_loss: 4.8851 - val_rmse: 4.8851\n",
            "Epoch 48/500\n",
            "3281/3281 - 12s - loss: 4.4868 - rmse: 4.4869 - val_loss: 4.8775 - val_rmse: 4.8775\n",
            "Epoch 49/500\n",
            "3281/3281 - 12s - loss: 4.4459 - rmse: 4.4460 - val_loss: 4.8518 - val_rmse: 4.8518\n",
            "Epoch 50/500\n",
            "3281/3281 - 12s - loss: 4.4354 - rmse: 4.4354 - val_loss: 4.8486 - val_rmse: 4.8486\n",
            "Epoch 51/500\n",
            "3281/3281 - 12s - loss: 4.3943 - rmse: 4.3941 - val_loss: 4.8571 - val_rmse: 4.8571\n",
            "Epoch 52/500\n",
            "3281/3281 - 12s - loss: 4.3672 - rmse: 4.3671 - val_loss: 4.8164 - val_rmse: 4.8164\n",
            "Epoch 53/500\n",
            "3281/3281 - 12s - loss: 4.3318 - rmse: 4.3319 - val_loss: 4.7995 - val_rmse: 4.7995\n",
            "Epoch 54/500\n",
            "3281/3281 - 12s - loss: 4.3059 - rmse: 4.3060 - val_loss: 4.8070 - val_rmse: 4.8070\n",
            "Epoch 55/500\n",
            "3281/3281 - 12s - loss: 4.3159 - rmse: 4.3159 - val_loss: 4.7751 - val_rmse: 4.7751\n",
            "Epoch 56/500\n",
            "3281/3281 - 13s - loss: 4.2527 - rmse: 4.2527 - val_loss: 4.7579 - val_rmse: 4.7579\n",
            "Epoch 57/500\n",
            "3281/3281 - 13s - loss: 4.2164 - rmse: 4.2165 - val_loss: 4.7394 - val_rmse: 4.7394\n",
            "Epoch 58/500\n",
            "3281/3281 - 12s - loss: 4.2240 - rmse: 4.2240 - val_loss: 4.7212 - val_rmse: 4.7212\n",
            "Epoch 59/500\n",
            "3281/3281 - 12s - loss: 4.2123 - rmse: 4.2123 - val_loss: 4.7132 - val_rmse: 4.7132\n",
            "Epoch 60/500\n",
            "3281/3281 - 12s - loss: 4.1787 - rmse: 4.1787 - val_loss: 4.7022 - val_rmse: 4.7022\n",
            "Epoch 61/500\n",
            "3281/3281 - 12s - loss: 4.1141 - rmse: 4.1140 - val_loss: 4.6972 - val_rmse: 4.6972\n",
            "Epoch 62/500\n",
            "3281/3281 - 12s - loss: 4.1008 - rmse: 4.1009 - val_loss: 4.7105 - val_rmse: 4.7105\n",
            "Epoch 63/500\n",
            "3281/3281 - 12s - loss: 4.0827 - rmse: 4.0827 - val_loss: 4.7117 - val_rmse: 4.7117\n",
            "Epoch 64/500\n",
            "3281/3281 - 12s - loss: 4.0510 - rmse: 4.0511 - val_loss: 4.6757 - val_rmse: 4.6757\n",
            "Epoch 65/500\n",
            "3281/3281 - 12s - loss: 4.0869 - rmse: 4.0868 - val_loss: 4.6547 - val_rmse: 4.6547\n",
            "Epoch 66/500\n",
            "3281/3281 - 12s - loss: 4.0295 - rmse: 4.0294 - val_loss: 4.6376 - val_rmse: 4.6376\n",
            "Epoch 67/500\n",
            "3281/3281 - 13s - loss: 4.0209 - rmse: 4.0210 - val_loss: 4.6326 - val_rmse: 4.6326\n",
            "Epoch 68/500\n",
            "3281/3281 - 13s - loss: 3.9774 - rmse: 3.9774 - val_loss: 4.6353 - val_rmse: 4.6353\n",
            "Epoch 69/500\n",
            "3281/3281 - 12s - loss: 3.9896 - rmse: 3.9896 - val_loss: 4.6310 - val_rmse: 4.6310\n",
            "Epoch 70/500\n",
            "3281/3281 - 12s - loss: 3.9645 - rmse: 3.9646 - val_loss: 4.5875 - val_rmse: 4.5875\n",
            "Epoch 71/500\n",
            "3281/3281 - 12s - loss: 3.9518 - rmse: 3.9518 - val_loss: 4.5712 - val_rmse: 4.5712\n",
            "Epoch 72/500\n",
            "3281/3281 - 13s - loss: 3.9324 - rmse: 3.9324 - val_loss: 4.5773 - val_rmse: 4.5773\n",
            "Epoch 73/500\n",
            "3281/3281 - 12s - loss: 3.9170 - rmse: 3.9170 - val_loss: 4.5955 - val_rmse: 4.5955\n",
            "Epoch 74/500\n",
            "3281/3281 - 13s - loss: 3.9097 - rmse: 3.9096 - val_loss: 4.5768 - val_rmse: 4.5768\n",
            "Epoch 75/500\n",
            "3281/3281 - 12s - loss: 3.8779 - rmse: 3.8781 - val_loss: 4.5661 - val_rmse: 4.5661\n",
            "Epoch 76/500\n",
            "3281/3281 - 13s - loss: 3.8916 - rmse: 3.8915 - val_loss: 4.5641 - val_rmse: 4.5641\n",
            "Epoch 77/500\n",
            "3281/3281 - 13s - loss: 3.8314 - rmse: 3.8314 - val_loss: 4.5601 - val_rmse: 4.5601\n",
            "Epoch 78/500\n",
            "3281/3281 - 13s - loss: 3.8613 - rmse: 3.8612 - val_loss: 4.5512 - val_rmse: 4.5512\n",
            "Epoch 79/500\n",
            "3281/3281 - 12s - loss: 3.8344 - rmse: 3.8344 - val_loss: 4.5497 - val_rmse: 4.5497\n",
            "Epoch 80/500\n",
            "3281/3281 - 13s - loss: 3.7974 - rmse: 3.7973 - val_loss: 4.5693 - val_rmse: 4.5693\n",
            "Epoch 81/500\n",
            "3281/3281 - 13s - loss: 3.7809 - rmse: 3.7811 - val_loss: 4.5499 - val_rmse: 4.5499\n",
            "Epoch 82/500\n",
            "3281/3281 - 12s - loss: 3.7809 - rmse: 3.7808 - val_loss: 4.5438 - val_rmse: 4.5438\n",
            "Epoch 83/500\n",
            "3281/3281 - 13s - loss: 3.7616 - rmse: 3.7615 - val_loss: 4.5466 - val_rmse: 4.5466\n",
            "Epoch 84/500\n",
            "3281/3281 - 12s - loss: 3.7378 - rmse: 3.7378 - val_loss: 4.5298 - val_rmse: 4.5298\n",
            "Epoch 85/500\n",
            "3281/3281 - 12s - loss: 3.7067 - rmse: 3.7066 - val_loss: 4.5159 - val_rmse: 4.5159\n",
            "Epoch 86/500\n",
            "3281/3281 - 12s - loss: 3.6803 - rmse: 3.6805 - val_loss: 4.4928 - val_rmse: 4.4928\n",
            "Epoch 87/500\n",
            "3281/3281 - 13s - loss: 3.6948 - rmse: 3.6951 - val_loss: 4.5031 - val_rmse: 4.5031\n",
            "Epoch 88/500\n",
            "3281/3281 - 12s - loss: 3.6596 - rmse: 3.6595 - val_loss: 4.4921 - val_rmse: 4.4921\n",
            "Epoch 89/500\n",
            "3281/3281 - 12s - loss: 3.6685 - rmse: 3.6686 - val_loss: 4.4888 - val_rmse: 4.4888\n",
            "Epoch 90/500\n",
            "3281/3281 - 12s - loss: 3.6154 - rmse: 3.6160 - val_loss: 4.4924 - val_rmse: 4.4924\n",
            "Epoch 91/500\n",
            "3281/3281 - 12s - loss: 3.6380 - rmse: 3.6381 - val_loss: 4.4731 - val_rmse: 4.4731\n",
            "Epoch 92/500\n",
            "3281/3281 - 13s - loss: 3.6518 - rmse: 3.6516 - val_loss: 4.4683 - val_rmse: 4.4683\n",
            "Epoch 93/500\n",
            "3281/3281 - 13s - loss: 3.5964 - rmse: 3.5965 - val_loss: 4.4832 - val_rmse: 4.4832\n",
            "Epoch 94/500\n",
            "3281/3281 - 12s - loss: 3.5911 - rmse: 3.5910 - val_loss: 4.4734 - val_rmse: 4.4734\n",
            "Epoch 95/500\n",
            "3281/3281 - 12s - loss: 3.5711 - rmse: 3.5710 - val_loss: 4.4737 - val_rmse: 4.4737\n",
            "Epoch 96/500\n",
            "3281/3281 - 13s - loss: 3.6013 - rmse: 3.6012 - val_loss: 4.4609 - val_rmse: 4.4609\n",
            "Epoch 97/500\n",
            "3281/3281 - 12s - loss: 3.5742 - rmse: 3.5742 - val_loss: 4.4536 - val_rmse: 4.4536\n",
            "Epoch 98/500\n",
            "3281/3281 - 13s - loss: 3.5525 - rmse: 3.5527 - val_loss: 4.4665 - val_rmse: 4.4665\n",
            "Epoch 99/500\n",
            "3281/3281 - 12s - loss: 3.5079 - rmse: 3.5078 - val_loss: 4.4494 - val_rmse: 4.4494\n",
            "Epoch 100/500\n",
            "3281/3281 - 12s - loss: 3.5236 - rmse: 3.5235 - val_loss: 4.4582 - val_rmse: 4.4582\n",
            "Epoch 101/500\n",
            "3281/3281 - 12s - loss: 3.4924 - rmse: 3.4924 - val_loss: 4.5042 - val_rmse: 4.5042\n",
            "Epoch 102/500\n",
            "3281/3281 - 12s - loss: 3.4916 - rmse: 3.4915 - val_loss: 4.4925 - val_rmse: 4.4925\n",
            "Epoch 103/500\n",
            "3281/3281 - 12s - loss: 3.4851 - rmse: 3.4852 - val_loss: 4.4870 - val_rmse: 4.4870\n",
            "Epoch 104/500\n",
            "3281/3281 - 12s - loss: 3.4799 - rmse: 3.4798 - val_loss: 4.4905 - val_rmse: 4.4905\n",
            "Epoch 105/500\n",
            "3281/3281 - 12s - loss: 3.4511 - rmse: 3.4512 - val_loss: 4.4730 - val_rmse: 4.4730\n",
            "Epoch 106/500\n",
            "3281/3281 - 12s - loss: 3.4284 - rmse: 3.4284 - val_loss: 4.4696 - val_rmse: 4.4696\n",
            "Epoch 107/500\n",
            "3281/3281 - 12s - loss: 3.4649 - rmse: 3.4648 - val_loss: 4.4600 - val_rmse: 4.4600\n",
            "Epoch 108/500\n",
            "3281/3281 - 12s - loss: 3.4486 - rmse: 3.4490 - val_loss: 4.4992 - val_rmse: 4.4992\n",
            "Epoch 109/500\n",
            "3281/3281 - 12s - loss: 3.4291 - rmse: 3.4291 - val_loss: 4.4886 - val_rmse: 4.4886\n"
          ],
          "name": "stdout"
        }
      ]
    },
    {
      "cell_type": "code",
      "metadata": {
        "id": "F-v6TGTOAloo",
        "colab_type": "code",
        "colab": {
          "base_uri": "https://localhost:8080/",
          "height": 35
        },
        "outputId": "647abeaa-848d-4f65-c7a4-4c86c2888e33"
      },
      "source": [
        "Predicts_0 = model.predict(x_train)\n",
        "testScore = math.sqrt(mean_squared_error(y_train, Predicts_0))\n",
        "print('Train Score: %.2f RMSE' % (testScore))\n"
      ],
      "execution_count": null,
      "outputs": [
        {
          "output_type": "stream",
          "text": [
            "Train Score: 3.20 RMSE\n"
          ],
          "name": "stdout"
        }
      ]
    },
    {
      "cell_type": "code",
      "metadata": {
        "id": "8E0q438uFxqQ",
        "colab_type": "code",
        "colab": {
          "base_uri": "https://localhost:8080/",
          "height": 143
        },
        "outputId": "a12e67f0-7341-478b-dd93-1d83059a4f5d"
      },
      "source": [
        "Predicts_0"
      ],
      "execution_count": null,
      "outputs": [
        {
          "output_type": "execute_result",
          "data": {
            "text/plain": [
              "array([[14.8953  ],\n",
              "       [ 9.858029],\n",
              "       [23.153492],\n",
              "       ...,\n",
              "       [22.264591],\n",
              "       [18.108892],\n",
              "       [31.95078 ]], dtype=float32)"
            ]
          },
          "metadata": {
            "tags": []
          },
          "execution_count": 59
        }
      ]
    },
    {
      "cell_type": "code",
      "metadata": {
        "id": "IdBJ4WcPAnw5",
        "colab_type": "code",
        "colab": {
          "base_uri": "https://localhost:8080/",
          "height": 35
        },
        "outputId": "3966183f-759e-4683-f6b3-a34330381ee4"
      },
      "source": [
        "Predict_0 = model.predict(x_test)\n",
        "testScore = math.sqrt(mean_squared_error(y_test, Predict_0))\n",
        "print('Validation Score: %.2f RMSE' % (testScore))"
      ],
      "execution_count": null,
      "outputs": [
        {
          "output_type": "stream",
          "text": [
            "Validation Score: 4.92 RMSE\n"
          ],
          "name": "stdout"
        }
      ]
    },
    {
      "cell_type": "code",
      "metadata": {
        "id": "j2kaRo8_Rni1",
        "colab_type": "code",
        "colab": {
          "base_uri": "https://localhost:8080/",
          "height": 143
        },
        "outputId": "082c71e2-43df-4715-c720-a96cf9a0fca0"
      },
      "source": [
        "Predict_0"
      ],
      "execution_count": null,
      "outputs": [
        {
          "output_type": "execute_result",
          "data": {
            "text/plain": [
              "array([[17.774242],\n",
              "       [35.583282],\n",
              "       [21.140295],\n",
              "       ...,\n",
              "       [37.07154 ],\n",
              "       [23.446775],\n",
              "       [30.726364]], dtype=float32)"
            ]
          },
          "metadata": {
            "tags": []
          },
          "execution_count": 61
        }
      ]
    },
    {
      "cell_type": "code",
      "metadata": {
        "id": "fi5Fy43mJPTn",
        "colab_type": "code",
        "colab": {
          "base_uri": "https://localhost:8080/",
          "height": 233
        },
        "outputId": "0963773b-60be-43f5-e582-3a70cde28a64"
      },
      "source": [
        "y_train"
      ],
      "execution_count": null,
      "outputs": [
        {
          "output_type": "execute_result",
          "data": {
            "text/plain": [
              "11313    14.0\n",
              "7835     10.0\n",
              "10658    23.0\n",
              "19884    14.0\n",
              "20697    21.0\n",
              "         ... \n",
              "16975    20.0\n",
              "17983    29.0\n",
              "8077     22.0\n",
              "1318     19.0\n",
              "23817    29.0\n",
              "Name: Milk, Length: 16404, dtype: float64"
            ]
          },
          "metadata": {
            "tags": []
          },
          "execution_count": 62
        }
      ]
    },
    {
      "cell_type": "code",
      "metadata": {
        "id": "q4YaQG_j87VK",
        "colab_type": "code",
        "colab": {
          "base_uri": "https://localhost:8080/",
          "height": 233
        },
        "outputId": "e2d563b7-18db-47e3-8e61-1ab00eb8cacd"
      },
      "source": [
        "y_test"
      ],
      "execution_count": null,
      "outputs": [
        {
          "output_type": "execute_result",
          "data": {
            "text/plain": [
              "18881    18.0\n",
              "10633    39.0\n",
              "16512    21.0\n",
              "21390    31.4\n",
              "14565    21.0\n",
              "         ... \n",
              "9226     34.0\n",
              "17702    48.0\n",
              "6187     30.0\n",
              "6003     29.0\n",
              "5320     27.8\n",
              "Name: Milk, Length: 1160, dtype: float64"
            ]
          },
          "metadata": {
            "tags": []
          },
          "execution_count": 63
        }
      ]
    },
    {
      "cell_type": "code",
      "metadata": {
        "id": "hhMjGPTKET8u",
        "colab_type": "code",
        "colab": {
          "base_uri": "https://localhost:8080/",
          "height": 233
        },
        "outputId": "6d5a5cfb-e3d8-4959-ba5e-0f1d4051bfd4"
      },
      "source": [
        "y_train_0=y_train\n",
        "for i in range(len(y_train)):\n",
        "  y_train_0[y_train.index[i]]=Predicts_0[i]\n",
        "\n",
        "y_train_0"
      ],
      "execution_count": null,
      "outputs": [
        {
          "output_type": "execute_result",
          "data": {
            "text/plain": [
              "11313    14.895300\n",
              "7835      9.858029\n",
              "10658    23.153492\n",
              "19884    15.180889\n",
              "20697    21.049278\n",
              "           ...    \n",
              "16975    18.916750\n",
              "17983    27.843340\n",
              "8077     22.264591\n",
              "1318     18.108892\n",
              "23817    31.950781\n",
              "Name: Milk, Length: 16404, dtype: float64"
            ]
          },
          "metadata": {
            "tags": []
          },
          "execution_count": 64
        }
      ]
    },
    {
      "cell_type": "code",
      "metadata": {
        "id": "S59-VjPWFivM",
        "colab_type": "code",
        "colab": {
          "base_uri": "https://localhost:8080/",
          "height": 233
        },
        "outputId": "e9ab31f4-7ce5-48f7-b2f4-334b51a9fd2a"
      },
      "source": [
        "y_test_0=y_test\n",
        "for i in range(len(y_test)):\n",
        "  y_test_0[y_test.index[i]]=Predict_0[i]\n",
        "\n",
        "y_test_0"
      ],
      "execution_count": null,
      "outputs": [
        {
          "output_type": "execute_result",
          "data": {
            "text/plain": [
              "18881    17.774242\n",
              "10633    35.583282\n",
              "16512    21.140295\n",
              "21390    29.213495\n",
              "14565    20.409357\n",
              "           ...    \n",
              "9226     36.003487\n",
              "17702    42.589310\n",
              "6187     37.071541\n",
              "6003     23.446775\n",
              "5320     30.726364\n",
              "Name: Milk, Length: 1160, dtype: float64"
            ]
          },
          "metadata": {
            "tags": []
          },
          "execution_count": 65
        }
      ]
    },
    {
      "cell_type": "code",
      "metadata": {
        "id": "qEfpNwpMxOVT",
        "colab_type": "code",
        "colab": {
          "base_uri": "https://localhost:8080/",
          "height": 269
        },
        "outputId": "7a5cebbf-1359-4b3d-94ee-7cc62fec3cd4"
      },
      "source": [
        "model.summary()"
      ],
      "execution_count": null,
      "outputs": [
        {
          "output_type": "stream",
          "text": [
            "Model: \"sequential\"\n",
            "_________________________________________________________________\n",
            "Layer (type)                 Output Shape              Param #   \n",
            "=================================================================\n",
            "lstm (LSTM)                  (None, 64)                492288    \n",
            "_________________________________________________________________\n",
            "dropout (Dropout)            (None, 64)                0         \n",
            "_________________________________________________________________\n",
            "dense (Dense)                (None, 1)                 65        \n",
            "=================================================================\n",
            "Total params: 492,353\n",
            "Trainable params: 492,353\n",
            "Non-trainable params: 0\n",
            "_________________________________________________________________\n"
          ],
          "name": "stdout"
        }
      ]
    },
    {
      "cell_type": "code",
      "metadata": {
        "id": "VC0MD2pFPXuF",
        "colab_type": "code",
        "colab": {}
      },
      "source": [
        "#X_test=X_test.values\n",
        "X_zero_test=X_zero_test.astype('float32')\n",
        "X_zero_test=scaler.transform(X_zero_test)"
      ],
      "execution_count": null,
      "outputs": []
    },
    {
      "cell_type": "code",
      "metadata": {
        "id": "HfeCtS4-ICTB",
        "colab_type": "code",
        "colab": {
          "base_uri": "https://localhost:8080/",
          "height": 35
        },
        "outputId": "0aca4cc4-742b-4a54-cde4-5d6266d72f88"
      },
      "source": [
        "X_zero_test.shape"
      ],
      "execution_count": null,
      "outputs": [
        {
          "output_type": "execute_result",
          "data": {
            "text/plain": [
              "(2400, 1858)"
            ]
          },
          "metadata": {
            "tags": []
          },
          "execution_count": 68
        }
      ]
    },
    {
      "cell_type": "code",
      "metadata": {
        "id": "fSyiOY3H-iGd",
        "colab_type": "code",
        "colab": {}
      },
      "source": [
        "X_zero_test= np.reshape(X_zero_test,(X_zero_test.shape[0],1,X_zero_test.shape[1]))"
      ],
      "execution_count": null,
      "outputs": []
    },
    {
      "cell_type": "code",
      "metadata": {
        "id": "Znchq0qU3sPB",
        "colab_type": "code",
        "colab": {
          "base_uri": "https://localhost:8080/",
          "height": 35
        },
        "outputId": "e034041e-a9e8-4076-88e0-f06a98d7aa61"
      },
      "source": [
        "X_zero_test.shape"
      ],
      "execution_count": null,
      "outputs": [
        {
          "output_type": "execute_result",
          "data": {
            "text/plain": [
              "(2400, 1, 1858)"
            ]
          },
          "metadata": {
            "tags": []
          },
          "execution_count": 70
        }
      ]
    },
    {
      "cell_type": "code",
      "metadata": {
        "id": "woFRArSF8MGp",
        "colab_type": "code",
        "colab": {
          "base_uri": "https://localhost:8080/",
          "height": 143
        },
        "outputId": "1efcfdd6-c3fb-4cb0-925f-5253b3211623"
      },
      "source": [
        "Prediction_0 = model.predict(X_zero_test)\n",
        "Prediction_0"
      ],
      "execution_count": null,
      "outputs": [
        {
          "output_type": "execute_result",
          "data": {
            "text/plain": [
              "array([[11.967695],\n",
              "       [28.234314],\n",
              "       [11.982079],\n",
              "       ...,\n",
              "       [10.456308],\n",
              "       [28.166603],\n",
              "       [ 7.804825]], dtype=float32)"
            ]
          },
          "metadata": {
            "tags": []
          },
          "execution_count": 71
        }
      ]
    },
    {
      "cell_type": "code",
      "metadata": {
        "id": "DM2pRGurJX1h",
        "colab_type": "code",
        "colab": {
          "base_uri": "https://localhost:8080/",
          "height": 233
        },
        "outputId": "f98e8ba6-a43b-4813-a519-a8acff145c50"
      },
      "source": [
        "classification_zero_milk_test"
      ],
      "execution_count": null,
      "outputs": [
        {
          "output_type": "execute_result",
          "data": {
            "text/plain": [
              "2       12.0\n",
              "6       35.0\n",
              "7       14.0\n",
              "9       11.6\n",
              "10      25.0\n",
              "        ... \n",
              "6672    13.0\n",
              "6673    16.0\n",
              "6675     8.0\n",
              "6677    10.0\n",
              "6679    10.0\n",
              "Name: Milk, Length: 2400, dtype: float64"
            ]
          },
          "metadata": {
            "tags": []
          },
          "execution_count": 72
        }
      ]
    },
    {
      "cell_type": "code",
      "metadata": {
        "id": "CCqY6z8KxRaR",
        "colab_type": "code",
        "colab": {
          "base_uri": "https://localhost:8080/",
          "height": 35
        },
        "outputId": "3e804160-38fd-4ff0-f92b-f65874260808"
      },
      "source": [
        "testScore = math.sqrt(mean_squared_error(classification_zero_milk_test, Prediction_0))\n",
        "print('Test Score: %.2f RMSE' % (testScore))"
      ],
      "execution_count": null,
      "outputs": [
        {
          "output_type": "stream",
          "text": [
            "Test Score: 6.20 RMSE\n"
          ],
          "name": "stdout"
        }
      ]
    },
    {
      "cell_type": "code",
      "metadata": {
        "id": "bHpZOtgiAG-n",
        "colab_type": "code",
        "colab": {
          "base_uri": "https://localhost:8080/",
          "height": 233
        },
        "outputId": "fdf0fe9d-093a-4fde-89f6-19ee77fa2692"
      },
      "source": [
        "classification_zero_milk_test_0=classification_zero_milk_test\n",
        "for i in range(len(classification_zero_milk_test)):\n",
        "  classification_zero_milk_test_0[classification_zero_milk_test.index[i]]=Prediction_0[i]\n",
        "\n",
        "classification_zero_milk_test_0"
      ],
      "execution_count": null,
      "outputs": [
        {
          "output_type": "execute_result",
          "data": {
            "text/plain": [
              "2       11.967695\n",
              "6       28.234314\n",
              "7       11.982079\n",
              "9       14.571005\n",
              "10      17.257191\n",
              "          ...    \n",
              "6672    22.555548\n",
              "6673     6.950205\n",
              "6675    10.456308\n",
              "6677    28.166603\n",
              "6679     7.804825\n",
              "Name: Milk, Length: 2400, dtype: float64"
            ]
          },
          "metadata": {
            "tags": []
          },
          "execution_count": 74
        }
      ]
    },
    {
      "cell_type": "markdown",
      "metadata": {
        "id": "Lb8eifi-80CE",
        "colab_type": "text"
      },
      "source": [
        "# 類別1訓練model並做預測"
      ]
    },
    {
      "cell_type": "code",
      "metadata": {
        "id": "btOqREjDrMyq",
        "colab_type": "code",
        "colab": {
          "base_uri": "https://localhost:8080/",
          "height": 251
        },
        "outputId": "59ee7d06-7684-475e-e745-4e0bbc95b2d3"
      },
      "source": [
        "X_one = X_one.astype('float32')\n",
        "scaler = MinMaxScaler(feature_range=(0, 1))\n",
        "X_one = scaler.fit_transform(X_one)\n",
        "X_one"
      ],
      "execution_count": null,
      "outputs": [
        {
          "output_type": "execute_result",
          "data": {
            "text/plain": [
              "array([[1.        , 0.        , 0.        , ..., 0.32      , 0.24307692,\n",
              "        0.21069372],\n",
              "       [0.        , 1.        , 0.        , ..., 0.16      , 0.86461544,\n",
              "        0.8729719 ],\n",
              "       [0.        , 1.        , 0.        , ..., 0.20000002, 0.5446154 ,\n",
              "        0.5449523 ],\n",
              "       ...,\n",
              "       [0.        , 0.        , 1.        , ..., 0.16      , 0.51384616,\n",
              "        0.47756013],\n",
              "       [0.        , 1.        , 0.        , ..., 0.33333334, 0.81846154,\n",
              "        0.8310535 ],\n",
              "       [1.        , 0.        , 0.        , ..., 0.40666667, 0.79999995,\n",
              "        0.81713307]], dtype=float32)"
            ]
          },
          "metadata": {
            "tags": []
          },
          "execution_count": 75
        }
      ]
    },
    {
      "cell_type": "code",
      "metadata": {
        "id": "znSHAiR_rRFp",
        "colab_type": "code",
        "colab": {}
      },
      "source": [
        "x_train,x_test,y_train,y_test=train_test_split(X_one,classification_one_milk,test_size=0.033,random_state=42)\n",
        "#random_state為02.ipynb"
      ],
      "execution_count": null,
      "outputs": []
    },
    {
      "cell_type": "code",
      "metadata": {
        "id": "uZHMeflprRk2",
        "colab_type": "code",
        "colab": {
          "base_uri": "https://localhost:8080/",
          "height": 89
        },
        "outputId": "48ff3926-289d-4696-c75e-50df6f2388d1"
      },
      "source": [
        "print(\"Please show me the shape of x_train:\",x_train.shape)\n",
        "print(\"Please show me the shape of x_test:\",x_test.shape)\n",
        "print(\"Please show me the shape of y_train:\",y_train.shape)\n",
        "print(\"Please show me the shape of y_test:\",y_test.shape)"
      ],
      "execution_count": null,
      "outputs": [
        {
          "output_type": "stream",
          "text": [
            "Please show me the shape of x_train: (8621, 1858)\n",
            "Please show me the shape of x_test: (295, 1858)\n",
            "Please show me the shape of y_train: (8621,)\n",
            "Please show me the shape of y_test: (295,)\n"
          ],
          "name": "stdout"
        }
      ]
    },
    {
      "cell_type": "code",
      "metadata": {
        "id": "RilCmrh1wqW9",
        "colab_type": "code",
        "colab": {}
      },
      "source": [
        "x_train = np.reshape(x_train,(x_train.shape[0],1,x_train.shape[1]))#做成三維\n",
        "x_test = np.reshape(x_test,(x_test.shape[0],1,x_test.shape[1]))"
      ],
      "execution_count": null,
      "outputs": []
    },
    {
      "cell_type": "code",
      "metadata": {
        "id": "oo3Xa21nrTis",
        "colab_type": "code",
        "colab": {
          "base_uri": "https://localhost:8080/",
          "height": 1000
        },
        "outputId": "3e04c50e-9a70-4a13-c45a-a889ad1fc166"
      },
      "source": [
        "from keras.layers import Embedding, Bidirectional,TimeDistributed\n",
        "from keras.layers.normalization import BatchNormalization\n",
        "from keras.layers import Activation, Dense\n",
        "from keras.callbacks import EarlyStopping\n",
        "model = Sequential()#LSTM\n",
        "model.add(LSTM(64, input_shape=(1,x_train.shape[2])))\n",
        "model.add(Dropout(0.5))\n",
        "\n",
        "model.add(Dense(1))\n",
        "ADAM=keras.optimizers.Adam(lr=0.0005, beta_1=0.9, beta_2=0.999, epsilon=None, decay=0.0, amsgrad=False)\n",
        "model.compile(loss=rmse, optimizer=ADAM,metrics=[rmse])\n",
        "early_stopping=EarlyStopping(monitor='val_loss', patience=10)\n",
        "#reduce_lr = ReduceLROnPlateau(monitor='val_loss', factor=0.2, patience=5, min_lr=0.001)\n",
        "history=model.fit(x_train, y_train, epochs=500,validation_data=(x_test, y_test), batch_size=5, verbose=2, callbacks=[early_stopping],shuffle=True)#epochs要改回1000\n"
      ],
      "execution_count": null,
      "outputs": [
        {
          "output_type": "stream",
          "text": [
            "Epoch 1/500\n",
            "1725/1725 - 7s - loss: 8.2888 - rmse: 8.2852 - val_loss: 5.4151 - val_rmse: 5.4151\n",
            "Epoch 2/500\n",
            "1725/1725 - 6s - loss: 5.9971 - rmse: 5.9983 - val_loss: 5.2230 - val_rmse: 5.2230\n",
            "Epoch 3/500\n",
            "1725/1725 - 6s - loss: 5.7645 - rmse: 5.7653 - val_loss: 5.0181 - val_rmse: 5.0181\n",
            "Epoch 4/500\n",
            "1725/1725 - 7s - loss: 5.4453 - rmse: 5.4429 - val_loss: 4.7396 - val_rmse: 4.7396\n",
            "Epoch 5/500\n",
            "1725/1725 - 7s - loss: 5.1624 - rmse: 5.1623 - val_loss: 4.5356 - val_rmse: 4.5356\n",
            "Epoch 6/500\n",
            "1725/1725 - 7s - loss: 4.8345 - rmse: 4.8341 - val_loss: 4.4239 - val_rmse: 4.4239\n",
            "Epoch 7/500\n",
            "1725/1725 - 7s - loss: 4.6550 - rmse: 4.6551 - val_loss: 4.2857 - val_rmse: 4.2857\n",
            "Epoch 8/500\n",
            "1725/1725 - 7s - loss: 4.5795 - rmse: 4.5808 - val_loss: 4.2366 - val_rmse: 4.2366\n",
            "Epoch 9/500\n",
            "1725/1725 - 7s - loss: 4.4586 - rmse: 4.4576 - val_loss: 4.2560 - val_rmse: 4.2560\n",
            "Epoch 10/500\n",
            "1725/1725 - 7s - loss: 4.4342 - rmse: 4.4324 - val_loss: 4.1942 - val_rmse: 4.1942\n",
            "Epoch 11/500\n",
            "1725/1725 - 8s - loss: 4.4034 - rmse: 4.4024 - val_loss: 4.2438 - val_rmse: 4.2438\n",
            "Epoch 12/500\n",
            "1725/1725 - 7s - loss: 4.3347 - rmse: 4.3330 - val_loss: 4.1545 - val_rmse: 4.1545\n",
            "Epoch 13/500\n",
            "1725/1725 - 6s - loss: 4.3217 - rmse: 4.3211 - val_loss: 4.1150 - val_rmse: 4.1150\n",
            "Epoch 14/500\n",
            "1725/1725 - 6s - loss: 4.2807 - rmse: 4.2791 - val_loss: 4.1154 - val_rmse: 4.1154\n",
            "Epoch 15/500\n",
            "1725/1725 - 6s - loss: 4.2943 - rmse: 4.2939 - val_loss: 4.0824 - val_rmse: 4.0824\n",
            "Epoch 16/500\n",
            "1725/1725 - 7s - loss: 4.2487 - rmse: 4.2486 - val_loss: 4.0886 - val_rmse: 4.0886\n",
            "Epoch 17/500\n",
            "1725/1725 - 7s - loss: 4.2227 - rmse: 4.2229 - val_loss: 4.0659 - val_rmse: 4.0659\n",
            "Epoch 18/500\n",
            "1725/1725 - 7s - loss: 4.2232 - rmse: 4.2231 - val_loss: 4.0555 - val_rmse: 4.0555\n",
            "Epoch 19/500\n",
            "1725/1725 - 7s - loss: 4.1670 - rmse: 4.1651 - val_loss: 4.0274 - val_rmse: 4.0274\n",
            "Epoch 20/500\n",
            "1725/1725 - 7s - loss: 4.1331 - rmse: 4.1329 - val_loss: 4.0019 - val_rmse: 4.0019\n",
            "Epoch 21/500\n",
            "1725/1725 - 7s - loss: 4.1560 - rmse: 4.1557 - val_loss: 3.9721 - val_rmse: 3.9721\n",
            "Epoch 22/500\n",
            "1725/1725 - 7s - loss: 4.1156 - rmse: 4.1145 - val_loss: 3.9388 - val_rmse: 3.9388\n",
            "Epoch 23/500\n",
            "1725/1725 - 7s - loss: 4.0725 - rmse: 4.0723 - val_loss: 3.9326 - val_rmse: 3.9326\n",
            "Epoch 24/500\n",
            "1725/1725 - 7s - loss: 4.0941 - rmse: 4.0955 - val_loss: 3.9370 - val_rmse: 3.9370\n",
            "Epoch 25/500\n",
            "1725/1725 - 7s - loss: 4.0412 - rmse: 4.0402 - val_loss: 3.9296 - val_rmse: 3.9296\n",
            "Epoch 26/500\n",
            "1725/1725 - 7s - loss: 4.0385 - rmse: 4.0367 - val_loss: 3.8894 - val_rmse: 3.8894\n",
            "Epoch 27/500\n",
            "1725/1725 - 7s - loss: 4.0301 - rmse: 4.0296 - val_loss: 3.8872 - val_rmse: 3.8872\n",
            "Epoch 28/500\n",
            "1725/1725 - 7s - loss: 3.9736 - rmse: 3.9727 - val_loss: 3.9214 - val_rmse: 3.9214\n",
            "Epoch 29/500\n",
            "1725/1725 - 6s - loss: 3.9342 - rmse: 3.9323 - val_loss: 3.8663 - val_rmse: 3.8663\n",
            "Epoch 30/500\n",
            "1725/1725 - 6s - loss: 3.9874 - rmse: 3.9867 - val_loss: 3.8842 - val_rmse: 3.8842\n",
            "Epoch 31/500\n",
            "1725/1725 - 6s - loss: 3.9502 - rmse: 3.9492 - val_loss: 3.8214 - val_rmse: 3.8214\n",
            "Epoch 32/500\n",
            "1725/1725 - 6s - loss: 3.9443 - rmse: 3.9426 - val_loss: 3.8797 - val_rmse: 3.8797\n",
            "Epoch 33/500\n",
            "1725/1725 - 6s - loss: 3.9014 - rmse: 3.8997 - val_loss: 3.8107 - val_rmse: 3.8107\n",
            "Epoch 34/500\n",
            "1725/1725 - 6s - loss: 3.8838 - rmse: 3.8830 - val_loss: 3.7718 - val_rmse: 3.7718\n",
            "Epoch 35/500\n",
            "1725/1725 - 6s - loss: 3.8561 - rmse: 3.8549 - val_loss: 3.7690 - val_rmse: 3.7690\n",
            "Epoch 36/500\n",
            "1725/1725 - 6s - loss: 3.8260 - rmse: 3.8263 - val_loss: 3.7808 - val_rmse: 3.7808\n",
            "Epoch 37/500\n",
            "1725/1725 - 6s - loss: 3.7729 - rmse: 3.7714 - val_loss: 3.7566 - val_rmse: 3.7566\n",
            "Epoch 38/500\n",
            "1725/1725 - 6s - loss: 3.7869 - rmse: 3.7858 - val_loss: 3.7515 - val_rmse: 3.7515\n",
            "Epoch 39/500\n",
            "1725/1725 - 6s - loss: 3.7465 - rmse: 3.7452 - val_loss: 3.7233 - val_rmse: 3.7232\n",
            "Epoch 40/500\n",
            "1725/1725 - 6s - loss: 3.7161 - rmse: 3.7144 - val_loss: 3.7956 - val_rmse: 3.7956\n",
            "Epoch 41/500\n",
            "1725/1725 - 6s - loss: 3.7482 - rmse: 3.7465 - val_loss: 3.7424 - val_rmse: 3.7424\n",
            "Epoch 42/500\n",
            "1725/1725 - 6s - loss: 3.6997 - rmse: 3.6980 - val_loss: 3.7314 - val_rmse: 3.7314\n",
            "Epoch 43/500\n",
            "1725/1725 - 6s - loss: 3.6823 - rmse: 3.6815 - val_loss: 3.7255 - val_rmse: 3.7255\n",
            "Epoch 44/500\n",
            "1725/1725 - 6s - loss: 3.7048 - rmse: 3.7042 - val_loss: 3.7215 - val_rmse: 3.7215\n",
            "Epoch 45/500\n",
            "1725/1725 - 7s - loss: 3.6323 - rmse: 3.6308 - val_loss: 3.7150 - val_rmse: 3.7150\n",
            "Epoch 46/500\n",
            "1725/1725 - 6s - loss: 3.6093 - rmse: 3.6113 - val_loss: 3.6512 - val_rmse: 3.6512\n",
            "Epoch 47/500\n",
            "1725/1725 - 6s - loss: 3.6043 - rmse: 3.6028 - val_loss: 3.6853 - val_rmse: 3.6853\n",
            "Epoch 48/500\n",
            "1725/1725 - 6s - loss: 3.5797 - rmse: 3.5789 - val_loss: 3.6727 - val_rmse: 3.6727\n",
            "Epoch 49/500\n",
            "1725/1725 - 6s - loss: 3.5724 - rmse: 3.5711 - val_loss: 3.6736 - val_rmse: 3.6736\n",
            "Epoch 50/500\n",
            "1725/1725 - 6s - loss: 3.5509 - rmse: 3.5516 - val_loss: 3.6625 - val_rmse: 3.6625\n",
            "Epoch 51/500\n",
            "1725/1725 - 6s - loss: 3.5113 - rmse: 3.5109 - val_loss: 3.6721 - val_rmse: 3.6721\n",
            "Epoch 52/500\n",
            "1725/1725 - 7s - loss: 3.4992 - rmse: 3.4985 - val_loss: 3.6995 - val_rmse: 3.6995\n",
            "Epoch 53/500\n",
            "1725/1725 - 6s - loss: 3.4717 - rmse: 3.4748 - val_loss: 3.6941 - val_rmse: 3.6941\n",
            "Epoch 54/500\n",
            "1725/1725 - 7s - loss: 3.4612 - rmse: 3.4610 - val_loss: 3.6794 - val_rmse: 3.6794\n",
            "Epoch 55/500\n",
            "1725/1725 - 6s - loss: 3.4213 - rmse: 3.4197 - val_loss: 3.6462 - val_rmse: 3.6462\n",
            "Epoch 56/500\n",
            "1725/1725 - 7s - loss: 3.4396 - rmse: 3.4387 - val_loss: 3.6682 - val_rmse: 3.6682\n",
            "Epoch 57/500\n",
            "1725/1725 - 6s - loss: 3.3963 - rmse: 3.3975 - val_loss: 3.6533 - val_rmse: 3.6533\n",
            "Epoch 58/500\n",
            "1725/1725 - 7s - loss: 3.3814 - rmse: 3.3800 - val_loss: 3.6629 - val_rmse: 3.6629\n",
            "Epoch 59/500\n",
            "1725/1725 - 7s - loss: 3.3440 - rmse: 3.3439 - val_loss: 3.6365 - val_rmse: 3.6365\n",
            "Epoch 60/500\n",
            "1725/1725 - 7s - loss: 3.3146 - rmse: 3.3148 - val_loss: 3.6499 - val_rmse: 3.6499\n",
            "Epoch 61/500\n",
            "1725/1725 - 7s - loss: 3.2962 - rmse: 3.2954 - val_loss: 3.6433 - val_rmse: 3.6433\n",
            "Epoch 62/500\n",
            "1725/1725 - 6s - loss: 3.2774 - rmse: 3.2775 - val_loss: 3.6135 - val_rmse: 3.6135\n",
            "Epoch 63/500\n",
            "1725/1725 - 7s - loss: 3.2827 - rmse: 3.2832 - val_loss: 3.5849 - val_rmse: 3.5849\n",
            "Epoch 64/500\n",
            "1725/1725 - 6s - loss: 3.2807 - rmse: 3.2793 - val_loss: 3.5401 - val_rmse: 3.5401\n",
            "Epoch 65/500\n",
            "1725/1725 - 6s - loss: 3.1976 - rmse: 3.1982 - val_loss: 3.5657 - val_rmse: 3.5657\n",
            "Epoch 66/500\n",
            "1725/1725 - 6s - loss: 3.1804 - rmse: 3.1801 - val_loss: 3.5588 - val_rmse: 3.5588\n",
            "Epoch 67/500\n",
            "1725/1725 - 6s - loss: 3.2137 - rmse: 3.2162 - val_loss: 3.5635 - val_rmse: 3.5635\n",
            "Epoch 68/500\n",
            "1725/1725 - 6s - loss: 3.1782 - rmse: 3.1799 - val_loss: 3.5691 - val_rmse: 3.5691\n",
            "Epoch 69/500\n",
            "1725/1725 - 6s - loss: 3.1302 - rmse: 3.1312 - val_loss: 3.5833 - val_rmse: 3.5833\n",
            "Epoch 70/500\n",
            "1725/1725 - 6s - loss: 3.1610 - rmse: 3.1614 - val_loss: 3.5586 - val_rmse: 3.5586\n",
            "Epoch 71/500\n",
            "1725/1725 - 6s - loss: 3.1118 - rmse: 3.1107 - val_loss: 3.5550 - val_rmse: 3.5550\n",
            "Epoch 72/500\n",
            "1725/1725 - 6s - loss: 3.0974 - rmse: 3.0968 - val_loss: 3.5207 - val_rmse: 3.5207\n",
            "Epoch 73/500\n",
            "1725/1725 - 6s - loss: 3.0850 - rmse: 3.0842 - val_loss: 3.5325 - val_rmse: 3.5325\n",
            "Epoch 74/500\n",
            "1725/1725 - 6s - loss: 3.0431 - rmse: 3.0440 - val_loss: 3.5103 - val_rmse: 3.5103\n",
            "Epoch 75/500\n",
            "1725/1725 - 6s - loss: 3.0627 - rmse: 3.0625 - val_loss: 3.4896 - val_rmse: 3.4896\n",
            "Epoch 76/500\n",
            "1725/1725 - 6s - loss: 2.9990 - rmse: 3.0023 - val_loss: 3.5500 - val_rmse: 3.5500\n",
            "Epoch 77/500\n",
            "1725/1725 - 6s - loss: 3.0215 - rmse: 3.0206 - val_loss: 3.5360 - val_rmse: 3.5360\n",
            "Epoch 78/500\n",
            "1725/1725 - 6s - loss: 2.9773 - rmse: 2.9762 - val_loss: 3.5666 - val_rmse: 3.5666\n",
            "Epoch 79/500\n",
            "1725/1725 - 6s - loss: 2.9728 - rmse: 2.9717 - val_loss: 3.5078 - val_rmse: 3.5078\n",
            "Epoch 80/500\n",
            "1725/1725 - 6s - loss: 2.9597 - rmse: 2.9585 - val_loss: 3.5892 - val_rmse: 3.5892\n",
            "Epoch 81/500\n",
            "1725/1725 - 6s - loss: 2.9848 - rmse: 2.9856 - val_loss: 3.5314 - val_rmse: 3.5315\n",
            "Epoch 82/500\n",
            "1725/1725 - 6s - loss: 2.9477 - rmse: 2.9484 - val_loss: 3.5234 - val_rmse: 3.5234\n",
            "Epoch 83/500\n",
            "1725/1725 - 6s - loss: 2.8771 - rmse: 2.8759 - val_loss: 3.5813 - val_rmse: 3.5813\n",
            "Epoch 84/500\n",
            "1725/1725 - 6s - loss: 2.9473 - rmse: 2.9474 - val_loss: 3.5512 - val_rmse: 3.5512\n",
            "Epoch 85/500\n",
            "1725/1725 - 6s - loss: 2.9003 - rmse: 2.8990 - val_loss: 3.5391 - val_rmse: 3.5391\n"
          ],
          "name": "stdout"
        }
      ]
    },
    {
      "cell_type": "code",
      "metadata": {
        "id": "QgBHpGOFrVi6",
        "colab_type": "code",
        "colab": {
          "base_uri": "https://localhost:8080/",
          "height": 35
        },
        "outputId": "2f031760-2a6d-4933-e867-db751e7220a7"
      },
      "source": [
        "Predicts_1 = model.predict(x_train)\n",
        "testScore = math.sqrt(mean_squared_error(y_train, Predicts_1))\n",
        "print('Train Score: %.2f RMSE' % (testScore))\n"
      ],
      "execution_count": null,
      "outputs": [
        {
          "output_type": "stream",
          "text": [
            "Train Score: 2.69 RMSE\n"
          ],
          "name": "stdout"
        }
      ]
    },
    {
      "cell_type": "code",
      "metadata": {
        "id": "s4MjZWUyrXYh",
        "colab_type": "code",
        "colab": {
          "base_uri": "https://localhost:8080/",
          "height": 143
        },
        "outputId": "c0ab3d5e-a192-49e3-c163-e36563943944"
      },
      "source": [
        "Predicts_1"
      ],
      "execution_count": null,
      "outputs": [
        {
          "output_type": "execute_result",
          "data": {
            "text/plain": [
              "array([[17.559505],\n",
              "       [15.218203],\n",
              "       [13.391585],\n",
              "       ...,\n",
              "       [23.84446 ],\n",
              "       [18.18908 ],\n",
              "       [15.319914]], dtype=float32)"
            ]
          },
          "metadata": {
            "tags": []
          },
          "execution_count": 82
        }
      ]
    },
    {
      "cell_type": "code",
      "metadata": {
        "id": "IPnfHoTHrZSm",
        "colab_type": "code",
        "colab": {
          "base_uri": "https://localhost:8080/",
          "height": 35
        },
        "outputId": "d6b2928a-02d7-42f7-e901-dd21f3c0a114"
      },
      "source": [
        "Predict_1 = model.predict(x_test)\n",
        "testScore = math.sqrt(mean_squared_error(y_test, Predict_1))\n",
        "print('Validation Score: %.2f RMSE' % (testScore))"
      ],
      "execution_count": null,
      "outputs": [
        {
          "output_type": "stream",
          "text": [
            "Validation Score: 3.87 RMSE\n"
          ],
          "name": "stdout"
        }
      ]
    },
    {
      "cell_type": "code",
      "metadata": {
        "id": "sXmK4rytrbdf",
        "colab_type": "code",
        "colab": {
          "base_uri": "https://localhost:8080/",
          "height": 1000
        },
        "outputId": "b3a1a46b-0d23-41c5-cbae-d4a6af42244c"
      },
      "source": [
        "Predict_1"
      ],
      "execution_count": null,
      "outputs": [
        {
          "output_type": "execute_result",
          "data": {
            "text/plain": [
              "array([[24.216084 ],\n",
              "       [14.700892 ],\n",
              "       [24.233622 ],\n",
              "       [21.837477 ],\n",
              "       [26.473656 ],\n",
              "       [21.120052 ],\n",
              "       [24.20486  ],\n",
              "       [16.972996 ],\n",
              "       [25.628777 ],\n",
              "       [21.73526  ],\n",
              "       [22.503395 ],\n",
              "       [15.717723 ],\n",
              "       [23.139631 ],\n",
              "       [18.193237 ],\n",
              "       [16.202705 ],\n",
              "       [24.057589 ],\n",
              "       [13.883569 ],\n",
              "       [21.163116 ],\n",
              "       [24.218002 ],\n",
              "       [17.35728  ],\n",
              "       [23.372023 ],\n",
              "       [15.864109 ],\n",
              "       [25.34119  ],\n",
              "       [19.224163 ],\n",
              "       [14.14926  ],\n",
              "       [22.048008 ],\n",
              "       [12.383627 ],\n",
              "       [26.772469 ],\n",
              "       [24.320147 ],\n",
              "       [23.327164 ],\n",
              "       [18.127476 ],\n",
              "       [17.320257 ],\n",
              "       [17.459496 ],\n",
              "       [31.675625 ],\n",
              "       [ 8.49758  ],\n",
              "       [15.8966255],\n",
              "       [14.444252 ],\n",
              "       [11.660491 ],\n",
              "       [ 8.47254  ],\n",
              "       [20.926432 ],\n",
              "       [18.297283 ],\n",
              "       [15.313515 ],\n",
              "       [21.404217 ],\n",
              "       [17.972176 ],\n",
              "       [21.807823 ],\n",
              "       [16.104322 ],\n",
              "       [15.538506 ],\n",
              "       [16.069447 ],\n",
              "       [11.680458 ],\n",
              "       [15.314175 ],\n",
              "       [22.540016 ],\n",
              "       [24.908825 ],\n",
              "       [14.9604025],\n",
              "       [23.216503 ],\n",
              "       [24.760855 ],\n",
              "       [16.425095 ],\n",
              "       [17.05536  ],\n",
              "       [17.294785 ],\n",
              "       [19.920675 ],\n",
              "       [22.108276 ],\n",
              "       [12.626217 ],\n",
              "       [15.848114 ],\n",
              "       [19.685692 ],\n",
              "       [ 9.773735 ],\n",
              "       [11.347953 ],\n",
              "       [13.391094 ],\n",
              "       [12.042436 ],\n",
              "       [16.690796 ],\n",
              "       [18.685158 ],\n",
              "       [21.79174  ],\n",
              "       [17.870592 ],\n",
              "       [23.360352 ],\n",
              "       [18.694042 ],\n",
              "       [12.390585 ],\n",
              "       [33.053005 ],\n",
              "       [17.482529 ],\n",
              "       [12.421177 ],\n",
              "       [20.903954 ],\n",
              "       [25.42115  ],\n",
              "       [20.728691 ],\n",
              "       [14.794985 ],\n",
              "       [21.782063 ],\n",
              "       [17.430534 ],\n",
              "       [19.383684 ],\n",
              "       [18.361103 ],\n",
              "       [21.961338 ],\n",
              "       [25.952354 ],\n",
              "       [12.571834 ],\n",
              "       [21.853838 ],\n",
              "       [12.05658  ],\n",
              "       [27.047207 ],\n",
              "       [17.723806 ],\n",
              "       [16.939098 ],\n",
              "       [15.044736 ],\n",
              "       [13.267405 ],\n",
              "       [21.794144 ],\n",
              "       [ 9.914218 ],\n",
              "       [13.880213 ],\n",
              "       [21.873146 ],\n",
              "       [12.506714 ],\n",
              "       [18.272532 ],\n",
              "       [17.82611  ],\n",
              "       [ 8.842877 ],\n",
              "       [21.618015 ],\n",
              "       [18.14029  ],\n",
              "       [18.941942 ],\n",
              "       [12.073488 ],\n",
              "       [13.535175 ],\n",
              "       [19.267147 ],\n",
              "       [25.431252 ],\n",
              "       [23.254759 ],\n",
              "       [22.404099 ],\n",
              "       [ 9.680126 ],\n",
              "       [14.806507 ],\n",
              "       [16.163383 ],\n",
              "       [21.086514 ],\n",
              "       [19.91758  ],\n",
              "       [24.83717  ],\n",
              "       [16.003935 ],\n",
              "       [12.468973 ],\n",
              "       [23.423214 ],\n",
              "       [18.963947 ],\n",
              "       [24.063509 ],\n",
              "       [15.958292 ],\n",
              "       [13.515652 ],\n",
              "       [12.173618 ],\n",
              "       [23.765598 ],\n",
              "       [ 6.2749023],\n",
              "       [30.331673 ],\n",
              "       [10.730229 ],\n",
              "       [ 7.8834643],\n",
              "       [11.792055 ],\n",
              "       [16.571894 ],\n",
              "       [11.256325 ],\n",
              "       [12.867256 ],\n",
              "       [15.116513 ],\n",
              "       [15.072426 ],\n",
              "       [21.013756 ],\n",
              "       [ 7.915471 ],\n",
              "       [23.38768  ],\n",
              "       [15.636932 ],\n",
              "       [22.617954 ],\n",
              "       [16.398212 ],\n",
              "       [24.989502 ],\n",
              "       [21.426842 ],\n",
              "       [18.22479  ],\n",
              "       [15.331732 ],\n",
              "       [14.1885   ],\n",
              "       [21.537056 ],\n",
              "       [13.673077 ],\n",
              "       [ 8.194248 ],\n",
              "       [27.87735  ],\n",
              "       [12.432471 ],\n",
              "       [18.356785 ],\n",
              "       [17.184288 ],\n",
              "       [12.192907 ],\n",
              "       [18.277931 ],\n",
              "       [27.144691 ],\n",
              "       [17.209972 ],\n",
              "       [15.66605  ],\n",
              "       [15.646755 ],\n",
              "       [31.62033  ],\n",
              "       [17.20747  ],\n",
              "       [11.812023 ],\n",
              "       [15.175459 ],\n",
              "       [23.720947 ],\n",
              "       [14.218666 ],\n",
              "       [18.036835 ],\n",
              "       [11.535065 ],\n",
              "       [31.103622 ],\n",
              "       [15.861223 ],\n",
              "       [17.205116 ],\n",
              "       [15.148952 ],\n",
              "       [18.253849 ],\n",
              "       [25.810005 ],\n",
              "       [15.706512 ],\n",
              "       [20.67783  ],\n",
              "       [24.251839 ],\n",
              "       [16.512043 ],\n",
              "       [13.024998 ],\n",
              "       [17.204952 ],\n",
              "       [17.03739  ],\n",
              "       [25.870728 ],\n",
              "       [19.372452 ],\n",
              "       [11.158192 ],\n",
              "       [28.053116 ],\n",
              "       [15.880928 ],\n",
              "       [24.849842 ],\n",
              "       [24.887905 ],\n",
              "       [13.543627 ],\n",
              "       [19.631767 ],\n",
              "       [15.117369 ],\n",
              "       [17.547588 ],\n",
              "       [15.505995 ],\n",
              "       [13.365498 ],\n",
              "       [20.170647 ],\n",
              "       [14.587643 ],\n",
              "       [15.720616 ],\n",
              "       [15.241918 ],\n",
              "       [19.416279 ],\n",
              "       [25.097672 ],\n",
              "       [11.811899 ],\n",
              "       [20.822533 ],\n",
              "       [11.200898 ],\n",
              "       [17.419655 ],\n",
              "       [22.471432 ],\n",
              "       [11.795841 ],\n",
              "       [31.783604 ],\n",
              "       [15.669369 ],\n",
              "       [15.691851 ],\n",
              "       [24.114079 ],\n",
              "       [15.72225  ],\n",
              "       [16.057259 ],\n",
              "       [20.072256 ],\n",
              "       [23.518177 ],\n",
              "       [16.606367 ],\n",
              "       [21.497898 ],\n",
              "       [10.382018 ],\n",
              "       [19.778662 ],\n",
              "       [10.232095 ],\n",
              "       [18.959515 ],\n",
              "       [18.993227 ],\n",
              "       [23.815533 ],\n",
              "       [14.203425 ],\n",
              "       [19.89661  ],\n",
              "       [16.147055 ],\n",
              "       [10.826035 ],\n",
              "       [11.040687 ],\n",
              "       [25.889248 ],\n",
              "       [29.25605  ],\n",
              "       [21.559559 ],\n",
              "       [20.439161 ],\n",
              "       [ 8.601229 ],\n",
              "       [29.436443 ],\n",
              "       [26.783123 ],\n",
              "       [18.543499 ],\n",
              "       [17.976028 ],\n",
              "       [19.379147 ],\n",
              "       [18.61645  ],\n",
              "       [14.252744 ],\n",
              "       [18.051018 ],\n",
              "       [27.555943 ],\n",
              "       [ 9.516551 ],\n",
              "       [17.129513 ],\n",
              "       [24.265324 ],\n",
              "       [17.894075 ],\n",
              "       [12.534569 ],\n",
              "       [12.842132 ],\n",
              "       [15.788967 ],\n",
              "       [14.992971 ],\n",
              "       [17.24784  ],\n",
              "       [17.189632 ],\n",
              "       [23.591    ],\n",
              "       [10.134832 ],\n",
              "       [20.16689  ],\n",
              "       [21.880985 ],\n",
              "       [22.969166 ],\n",
              "       [10.759222 ],\n",
              "       [18.69254  ],\n",
              "       [26.106995 ],\n",
              "       [25.491127 ],\n",
              "       [20.58701  ],\n",
              "       [22.6492   ],\n",
              "       [12.464952 ],\n",
              "       [33.082996 ],\n",
              "       [26.658146 ],\n",
              "       [21.719425 ],\n",
              "       [10.463182 ],\n",
              "       [12.89484  ],\n",
              "       [16.205257 ],\n",
              "       [16.16763  ],\n",
              "       [12.746144 ],\n",
              "       [13.538724 ],\n",
              "       [15.935555 ],\n",
              "       [11.994546 ],\n",
              "       [23.907925 ],\n",
              "       [19.97596  ],\n",
              "       [17.153168 ],\n",
              "       [16.119799 ],\n",
              "       [17.780575 ],\n",
              "       [23.602493 ],\n",
              "       [21.847672 ],\n",
              "       [20.951574 ],\n",
              "       [14.7059765],\n",
              "       [15.243448 ],\n",
              "       [19.700947 ],\n",
              "       [21.856659 ],\n",
              "       [24.439701 ],\n",
              "       [20.16462  ],\n",
              "       [26.383541 ],\n",
              "       [20.343918 ],\n",
              "       [17.427841 ],\n",
              "       [13.280453 ],\n",
              "       [13.8351   ],\n",
              "       [17.00767  ]], dtype=float32)"
            ]
          },
          "metadata": {
            "tags": []
          },
          "execution_count": 84
        }
      ]
    },
    {
      "cell_type": "code",
      "metadata": {
        "id": "O99wXjbYrc7Y",
        "colab_type": "code",
        "colab": {
          "base_uri": "https://localhost:8080/",
          "height": 233
        },
        "outputId": "d03b3f59-7d05-462a-b339-d4cb4c1ace73"
      },
      "source": [
        "y_train"
      ],
      "execution_count": null,
      "outputs": [
        {
          "output_type": "execute_result",
          "data": {
            "text/plain": [
              "2025     18.2\n",
              "3177     17.9\n",
              "21578    11.8\n",
              "16032    24.0\n",
              "3893     10.0\n",
              "         ... \n",
              "17101    19.0\n",
              "15436    30.0\n",
              "16031    26.0\n",
              "2532     19.2\n",
              "21585    14.0\n",
              "Name: Milk, Length: 8621, dtype: float64"
            ]
          },
          "metadata": {
            "tags": []
          },
          "execution_count": 85
        }
      ]
    },
    {
      "cell_type": "code",
      "metadata": {
        "id": "4QNJVs3_rfCh",
        "colab_type": "code",
        "colab": {
          "base_uri": "https://localhost:8080/",
          "height": 233
        },
        "outputId": "129db5e7-ad0c-4562-a3a1-32177d60cc98"
      },
      "source": [
        "y_test"
      ],
      "execution_count": null,
      "outputs": [
        {
          "output_type": "execute_result",
          "data": {
            "text/plain": [
              "5083     28.0\n",
              "17503    15.5\n",
              "13728    24.8\n",
              "20568    16.9\n",
              "23513    23.0\n",
              "         ... \n",
              "3117     13.0\n",
              "24315    20.4\n",
              "21418    15.0\n",
              "21354    13.0\n",
              "21583    21.0\n",
              "Name: Milk, Length: 295, dtype: float64"
            ]
          },
          "metadata": {
            "tags": []
          },
          "execution_count": 86
        }
      ]
    },
    {
      "cell_type": "code",
      "metadata": {
        "id": "TncqdASwrg6L",
        "colab_type": "code",
        "colab": {
          "base_uri": "https://localhost:8080/",
          "height": 233
        },
        "outputId": "ab3fa4a7-9097-4e4e-8061-8fbb127e4d3a"
      },
      "source": [
        "y_train_1=y_train\n",
        "for i in range(len(y_train)):\n",
        "  y_train_1[y_train.index[i]]=Predicts_1[i]\n",
        "\n",
        "y_train_1"
      ],
      "execution_count": null,
      "outputs": [
        {
          "output_type": "execute_result",
          "data": {
            "text/plain": [
              "2025     17.559505\n",
              "3177     15.218203\n",
              "21578    13.391585\n",
              "16032    23.704939\n",
              "3893      9.291218\n",
              "           ...    \n",
              "17101    24.519226\n",
              "15436    29.734917\n",
              "16031    23.844460\n",
              "2532     18.189079\n",
              "21585    15.319914\n",
              "Name: Milk, Length: 8621, dtype: float64"
            ]
          },
          "metadata": {
            "tags": []
          },
          "execution_count": 87
        }
      ]
    },
    {
      "cell_type": "code",
      "metadata": {
        "id": "GJwzpNhmridz",
        "colab_type": "code",
        "colab": {
          "base_uri": "https://localhost:8080/",
          "height": 233
        },
        "outputId": "02499bfd-175f-4529-98ed-3eb54eb2559a"
      },
      "source": [
        "y_test_1=y_test\n",
        "for i in range(len(y_test)):\n",
        "  y_test_1[y_test.index[i]]=Predict_1[i]\n",
        "\n",
        "y_test_1"
      ],
      "execution_count": null,
      "outputs": [
        {
          "output_type": "execute_result",
          "data": {
            "text/plain": [
              "5083     24.216084\n",
              "17503    14.700892\n",
              "13728    24.233622\n",
              "20568    21.837477\n",
              "23513    26.473656\n",
              "           ...    \n",
              "3117     20.343918\n",
              "24315    17.427841\n",
              "21418    13.280453\n",
              "21354    13.835100\n",
              "21583    17.007669\n",
              "Name: Milk, Length: 295, dtype: float64"
            ]
          },
          "metadata": {
            "tags": []
          },
          "execution_count": 88
        }
      ]
    },
    {
      "cell_type": "code",
      "metadata": {
        "id": "-N6_9t0Prkml",
        "colab_type": "code",
        "colab": {}
      },
      "source": [
        "#X_test=X_test.values\n",
        "X_one_test=X_one_test.astype('float32')\n",
        "X_one_test=scaler.transform(X_one_test)"
      ],
      "execution_count": null,
      "outputs": []
    },
    {
      "cell_type": "code",
      "metadata": {
        "id": "_e7XRVIirmXn",
        "colab_type": "code",
        "colab": {
          "base_uri": "https://localhost:8080/",
          "height": 35
        },
        "outputId": "cbdeec97-55d4-40ef-854c-5b840ba1653b"
      },
      "source": [
        "X_one_test.shape"
      ],
      "execution_count": null,
      "outputs": [
        {
          "output_type": "execute_result",
          "data": {
            "text/plain": [
              "(4283, 1858)"
            ]
          },
          "metadata": {
            "tags": []
          },
          "execution_count": 90
        }
      ]
    },
    {
      "cell_type": "code",
      "metadata": {
        "id": "8AuE9xMBroDV",
        "colab_type": "code",
        "colab": {}
      },
      "source": [
        "X_one_test= np.reshape(X_one_test,(X_one_test.shape[0],1,X_one_test.shape[1]))"
      ],
      "execution_count": null,
      "outputs": []
    },
    {
      "cell_type": "code",
      "metadata": {
        "id": "l3wO-p8rrqe1",
        "colab_type": "code",
        "colab": {
          "base_uri": "https://localhost:8080/",
          "height": 35
        },
        "outputId": "a9babd5b-f22d-4420-85f3-5b5aa05207d2"
      },
      "source": [
        "X_one_test.shape"
      ],
      "execution_count": null,
      "outputs": [
        {
          "output_type": "execute_result",
          "data": {
            "text/plain": [
              "(4283, 1, 1858)"
            ]
          },
          "metadata": {
            "tags": []
          },
          "execution_count": 92
        }
      ]
    },
    {
      "cell_type": "code",
      "metadata": {
        "id": "vC5cthzBrsCp",
        "colab_type": "code",
        "colab": {
          "base_uri": "https://localhost:8080/",
          "height": 143
        },
        "outputId": "48535f1f-7038-4c14-dc37-4eb444bc08d4"
      },
      "source": [
        "Prediction_1 = model.predict(X_one_test)\n",
        "Prediction_1"
      ],
      "execution_count": null,
      "outputs": [
        {
          "output_type": "execute_result",
          "data": {
            "text/plain": [
              "array([[36.60755 ],\n",
              "       [29.495052],\n",
              "       [19.542248],\n",
              "       ...,\n",
              "       [28.23336 ],\n",
              "       [29.26455 ],\n",
              "       [19.393452]], dtype=float32)"
            ]
          },
          "metadata": {
            "tags": []
          },
          "execution_count": 93
        }
      ]
    },
    {
      "cell_type": "code",
      "metadata": {
        "id": "Sg45rJPsrti5",
        "colab_type": "code",
        "colab": {
          "base_uri": "https://localhost:8080/",
          "height": 233
        },
        "outputId": "045212e8-5cda-433d-bc93-58567abe2300"
      },
      "source": [
        "classification_one_milk_test"
      ],
      "execution_count": null,
      "outputs": [
        {
          "output_type": "execute_result",
          "data": {
            "text/plain": [
              "0       40.0\n",
              "1       28.0\n",
              "3       35.0\n",
              "4       28.8\n",
              "5       43.9\n",
              "        ... \n",
              "6676    29.0\n",
              "6678    39.0\n",
              "6680    30.6\n",
              "6681    20.0\n",
              "6682    16.0\n",
              "Name: Milk, Length: 4283, dtype: float64"
            ]
          },
          "metadata": {
            "tags": []
          },
          "execution_count": 94
        }
      ]
    },
    {
      "cell_type": "code",
      "metadata": {
        "id": "O2QZUuNIrvNT",
        "colab_type": "code",
        "colab": {
          "base_uri": "https://localhost:8080/",
          "height": 35
        },
        "outputId": "42d7ad3a-ef13-4608-99d9-99dddb89b738"
      },
      "source": [
        "testScore = math.sqrt(mean_squared_error(classification_one_milk_test, Prediction_1))\n",
        "print('Test Score: %.2f RMSE' % (testScore))"
      ],
      "execution_count": null,
      "outputs": [
        {
          "output_type": "stream",
          "text": [
            "Test Score: 7.15 RMSE\n"
          ],
          "name": "stdout"
        }
      ]
    },
    {
      "cell_type": "code",
      "metadata": {
        "id": "8Hnbb9MfrxPw",
        "colab_type": "code",
        "colab": {
          "base_uri": "https://localhost:8080/",
          "height": 233
        },
        "outputId": "803ce618-c0d3-4227-cb7d-7d901db6e8e5"
      },
      "source": [
        "classification_one_milk_test_1=classification_one_milk_test\n",
        "for i in range(len(classification_one_milk_test)):\n",
        "  classification_one_milk_test_1[classification_one_milk_test.index[i]]=Prediction_1[i]\n",
        "\n",
        "classification_one_milk_test_1"
      ],
      "execution_count": null,
      "outputs": [
        {
          "output_type": "execute_result",
          "data": {
            "text/plain": [
              "0       36.607552\n",
              "1       29.495052\n",
              "3       19.542248\n",
              "4       26.348450\n",
              "5       23.050297\n",
              "          ...    \n",
              "6676    30.026051\n",
              "6678    34.392078\n",
              "6680    28.233360\n",
              "6681    29.264549\n",
              "6682    19.393452\n",
              "Name: Milk, Length: 4283, dtype: float64"
            ]
          },
          "metadata": {
            "tags": []
          },
          "execution_count": 96
        }
      ]
    },
    {
      "cell_type": "markdown",
      "metadata": {
        "id": "A8gwLPIxwyVG",
        "colab_type": "text"
      },
      "source": [
        "# 合併test並且依照index排序"
      ]
    },
    {
      "cell_type": "markdown",
      "metadata": {
        "id": "Htshx7krE60l",
        "colab_type": "text"
      },
      "source": [
        "# 計算test所有與實際差距"
      ]
    },
    {
      "cell_type": "code",
      "metadata": {
        "id": "17SfwASAZ0lV",
        "colab_type": "code",
        "colab": {}
      },
      "source": [
        "from numpy import ndarray\n",
        "import numpy as np\n",
        "compare=np.zeros(5,int)\n",
        "#0-2,3-5,6-8,9-11,11以上\n",
        "#print(compare[0])\n",
        "#print(compare[1])\n",
        "#print(compare[2])\n",
        "#print(compare[3])\n",
        "#print(compare[4])"
      ],
      "execution_count": null,
      "outputs": []
    },
    {
      "cell_type": "code",
      "metadata": {
        "id": "s43e5kNTNRpe",
        "colab_type": "code",
        "colab": {}
      },
      "source": [
        "y=0\n",
        "for i in range(6683):\n",
        "  temp=y_fortest[i]-Prediction[i]\n",
        "  num=abs(temp)\n",
        "  if num>0 and num<=2:\n",
        "    compare[0]=compare[0]+1\n",
        "  elif num>2 and num <=5:\n",
        "    compare[1]=compare[1]+1\n",
        "  elif num>5 and num <=8:\n",
        "    compare[2]=compare[2]+1\n",
        "  elif num>8 and num <=11:\n",
        "    compare[3]=compare[3]+1\n",
        "  elif num>11:\n",
        "    compare[4]=compare[4]+1"
      ],
      "execution_count": null,
      "outputs": []
    },
    {
      "cell_type": "code",
      "metadata": {
        "id": "i_73Q_hBeA9p",
        "colab_type": "code",
        "colab": {
          "base_uri": "https://localhost:8080/",
          "height": 35
        },
        "outputId": "9f87866f-d209-4e49-af55-1ccb4eefc756"
      },
      "source": [
        "print(compare[0],compare[1],compare[2],compare[3],compare[4])"
      ],
      "execution_count": null,
      "outputs": [
        {
          "output_type": "stream",
          "text": [
            "2890 2265 902 350 276\n"
          ],
          "name": "stdout"
        }
      ]
    },
    {
      "cell_type": "code",
      "metadata": {
        "id": "vviKXJ8ZfRjh",
        "colab_type": "code",
        "colab": {
          "base_uri": "https://localhost:8080/",
          "height": 285
        },
        "outputId": "7624d935-0693-4ee2-8447-a3ec92895887"
      },
      "source": [
        "import matplotlib.pyplot as plt\n",
        "x_ray=['0-2','3-5','6-8','9-11','11up']\n",
        "plt.bar(x_ray, compare, label = 'compare')\n"
      ],
      "execution_count": null,
      "outputs": [
        {
          "output_type": "execute_result",
          "data": {
            "text/plain": [
              "<BarContainer object of 5 artists>"
            ]
          },
          "metadata": {
            "tags": []
          },
          "execution_count": 180
        },
        {
          "output_type": "display_data",
          "data": {
            "image/png": "[encoded data removed]",
            "text/plain": [
              "<Figure size 432x288 with 1 Axes>"
            ]
          },
          "metadata": {
            "tags": [],
            "needs_background": "light"
          }
        }
      ]
    },
    {
      "cell_type": "code",
      "metadata": {
        "id": "SjRjKAH1mMKi",
        "colab_type": "code",
        "colab": {
          "base_uri": "https://localhost:8080/",
          "height": 285
        },
        "outputId": "c02cd268-e2f1-4535-97e5-a2152a8947bc"
      },
      "source": [
        "print(plt.bar(x_ray, compare, label = 'compare'))"
      ],
      "execution_count": null,
      "outputs": [
        {
          "output_type": "stream",
          "text": [
            "<BarContainer object of 5 artists>\n"
          ],
          "name": "stdout"
        },
        {
          "output_type": "display_data",
          "data": {
            "image/png": "[encoded data removed]",
            "text/plain": [
              "<Figure size 432x288 with 1 Axes>"
            ]
          },
          "metadata": {
            "tags": [],
            "needs_background": "light"
          }
        }
      ]
    }
  ]
}